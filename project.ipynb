{
  "cells": [
    {
      "cell_type": "markdown",
      "metadata": {
        "id": "4uF_KywH0yV9"
      },
      "source": [
        "# Ноутбук для проекта\n",
        "\n",
        "https://github.com/MaryIzo/taro_bot/tree/master   \n",
        "\n",
        "https://colab.research.google.com/drive/1fbu1NBi_hrWDR0kJu32jvdVpFd8tugXA?usp=sharing   \n",
        "\n",
        "Описание проекта:   \n",
        "Часто бывает такое, что нужно принять какое-то важдое решение и \"посоветоваться\" с судьбой. Основываясь вероятностях и случайности и возможности человека обратиться с каким-то вопросом к искуственному интеллекту.  \n",
        "Последнее время в интернете стали очень популярны гадания на картах таро, которые окружают себя ореолом таинственности, но по сути основаны на случайном выпадении карт в ответ на ваши вопросы.   \n",
        "Давайте попробуем повторить это.  \n",
        "    \n",
        "План выполнения:   \n",
        "1.  Добавим в модель промт, который превращает ее в гадалку\n",
        "2.  Разобьем все возможные гадания на несколько вариантов: карта на день, прошлое настоящее будущее, вопрос, кельтский крест. От типа расклада зависит количество карт.    \n",
        "3.  Используем RAG и случайность для того чтобы возвращать ответ на вопрос.  \n",
        "4.  Надо разбить текст на части в которых есть:\n",
        "     - описание каждого типа расклада\n",
        "     - описание всех возможных карт\n",
        "     - картинки всех возможных карт (можно попробовать использовать мультимодальную модель)"
      ]
    },
    {
      "cell_type": "markdown",
      "metadata": {
        "id": "zDg0bWUhr3dz"
      },
      "source": [
        "\n",
        "<center> <img src='https://github.com/a-milenkin/LLM_practical_course/blob/main/images/RAG.png?raw=1' width=\"800\" height=\"250\">\n"
      ]
    },
    {
      "cell_type": "markdown",
      "metadata": {
        "id": "_-iUm3fO6jiJ"
      },
      "source": [
        "### Импорты всех необходимых библиотек"
      ]
    },
    {
      "cell_type": "code",
      "execution_count": null,
      "metadata": {
        "colab": {
          "base_uri": "https://localhost:8080/"
        },
        "id": "jcJjFGRH-Gp-",
        "outputId": "fe07d697-722b-4a55-a4f7-e2526267a187"
      },
      "outputs": [
        {
          "name": "stdout",
          "output_type": "stream",
          "text": [
            "Python 3.10.12\n"
          ]
        }
      ],
      "source": [
        "!python --version"
      ]
    },
    {
      "cell_type": "code",
      "execution_count": null,
      "metadata": {
        "colab": {
          "base_uri": "https://localhost:8080/"
        },
        "id": "Yk-K_mHMs7ns",
        "outputId": "6076fa4a-49fa-45cc-f50b-a4d71b4f1a0d"
      },
      "outputs": [
        {
          "name": "stdout",
          "output_type": "stream",
          "text": [
            "\u001b[2K     \u001b[90m━━━━━━━━━━━━━━━━━━━━━━━━━━━━━━━━━━━━━━━━\u001b[0m \u001b[32m50.4/50.4 kB\u001b[0m \u001b[31m1.7 MB/s\u001b[0m eta \u001b[36m0:00:00\u001b[0m\n",
            "\u001b[2K   \u001b[90m━━━━━━━━━━━━━━━━━━━━━━━━━━━━━━━━━━━━━━━━\u001b[0m \u001b[32m374.1/374.1 kB\u001b[0m \u001b[31m1.8 MB/s\u001b[0m eta \u001b[36m0:00:00\u001b[0m\n",
            "\u001b[2K   \u001b[90m━━━━━━━━━━━━━━━━━━━━━━━━━━━━━━━━━━━━━━━━\u001b[0m \u001b[32m1.0/1.0 MB\u001b[0m \u001b[31m2.0 MB/s\u001b[0m eta \u001b[36m0:00:00\u001b[0m\n",
            "\u001b[2K   \u001b[90m━━━━━━━━━━━━━━━━━━━━━━━━━━━━━━━━━━━━━━━━\u001b[0m \u001b[32m1.1/1.1 MB\u001b[0m \u001b[31m1.3 MB/s\u001b[0m eta \u001b[36m0:00:00\u001b[0m\n",
            "\u001b[2K   \u001b[90m━━━━━━━━━━━━━━━━━━━━━━━━━━━━━━━━━━━━━━━━\u001b[0m \u001b[32m51.5/51.5 kB\u001b[0m \u001b[31m639.3 kB/s\u001b[0m eta \u001b[36m0:00:00\u001b[0m\n",
            "\u001b[2K   \u001b[90m━━━━━━━━━━━━━━━━━━━━━━━━━━━━━━━━━━━━━━━━\u001b[0m \u001b[32m2.3/2.3 MB\u001b[0m \u001b[31m529.2 kB/s\u001b[0m eta \u001b[36m0:00:00\u001b[0m\n",
            "\u001b[2K   \u001b[90m━━━━━━━━━━━━━━━━━━━━━━━━━━━━━━━━━━━━━━━━\u001b[0m \u001b[32m249.1/249.1 kB\u001b[0m \u001b[31m464.5 kB/s\u001b[0m eta \u001b[36m0:00:00\u001b[0m\n",
            "\u001b[2K   \u001b[90m━━━━━━━━━━━━━━━━━━━━━━━━━━━━━━━━━━━━━━━━\u001b[0m \u001b[32m27.0/27.0 MB\u001b[0m \u001b[31m1.2 MB/s\u001b[0m eta \u001b[36m0:00:00\u001b[0m\n",
            "\u001b[2K   \u001b[90m━━━━━━━━━━━━━━━━━━━━━━━━━━━━━━━━━━━━━━━━\u001b[0m \u001b[32m295.8/295.8 kB\u001b[0m \u001b[31m764.8 kB/s\u001b[0m eta \u001b[36m0:00:00\u001b[0m\n",
            "\u001b[2K   \u001b[90m━━━━━━━━━━━━━━━━━━━━━━━━━━━━━━━━━━━━━━━━\u001b[0m \u001b[32m76.4/76.4 kB\u001b[0m \u001b[31m585.7 kB/s\u001b[0m eta \u001b[36m0:00:00\u001b[0m\n",
            "\u001b[2K   \u001b[90m━━━━━━━━━━━━━━━━━━━━━━━━━━━━━━━━━━━━━━━━\u001b[0m \u001b[32m77.9/77.9 kB\u001b[0m \u001b[31m567.4 kB/s\u001b[0m eta \u001b[36m0:00:00\u001b[0m\n",
            "\u001b[2K   \u001b[90m━━━━━━━━━━━━━━━━━━━━━━━━━━━━━━━━━━━━━━━━\u001b[0m \u001b[32m318.9/318.9 kB\u001b[0m \u001b[31m751.2 kB/s\u001b[0m eta \u001b[36m0:00:00\u001b[0m\n",
            "\u001b[2K   \u001b[90m━━━━━━━━━━━━━━━━━━━━━━━━━━━━━━━━━━━━━━━━\u001b[0m \u001b[32m405.1/405.1 kB\u001b[0m \u001b[31m642.7 kB/s\u001b[0m eta \u001b[36m0:00:00\u001b[0m\n",
            "\u001b[2K   \u001b[90m━━━━━━━━━━━━━━━━━━━━━━━━━━━━━━━━━━━━━━━━\u001b[0m \u001b[32m289.8/289.8 kB\u001b[0m \u001b[31m633.0 kB/s\u001b[0m eta \u001b[36m0:00:00\u001b[0m\n",
            "\u001b[2K   \u001b[90m━━━━━━━━━━━━━━━━━━━━━━━━━━━━━━━━━━━━━━━━\u001b[0m \u001b[32m49.3/49.3 kB\u001b[0m \u001b[31m630.1 kB/s\u001b[0m eta \u001b[36m0:00:00\u001b[0m\n",
            "\u001b[2K   \u001b[90m━━━━━━━━━━━━━━━━━━━━━━━━━━━━━━━━━━━━━━━━\u001b[0m \u001b[32m141.9/141.9 kB\u001b[0m \u001b[31m766.9 kB/s\u001b[0m eta \u001b[36m0:00:00\u001b[0m\n",
            "\u001b[2K   \u001b[90m━━━━━━━━━━━━━━━━━━━━━━━━━━━━━━━━━━━━━━━━\u001b[0m \u001b[32m58.3/58.3 kB\u001b[0m \u001b[31m664.8 kB/s\u001b[0m eta \u001b[36m0:00:00\u001b[0m\n",
            "\u001b[?25h"
          ]
        }
      ],
      "source": [
        "!pip install openai langchain tiktoken langchain-openai langchain-community sentence_transformers faiss-cpu pypdf -q"
      ]
    },
    {
      "cell_type": "code",
      "execution_count": null,
      "metadata": {
        "id": "6VQci2WCU24T"
      },
      "outputs": [],
      "source": [
        "# !pip install chromadb"
      ]
    },
    {
      "cell_type": "code",
      "execution_count": null,
      "metadata": {
        "colab": {
          "base_uri": "https://localhost:8080/"
        },
        "id": "eE0fhMCGVPSf",
        "outputId": "6047c4b9-ddf0-4866-b92f-762735d1305f"
      },
      "outputs": [
        {
          "name": "stdout",
          "output_type": "stream",
          "text": [
            "Requirement already satisfied: transformers in /usr/local/lib/python3.10/dist-packages (4.44.2)\n",
            "Requirement already satisfied: requests in /usr/local/lib/python3.10/dist-packages (2.32.3)\n",
            "Requirement already satisfied: filelock in /usr/local/lib/python3.10/dist-packages (from transformers) (3.16.0)\n",
            "Requirement already satisfied: huggingface-hub<1.0,>=0.23.2 in /usr/local/lib/python3.10/dist-packages (from transformers) (0.24.6)\n",
            "Requirement already satisfied: numpy>=1.17 in /usr/local/lib/python3.10/dist-packages (from transformers) (1.26.4)\n",
            "Requirement already satisfied: packaging>=20.0 in /usr/local/lib/python3.10/dist-packages (from transformers) (24.1)\n",
            "Requirement already satisfied: pyyaml>=5.1 in /usr/local/lib/python3.10/dist-packages (from transformers) (6.0.2)\n",
            "Requirement already satisfied: regex!=2019.12.17 in /usr/local/lib/python3.10/dist-packages (from transformers) (2024.5.15)\n",
            "Requirement already satisfied: safetensors>=0.4.1 in /usr/local/lib/python3.10/dist-packages (from transformers) (0.4.5)\n",
            "Requirement already satisfied: tokenizers<0.20,>=0.19 in /usr/local/lib/python3.10/dist-packages (from transformers) (0.19.1)\n",
            "Requirement already satisfied: tqdm>=4.27 in /usr/local/lib/python3.10/dist-packages (from transformers) (4.66.5)\n",
            "Requirement already satisfied: charset-normalizer<4,>=2 in /usr/local/lib/python3.10/dist-packages (from requests) (3.3.2)\n",
            "Requirement already satisfied: idna<4,>=2.5 in /usr/local/lib/python3.10/dist-packages (from requests) (3.8)\n",
            "Requirement already satisfied: urllib3<3,>=1.21.1 in /usr/local/lib/python3.10/dist-packages (from requests) (2.0.7)\n",
            "Requirement already satisfied: certifi>=2017.4.17 in /usr/local/lib/python3.10/dist-packages (from requests) (2024.8.30)\n",
            "Requirement already satisfied: fsspec>=2023.5.0 in /usr/local/lib/python3.10/dist-packages (from huggingface-hub<1.0,>=0.23.2->transformers) (2024.6.1)\n",
            "Requirement already satisfied: typing-extensions>=3.7.4.3 in /usr/local/lib/python3.10/dist-packages (from huggingface-hub<1.0,>=0.23.2->transformers) (4.12.2)\n"
          ]
        }
      ],
      "source": [
        "!pip install transformers requests"
      ]
    },
    {
      "cell_type": "code",
      "execution_count": null,
      "metadata": {
        "id": "hcaodDnGplxx"
      },
      "outputs": [],
      "source": [
        "from typing import List\n",
        "from pypdf import PdfReader\n",
        "import pandas as pd\n",
        "from tqdm import tqdm\n",
        "import numpy as np\n",
        "import requests\n",
        "# import chromadb\n",
        "import random\n",
        "import pickle"
      ]
    },
    {
      "cell_type": "code",
      "execution_count": null,
      "metadata": {
        "id": "JD2gflH82NtC"
      },
      "outputs": [],
      "source": [
        "import pypdf"
      ]
    },
    {
      "cell_type": "code",
      "execution_count": null,
      "metadata": {
        "colab": {
          "base_uri": "https://localhost:8080/"
        },
        "id": "8MQVoFly2D1h",
        "outputId": "1bd706c5-a3c8-42f1-d9f0-052d2b081d59"
      },
      "outputs": [
        {
          "name": "stdout",
          "output_type": "stream",
          "text": [
            "requests==2.32.3\n",
            "requests-oauthlib==1.3.1\n"
          ]
        }
      ],
      "source": [
        "!pip freeze | grep requests"
      ]
    },
    {
      "cell_type": "code",
      "execution_count": null,
      "metadata": {
        "id": "9BVHrmeATpVd"
      },
      "outputs": [],
      "source": [
        "from langchain_community.document_loaders import PyPDFLoader\n",
        "from langchain.text_splitter import (\n",
        "    CharacterTextSplitter,\n",
        "    RecursiveCharacterTextSplitter,\n",
        ")\n",
        "from langchain.embeddings import HuggingFaceEmbeddings\n",
        "from langchain.schema import StrOutputParser\n",
        "from langchain_core.prompts import ChatPromptTemplate\n",
        "from langchain_core.runnables import RunnablePassthrough\n",
        "\n",
        "from langchain.vectorstores import FAISS\n",
        "from google.colab import drive"
      ]
    },
    {
      "cell_type": "markdown",
      "metadata": {
        "id": "07eTnsB26qP5"
      },
      "source": [
        "## Предобработка текстов"
      ]
    },
    {
      "cell_type": "markdown",
      "metadata": {
        "id": "-vjV3bP4LS64"
      },
      "source": [
        "### Собираем тексты для векторной базы"
      ]
    },
    {
      "cell_type": "code",
      "execution_count": null,
      "metadata": {
        "id": "kd8lIj1y4ZCX"
      },
      "outputs": [],
      "source": [
        "drive.mount('/content/drive')"
      ]
    },
    {
      "cell_type": "code",
      "execution_count": null,
      "metadata": {
        "colab": {
          "base_uri": "https://localhost:8080/"
        },
        "id": "VXPSFV2nsy5q",
        "outputId": "9eb44217-d30a-4289-872e-a82a8c30a8ed"
      },
      "outputs": [
        {
          "name": "stdout",
          "output_type": "stream",
          "text": [
            "Number of pages: 493\n"
          ]
        }
      ],
      "source": [
        "# creating a pdf reader object\n",
        "reader = PdfReader('drive/MyDrive/taro_bot/The Ultimate Guide to Tarot - A Beginner.pdf')\n",
        "number_of_pages = len(reader.pages)\n",
        "\n",
        "# printing number of pages in pdf file\n",
        "print('Number of pages:', number_of_pages)"
      ]
    },
    {
      "cell_type": "code",
      "execution_count": null,
      "metadata": {
        "id": "O9x1gRoWDo_b"
      },
      "outputs": [],
      "source": [
        "docs = []\n",
        "for j in range(41):\n",
        "  # getting a specific page from the pdf file\n",
        "  page = reader.pages[j]\n",
        "  # extracting text from page\n",
        "  text = page.extract_text()\n",
        "  docs.append(text.replace('\\t', ' ').replace('\\n', ' '))"
      ]
    },
    {
      "cell_type": "code",
      "execution_count": null,
      "metadata": {
        "colab": {
          "base_uri": "https://localhost:8080/"
        },
        "id": "SPJWX2h_ECvS",
        "outputId": "b42cc13b-892b-4b93-b30f-1aca49d5559f"
      },
      "outputs": [
        {
          "name": "stdout",
          "output_type": "stream",
          "text": [
            "41\n"
          ]
        }
      ],
      "source": [
        "print(len(docs))"
      ]
    },
    {
      "cell_type": "code",
      "execution_count": null,
      "metadata": {
        "id": "5Gl-1aCcEFmI"
      },
      "outputs": [],
      "source": [
        "str_docs = '\\n'.join(docs)"
      ]
    },
    {
      "cell_type": "code",
      "execution_count": null,
      "metadata": {
        "colab": {
          "base_uri": "https://localhost:8080/"
        },
        "id": "0dRtJv4uEqba",
        "outputId": "79026a71-fd67-471f-f9cd-8c037427bdd8"
      },
      "outputs": [
        {
          "name": "stdout",
          "output_type": "stream",
          "text": [
            "Средняя длина абзаца 820.6341463414634\n"
          ]
        }
      ],
      "source": [
        "x = [len(one_a) for one_a in str_docs.split('\\n')]\n",
        "print('Средняя длина абзаца', np.mean(x))"
      ]
    },
    {
      "cell_type": "code",
      "execution_count": null,
      "metadata": {
        "colab": {
          "base_uri": "https://localhost:8080/"
        },
        "id": "v6hSbx3S8uDL",
        "outputId": "a101ef7e-a341-4d4a-968e-82371b6d1bc3"
      },
      "outputs": [
        {
          "name": "stdout",
          "output_type": "stream",
          "text": [
            "33686\n"
          ]
        }
      ],
      "source": [
        "print(len(str_docs))"
      ]
    },
    {
      "cell_type": "markdown",
      "metadata": {
        "id": "bXAOJyCkI9Vc"
      },
      "source": [
        "### Сформируем тексты и картинки для всех карт"
      ]
    },
    {
      "cell_type": "code",
      "execution_count": null,
      "metadata": {
        "id": "796vN2OED08w"
      },
      "outputs": [],
      "source": [
        "card_images = [\n",
        "    45, 53, 62, 69, 78, 87, 96, 104, 113, 121, 129, 138, 147, 156, 164,\n",
        "    173, 182, 191, 199, 208, 217, 226, 239, 243, 247, 251, 255, 259, 263, 266,\n",
        "    267, 271, 275, 279, 283, 287, 291, 295, 299, 303, 307, 311, 315, 319, 323,\n",
        "    327, 331, 335, 339, 343, 347, 351, 355, 359, 363, 367, 371,\n",
        "    375, 379, 383, 387, 391, 395, 399, 403, 407, 411, 415, 419, 423,\n",
        "    427, 431, 435, 439, 443, 447, 451, 455, 459\n",
        "    ]\n",
        "end_idx = 472"
      ]
    },
    {
      "cell_type": "code",
      "execution_count": null,
      "metadata": {
        "id": "pcjGNlTyKDRj"
      },
      "outputs": [],
      "source": [
        "def save_page_image(page, name):\n",
        "  for count, image_file_object in enumerate(page.images):\n",
        "    with open(f\"\"\"drive/MyDrive/taro_bot/card_images/{name}\"\"\" + \"__\" + f\"\"\"{str(count) + image_file_object.name}\"\"\", \"wb\") as fp:\n",
        "        fp.write(image_file_object.data)\n",
        "    return name + \"__\" + f\"\"\"{str(count) + image_file_object.name}\"\"\"\n",
        "\n",
        "def get_image_name(text):\n",
        "  return text.split('\\n')[0].lower().replace(' ', '_').replace(',', '').replace('—', '')\n",
        "\n",
        "def get_card_description(short_description, img_name_idx, next_img_idx):\n",
        "    card_description = [short_description]\n",
        "    for k in range(img_name_idx+1, next_img_idx-1):\n",
        "      page = reader.pages[k]\n",
        "      text = page.extract_text()\n",
        "      card_description.append(text.replace('\\t', ' '))\n",
        "    return card_description"
      ]
    },
    {
      "cell_type": "markdown",
      "metadata": {
        "id": "ZzAV3Au3FDio"
      },
      "source": [
        "### Сохраняем все картинки в папочку card_images"
      ]
    },
    {
      "cell_type": "code",
      "execution_count": null,
      "metadata": {
        "id": "KFSBr3tQElb1"
      },
      "outputs": [],
      "source": [
        "cards_dictionary = {}\n",
        "\n",
        "for j in range(len(card_images)):\n",
        "  img = card_images[j]\n",
        "  img_idx = img - 1\n",
        "  img_name_idx = img - 2\n",
        "  if j < len(card_images)-1:\n",
        "    next_img_idx = card_images[j+1] - 1\n",
        "  else:\n",
        "    next_img_idx = end_idx - 1\n",
        "\n",
        "  page = reader.pages[img_name_idx]\n",
        "  short_description = page.extract_text().replace('\\t', ' ')\n",
        "  name = get_image_name(short_description)\n",
        "  if name == 'number_of_earthand_so_the_potential_to_bring_heaven_down_to_earth_to_manifest':\n",
        "    name = 'number_of_earthand'\n",
        "\n",
        "  card_description = get_card_description(short_description, img_name_idx, next_img_idx)\n",
        "  final_name = save_page_image(reader.pages[img_idx], name)\n",
        "\n",
        "  cards_dictionary[final_name] = card_description"
      ]
    },
    {
      "cell_type": "code",
      "execution_count": null,
      "metadata": {
        "id": "fPkcuyMpH-Mf"
      },
      "outputs": [],
      "source": [
        "# print('\\n'.join(card_description)"
      ]
    },
    {
      "cell_type": "code",
      "execution_count": null,
      "metadata": {
        "id": "o74tOUcC-HmO"
      },
      "outputs": [],
      "source": [
        "cnt = 0\n",
        "cards_meaning_splits = {}\n",
        "\n",
        "for key, val in cards_dictionary.items():\n",
        "  # print('Description len: ', len(val))\n",
        "\n",
        "  card_description = ' '.join(val)\n",
        "  if card_description.find('UPRIGHT MEANING') != -1:\n",
        "    upight_meaning = card_description[\n",
        "        card_description.find('UPRIGHT MEANING'):card_description.find('REVERSED MEANING')\n",
        "        ]\n",
        "  else:\n",
        "    upight_meaning = card_description[\n",
        "        card_description.find('UNDERSTANDING'):\n",
        "        ]\n",
        "  # print(upight_meaning)\n",
        "\n",
        "  if (\n",
        "      upight_meaning.find('Home') != -1\n",
        "      and upight_meaning.find('Relationships') != -1\n",
        "      and upight_meaning.find('Career and money') != -1\n",
        "      ):\n",
        "    meaning_split = [upight_meaning[:upight_meaning.find('Home')].replace('\\n', ' '),\n",
        "        upight_meaning[upight_meaning.find('Home'):upight_meaning.find('Relationships')].replace('\\n', ' '),\n",
        "        upight_meaning[upight_meaning.find('Relationships'):upight_meaning.find('Career and money')].replace('\\n', ' '),\n",
        "        upight_meaning[upight_meaning.find('Career and money'):].replace('\\n', ' ')\n",
        "    ]\n",
        "  else:\n",
        "    meaning_split = upight_meaning.replace('\\n', ' ').split('.')\n",
        "\n",
        "  cards_meaning_splits[key] = meaning_split\n",
        "\n",
        "  cnt += 1\n",
        "  # for split in meaning_split:\n",
        "  #   print(cnt, split)\n",
        "  # print()"
      ]
    },
    {
      "cell_type": "code",
      "execution_count": null,
      "metadata": {
        "id": "cAW7ZC5oVX3r"
      },
      "outputs": [],
      "source": [
        "cards_splitted = list(cards_meaning_splits.values())"
      ]
    },
    {
      "cell_type": "code",
      "execution_count": null,
      "metadata": {
        "id": "NfR0LG6EM1CL"
      },
      "outputs": [],
      "source": [
        "with open('drive/MyDrive/taro_bot/cards_meaning_splits.pkl', 'wb') as f:\n",
        "    pickle.dump(cards_meaning_splits, f)"
      ]
    },
    {
      "cell_type": "markdown",
      "metadata": {
        "id": "N3xz3oG4JpBS"
      },
      "source": [
        "### Создание коллекции для одной карты\n",
        "Решила, что проще делать суммаризацию."
      ]
    },
    {
      "cell_type": "code",
      "execution_count": null,
      "metadata": {
        "id": "Lr1QtFHgJneF"
      },
      "outputs": [],
      "source": [
        "# delete_mode = True\n",
        "# cards_collections = {}\n",
        "# chroma_client = chromadb.Client()\n",
        "\n",
        "# for key, val in cards_dictionary.items():\n",
        "\n",
        "#   if delete_mode:\n",
        "#     chroma_client.delete_collection(name=key)\n",
        "#   else:\n",
        "#     collection = chroma_client.get_or_create_collection(name=key)\n",
        "\n",
        "#     meaning_split = cards_meaning_splits[key]\n",
        "#     collection.upsert(\n",
        "#         documents=meaning_split,\n",
        "#         ids=[f'id{i}' for i in range(len(meaning_split))]\n",
        "#     )"
      ]
    },
    {
      "cell_type": "code",
      "execution_count": null,
      "metadata": {
        "id": "rGauyRz8DZ0x"
      },
      "outputs": [],
      "source": [
        "  # results = collection.query(\n",
        "  #     query_texts=[\"What about relationtips\"], # Chroma will embed this for you\n",
        "  #     n_results=2  # how many results to return\n",
        "  # )\n",
        "  # print(results)"
      ]
    },
    {
      "cell_type": "markdown",
      "metadata": {
        "id": "gjrto68msT-A"
      },
      "source": [
        "### Splitter из langchain"
      ]
    },
    {
      "cell_type": "code",
      "execution_count": null,
      "metadata": {
        "id": "tBnSL4PgSnk1"
      },
      "outputs": [],
      "source": [
        "# splitter = RecursiveCharacterTextSplitter(\n",
        "#     chunk_size=250,\n",
        "#     chunk_overlap=100,\n",
        "#     length_function=len,\n",
        "# )\n",
        "# split_documents = splitter.create_documents([docs])\n",
        "# len(split_documents)"
      ]
    },
    {
      "cell_type": "code",
      "execution_count": null,
      "metadata": {
        "id": "26L24TDyV6yo"
      },
      "outputs": [],
      "source": [
        "str_split_documents = docs.copy()\n",
        "for sentence in cards_splitted:\n",
        "  str_split_documents = str_split_documents + [sentence[0]]"
      ]
    },
    {
      "cell_type": "code",
      "execution_count": null,
      "metadata": {
        "id": "fAUOpPNQaOmr"
      },
      "outputs": [],
      "source": [
        "full_text = '\\n'.join(str_split_documents)"
      ]
    },
    {
      "cell_type": "code",
      "execution_count": null,
      "metadata": {
        "colab": {
          "base_uri": "https://localhost:8080/"
        },
        "id": "7NSNcT-yaX5o",
        "outputId": "e26902fc-3362-47b2-cafd-8bb9354bffb0"
      },
      "outputs": [
        {
          "name": "stderr",
          "output_type": "stream",
          "text": [
            "WARNING:langchain_text_splitters.base:Created a chunk of size 443, which is longer than the specified 300\n",
            "WARNING:langchain_text_splitters.base:Created a chunk of size 491, which is longer than the specified 300\n",
            "WARNING:langchain_text_splitters.base:Created a chunk of size 476, which is longer than the specified 300\n",
            "WARNING:langchain_text_splitters.base:Created a chunk of size 2023, which is longer than the specified 300\n",
            "WARNING:langchain_text_splitters.base:Created a chunk of size 2072, which is longer than the specified 300\n",
            "WARNING:langchain_text_splitters.base:Created a chunk of size 2374, which is longer than the specified 300\n",
            "WARNING:langchain_text_splitters.base:Created a chunk of size 2261, which is longer than the specified 300\n",
            "WARNING:langchain_text_splitters.base:Created a chunk of size 1027, which is longer than the specified 300\n",
            "WARNING:langchain_text_splitters.base:Created a chunk of size 421, which is longer than the specified 300\n",
            "WARNING:langchain_text_splitters.base:Created a chunk of size 1108, which is longer than the specified 300\n",
            "WARNING:langchain_text_splitters.base:Created a chunk of size 1590, which is longer than the specified 300\n",
            "WARNING:langchain_text_splitters.base:Created a chunk of size 2116, which is longer than the specified 300\n",
            "WARNING:langchain_text_splitters.base:Created a chunk of size 1867, which is longer than the specified 300\n",
            "WARNING:langchain_text_splitters.base:Created a chunk of size 555, which is longer than the specified 300\n",
            "WARNING:langchain_text_splitters.base:Created a chunk of size 1156, which is longer than the specified 300\n",
            "WARNING:langchain_text_splitters.base:Created a chunk of size 2101, which is longer than the specified 300\n",
            "WARNING:langchain_text_splitters.base:Created a chunk of size 1732, which is longer than the specified 300\n",
            "WARNING:langchain_text_splitters.base:Created a chunk of size 1027, which is longer than the specified 300\n",
            "WARNING:langchain_text_splitters.base:Created a chunk of size 673, which is longer than the specified 300\n",
            "WARNING:langchain_text_splitters.base:Created a chunk of size 1131, which is longer than the specified 300\n",
            "WARNING:langchain_text_splitters.base:Created a chunk of size 375, which is longer than the specified 300\n",
            "WARNING:langchain_text_splitters.base:Created a chunk of size 324, which is longer than the specified 300\n",
            "WARNING:langchain_text_splitters.base:Created a chunk of size 1030, which is longer than the specified 300\n",
            "WARNING:langchain_text_splitters.base:Created a chunk of size 827, which is longer than the specified 300\n",
            "WARNING:langchain_text_splitters.base:Created a chunk of size 577, which is longer than the specified 300\n",
            "WARNING:langchain_text_splitters.base:Created a chunk of size 641, which is longer than the specified 300\n",
            "WARNING:langchain_text_splitters.base:Created a chunk of size 1460, which is longer than the specified 300\n",
            "WARNING:langchain_text_splitters.base:Created a chunk of size 511, which is longer than the specified 300\n",
            "WARNING:langchain_text_splitters.base:Created a chunk of size 607, which is longer than the specified 300\n",
            "WARNING:langchain_text_splitters.base:Created a chunk of size 1022, which is longer than the specified 300\n",
            "WARNING:langchain_text_splitters.base:Created a chunk of size 919, which is longer than the specified 300\n",
            "WARNING:langchain_text_splitters.base:Created a chunk of size 831, which is longer than the specified 300\n",
            "WARNING:langchain_text_splitters.base:Created a chunk of size 709, which is longer than the specified 300\n",
            "WARNING:langchain_text_splitters.base:Created a chunk of size 1176, which is longer than the specified 300\n",
            "WARNING:langchain_text_splitters.base:Created a chunk of size 1138, which is longer than the specified 300\n",
            "WARNING:langchain_text_splitters.base:Created a chunk of size 1156, which is longer than the specified 300\n",
            "WARNING:langchain_text_splitters.base:Created a chunk of size 640, which is longer than the specified 300\n",
            "WARNING:langchain_text_splitters.base:Created a chunk of size 1049, which is longer than the specified 300\n",
            "WARNING:langchain_text_splitters.base:Created a chunk of size 1083, which is longer than the specified 300\n",
            "WARNING:langchain_text_splitters.base:Created a chunk of size 1059, which is longer than the specified 300\n",
            "WARNING:langchain_text_splitters.base:Created a chunk of size 1000, which is longer than the specified 300\n",
            "WARNING:langchain_text_splitters.base:Created a chunk of size 1039, which is longer than the specified 300\n",
            "WARNING:langchain_text_splitters.base:Created a chunk of size 777, which is longer than the specified 300\n",
            "WARNING:langchain_text_splitters.base:Created a chunk of size 965, which is longer than the specified 300\n",
            "WARNING:langchain_text_splitters.base:Created a chunk of size 1065, which is longer than the specified 300\n",
            "WARNING:langchain_text_splitters.base:Created a chunk of size 1135, which is longer than the specified 300\n",
            "WARNING:langchain_text_splitters.base:Created a chunk of size 868, which is longer than the specified 300\n",
            "WARNING:langchain_text_splitters.base:Created a chunk of size 938, which is longer than the specified 300\n",
            "WARNING:langchain_text_splitters.base:Created a chunk of size 1036, which is longer than the specified 300\n",
            "WARNING:langchain_text_splitters.base:Created a chunk of size 948, which is longer than the specified 300\n",
            "WARNING:langchain_text_splitters.base:Created a chunk of size 1104, which is longer than the specified 300\n",
            "WARNING:langchain_text_splitters.base:Created a chunk of size 330, which is longer than the specified 300\n"
          ]
        },
        {
          "data": {
            "text/plain": [
              "85"
            ]
          },
          "execution_count": 50,
          "metadata": {},
          "output_type": "execute_result"
        }
      ],
      "source": [
        "splitter = CharacterTextSplitter(\n",
        "    separator=\"\\n\",  # символ-разделитель, по умолчанию переход к новому абзацу '\\n\\n'\n",
        "    chunk_size=300,  # размер документа в символах\n",
        "    chunk_overlap=10,  # насколько соседние документы могут перекрывать друг-друга\n",
        "    length_function=len,  # функция, по которой считается размер документа\n",
        "    is_separator_regex=False,  # является ли разделитель регулярным выражением\n",
        ")\n",
        "split_documents = splitter.create_documents([full_text])\n",
        "str_split_documents = [split.page_content for split in split_documents]\n",
        "len(split_documents)"
      ]
    },
    {
      "cell_type": "code",
      "execution_count": null,
      "metadata": {
        "id": "DvSh99EJM92q"
      },
      "outputs": [],
      "source": [
        "with open(\"drive/MyDrive/taro_bot/full_text.txt\", \"w\") as fp:\n",
        "  fp.write(full_text)"
      ]
    },
    {
      "cell_type": "markdown",
      "metadata": {
        "id": "0tdDE3ihuNDr"
      },
      "source": [
        "## Эмбеддинги от HuggingFace"
      ]
    },
    {
      "cell_type": "code",
      "execution_count": null,
      "metadata": {
        "colab": {
          "base_uri": "https://localhost:8080/",
          "height": 661,
          "referenced_widgets": [
            "0537b458dca84a1c97143ee06f0cec77",
            "a8efeb2f2c9c4412a08ce55c9d8618e4",
            "49cb9e43dd334f18a6dc068b6faee6f7",
            "ee6b2d8b9dfa4075a03ea94594aca26c",
            "14934b1f3f3e4a2799409bde0bfd9f5e",
            "0dfc1df162bd49b890c9682b8fb3fe96",
            "7f6ff85fca51404b8f689f3d30600552",
            "53e21f4f133244339ad18b7de18aacba",
            "3dad5fd25f2b46c5bb513d1be782e9c3",
            "ba0e66a27fe54dc4a471f77c824810c0",
            "cf7bdac9ff914ef9a38794c3c6a8f32b",
            "23287287219b4ee586551a68830302d4",
            "3c8ce8f593c0427dac4ce097eb28515f",
            "970c8168dfed4a31b1effa3c516eb2a8",
            "5ef32c2397bb447f8069de6ecdbe33f8",
            "ae08d5fb930f477594408d78a4d578bc",
            "caa37882c51443488a9b6289042e5052",
            "955c22151e544706a5cdbb607c971ceb",
            "e478cd59ee2c4137b4bc5dae8e47362c",
            "e18dad705e6d42e2b6b6b1b73389e097",
            "873b5a96330f475dadcc091254d8138d",
            "fb95c2a7efbc4cbd9f295ebf43d5775f",
            "d853f5369bbb45e58dfce72fbc563d08",
            "5312161c9d674feb98441eb064858bb4",
            "3712bc6fd2564b988e3b30f40a31027e",
            "9a020e9bf47146b488ba5a4b5cd414c7",
            "ee53290265e44d9e910825921c5bff2e",
            "02da68f434364715b4cba53a89ef6289",
            "e903ea0a8d004127a677689444b9cf2e",
            "4398557f7d784163b1fb83482d9aa50e",
            "cbee429ddac34a1eb1626c872a87b191",
            "3f94f689c1e349399f720a2437c34fc4",
            "35c4fb8a6ca64628afab3e47ce5dcd5c",
            "55887e4050af4aa8b4c336decb9486ab",
            "84a97b32872340a3bf5942c999186294",
            "0215b7c1c4db441b96e24efbec61a3af",
            "345174e8e1a94639a2be5f8d826930e7",
            "2a5d3092800e4d1e8f28b3330f00a5dc",
            "1de0620b589c4d1da62701ccb009fd9f",
            "4d48305669294a4b800cc8ba5b34a1db",
            "9cc516ecce584496b2a10d7ccf421bc4",
            "0e227e64737148cdb8f2974cdd77f6af",
            "daaea007277249499b6af3a7ca38518d",
            "1b8424e5666744d5832e0a5b9e782a1e",
            "c863481f55eb49348910bac275b0d352",
            "1226918089cb4570aebe45d0a8bf28ac",
            "d8f494c6a0514ed0aaa87bdb136e8f7c",
            "fe6381c886d647f79631a42a4a16ce8e",
            "95da1e13fe2244a5aff603bda7c83233",
            "87656e6bbcb740fb83e51d269606e21f",
            "83913b84487446369b0d04efac10d226",
            "bec01d39f7814b829adb586c3cc6f5a4",
            "d286f8e8f2434008811fea41c45be638",
            "8e7aa11a2f5044958955445585759264",
            "126e302df32a48568aecf213ccff6064",
            "ce16537ccdeb4761aba3bac3f8b402a5",
            "2dbbef556ecc4f41bcdf00f96d77a90a",
            "c486735fbe6842a69b5293eb12a55967",
            "f1ceb5f8f7004a2e8a25665231b617d7",
            "67305d0b64a2481da25e7338dada4404",
            "719c815c5e304ef1a7f10418cf14b60f",
            "1fd2580a4d78492b87f95e929d16ff23",
            "d0d9a4253ded4450a3e6a5be6f714128",
            "2fd51bc4ab604913a314c039dde960fc",
            "b25848bbc7ee46c181271b400cffdfda",
            "ebd3f047db0840ae94633e48f3ffa3be",
            "48935556010d4538bd8f22d85053678d",
            "7225cb7aa89a450c84b0e6d2d89e0f94",
            "a8617e4d016d4e24b784ad84fe1c99f3",
            "8ac5979b56ac473f98d420052974e136",
            "646ad6447ea34affbfdcc6c9f028a086",
            "9c5f18e03b0d4a42ad3c623c0560460a",
            "7abe7ec40242408f94f696e607966a4c",
            "75578b2c5e4b475da752c8577dd6b195",
            "8596f2ba7969463cb2828545665b1284",
            "a6338f25d94e4e4db7c230b25fdfd085",
            "6b5da70521844330a537c0a33a1fcdd1",
            "fad5571b79d647d998914501a6b87bcb",
            "e6bc94a193c64f4ab86c6cd0403b1cd3",
            "b4ab2e937bb1480194d88495e96dcb48",
            "88ba9db88e044b2cb556b861f2fda26c",
            "f1ec4c717a2b4292914597a77cce6f00",
            "0d8fe052951b44e9bbdda75c8affc106",
            "78d5a792cf7f4b1db789c691bbf7add9",
            "a5568d88270a49e1b6c38bbd198f8e37",
            "d880586375d74c7c8b730cd6519545a1",
            "aab7c3d96c754fcb970ff2fda2e04e17",
            "a00a08ca43dd4614be9c62ad7aef7219",
            "28c72d3913fa4ff19d2d21566f27faa2",
            "04c866e4853b4c1a9d23a7abe5aca532",
            "6119d148d5964fd085010f53c1f85004",
            "e35d5633652040f0af87e846733c1925",
            "4c2781992caa446e9178b576336f3b4f",
            "d4ae5a2af2b64161b1f18a5a3d46458e",
            "11b1484489af40e6a96ac9c447ecfd43",
            "4437f312503d4cf9b4dc855f3ad6f7d4",
            "db23d29d2f644a88adf17dc71c4c6aec",
            "aea09e67d6984b33a837e6196b27f77f",
            "c8adb7f346e74eafa6e01030cc4e4b1d",
            "5aeb2045855345a2842923f3bfa90683",
            "3157386ea6244645bea2bf3993992796",
            "9ab60f9a82cb41cba40278d355043ef5",
            "40d1d9285fa64df482b1c5fcbbe5ab0d",
            "2d71d2c983cf40c486888fb011ad9d91",
            "97ff876b8d6446ba9bbafcc83d77e624",
            "97b526d1be0346438c49cdd4023b0b57",
            "f5e70d97f47146d1a24caf580d8f0fba",
            "c098bc50386c4abeaee001d2496f3f26",
            "e437df8c4cf34f8db96b0407a977d7ba",
            "9e2c8fda9ab749d5a548088f683dde9a",
            "41bab2af8460465aa44372106cb140b1",
            "a35aa77ae5824f8583043ffacac56435",
            "c618308bff8240b09311f1313b969123",
            "38479b6a717b466aaae93fad8af6c78d",
            "cd4d0533cbef447580c302dfabcfa604",
            "020ee76a810c4a76a24912e6d970e173",
            "8480db4510a74237b0978acf4ebacda2",
            "37bc1ea51c724f46bbe02f96fc960f33",
            "7857b47e6d404aa68271762a9dd37bbf",
            "57a6a831934e4dad816f30ecb298eb47",
            "906c2371bc48418fb9e164c2b4180ea5",
            "7776e13b3c2541ac9329ca3653f5b410",
            "4dd0f4973d7049769db6b72e64fe3921",
            "3d707fd4fbd34649884c40a854171b6d",
            "63230ee86893490eb27843b80af07412",
            "b5da975283d648dcb2b3ac873e20185e",
            "f7f87f4fcfa14b509e386161c4256fb7",
            "8cebb7705ac646a68431016774d2b9b8",
            "5d12b76aecb748d5bd61ff207a663c58",
            "575c510614c640ebaa84ec2981cd7536",
            "6060c8c8604f46b2ba5de14d1b2ec8c0",
            "44b66f34ce824dfb87701a02f3324302",
            "042b2ebf12db499a985b6d9b20a9bbca",
            "fb3557f5d0804d3c9c44cd20aa94cf9f",
            "229ce812cbf84fa9ab99e5a33e4740c5",
            "f879fb2d0c2c468c9217e6cf96bb9fc4",
            "81eae0d567a748e4b45a71290f201c03",
            "2213a5d87ca84989b04f88ef5a0774cc",
            "cd2c157adfab4605b29d031f69db7eb4",
            "4becdf0d93f34e67b42f965713827585",
            "d32196c69d0c496bae6b70037935c01c",
            "923797a7524042d1be3c3b6e9bff2b6b",
            "42efccedb77046cdab6814ad0677379f"
          ]
        },
        "id": "ruu1kHTTuPSV",
        "outputId": "0d94da61-c0bf-4f70-b206-2043b95a4aa7"
      },
      "outputs": [
        {
          "name": "stderr",
          "output_type": "stream",
          "text": [
            "<ipython-input-53-33cee1d2bef9>:2: LangChainDeprecationWarning: The class `HuggingFaceEmbeddings` was deprecated in LangChain 0.2.2 and will be removed in 1.0. An updated version of the class exists in the langchain-huggingface package and should be used instead. To use it run `pip install -U langchain-huggingface` and import as `from langchain_huggingface import HuggingFaceEmbeddings`.\n",
            "  hf_embeddings_model = HuggingFaceEmbeddings(\n",
            "/usr/local/lib/python3.10/dist-packages/sentence_transformers/cross_encoder/CrossEncoder.py:13: TqdmExperimentalWarning: Using `tqdm.autonotebook.tqdm` in notebook mode. Use `tqdm.tqdm` instead to force console mode (e.g. in jupyter console)\n",
            "  from tqdm.autonotebook import tqdm, trange\n",
            "/usr/local/lib/python3.10/dist-packages/huggingface_hub/utils/_token.py:89: UserWarning: \n",
            "The secret `HF_TOKEN` does not exist in your Colab secrets.\n",
            "To authenticate with the Hugging Face Hub, create a token in your settings tab (https://huggingface.co/settings/tokens), set it as secret in your Google Colab and restart your session.\n",
            "You will be able to reuse this secret in all of your notebooks.\n",
            "Please note that authentication is recommended but still optional to access public models or datasets.\n",
            "  warnings.warn(\n"
          ]
        },
        {
          "data": {
            "application/vnd.jupyter.widget-view+json": {
              "model_id": "0537b458dca84a1c97143ee06f0cec77",
              "version_major": 2,
              "version_minor": 0
            },
            "text/plain": [
              "modules.json:   0%|          | 0.00/461 [00:00<?, ?B/s]"
            ]
          },
          "metadata": {},
          "output_type": "display_data"
        },
        {
          "data": {
            "application/vnd.jupyter.widget-view+json": {
              "model_id": "23287287219b4ee586551a68830302d4",
              "version_major": 2,
              "version_minor": 0
            },
            "text/plain": [
              "config_sentence_transformers.json:   0%|          | 0.00/122 [00:00<?, ?B/s]"
            ]
          },
          "metadata": {},
          "output_type": "display_data"
        },
        {
          "data": {
            "application/vnd.jupyter.widget-view+json": {
              "model_id": "d853f5369bbb45e58dfce72fbc563d08",
              "version_major": 2,
              "version_minor": 0
            },
            "text/plain": [
              "README.md:   0%|          | 0.00/2.22k [00:00<?, ?B/s]"
            ]
          },
          "metadata": {},
          "output_type": "display_data"
        },
        {
          "data": {
            "application/vnd.jupyter.widget-view+json": {
              "model_id": "55887e4050af4aa8b4c336decb9486ab",
              "version_major": 2,
              "version_minor": 0
            },
            "text/plain": [
              "sentence_bert_config.json:   0%|          | 0.00/53.0 [00:00<?, ?B/s]"
            ]
          },
          "metadata": {},
          "output_type": "display_data"
        },
        {
          "data": {
            "application/vnd.jupyter.widget-view+json": {
              "model_id": "c863481f55eb49348910bac275b0d352",
              "version_major": 2,
              "version_minor": 0
            },
            "text/plain": [
              "config.json:   0%|          | 0.00/804 [00:00<?, ?B/s]"
            ]
          },
          "metadata": {},
          "output_type": "display_data"
        },
        {
          "data": {
            "application/vnd.jupyter.widget-view+json": {
              "model_id": "ce16537ccdeb4761aba3bac3f8b402a5",
              "version_major": 2,
              "version_minor": 0
            },
            "text/plain": [
              "pytorch_model.bin:   0%|          | 0.00/1.88G [00:00<?, ?B/s]"
            ]
          },
          "metadata": {},
          "output_type": "display_data"
        },
        {
          "data": {
            "application/vnd.jupyter.widget-view+json": {
              "model_id": "48935556010d4538bd8f22d85053678d",
              "version_major": 2,
              "version_minor": 0
            },
            "text/plain": [
              "tokenizer_config.json:   0%|          | 0.00/397 [00:00<?, ?B/s]"
            ]
          },
          "metadata": {},
          "output_type": "display_data"
        },
        {
          "data": {
            "application/vnd.jupyter.widget-view+json": {
              "model_id": "fad5571b79d647d998914501a6b87bcb",
              "version_major": 2,
              "version_minor": 0
            },
            "text/plain": [
              "vocab.txt:   0%|          | 0.00/5.22M [00:00<?, ?B/s]"
            ]
          },
          "metadata": {},
          "output_type": "display_data"
        },
        {
          "data": {
            "application/vnd.jupyter.widget-view+json": {
              "model_id": "28c72d3913fa4ff19d2d21566f27faa2",
              "version_major": 2,
              "version_minor": 0
            },
            "text/plain": [
              "tokenizer.json:   0%|          | 0.00/9.62M [00:00<?, ?B/s]"
            ]
          },
          "metadata": {},
          "output_type": "display_data"
        },
        {
          "data": {
            "application/vnd.jupyter.widget-view+json": {
              "model_id": "5aeb2045855345a2842923f3bfa90683",
              "version_major": 2,
              "version_minor": 0
            },
            "text/plain": [
              "special_tokens_map.json:   0%|          | 0.00/112 [00:00<?, ?B/s]"
            ]
          },
          "metadata": {},
          "output_type": "display_data"
        },
        {
          "name": "stderr",
          "output_type": "stream",
          "text": [
            "/usr/local/lib/python3.10/dist-packages/transformers/tokenization_utils_base.py:1601: FutureWarning: `clean_up_tokenization_spaces` was not set. It will be set to `True` by default. This behavior will be depracted in transformers v4.45, and will be then set to `False` by default. For more details check this issue: https://github.com/huggingface/transformers/issues/31884\n",
            "  warnings.warn(\n"
          ]
        },
        {
          "data": {
            "application/vnd.jupyter.widget-view+json": {
              "model_id": "41bab2af8460465aa44372106cb140b1",
              "version_major": 2,
              "version_minor": 0
            },
            "text/plain": [
              "1_Pooling/config.json:   0%|          | 0.00/190 [00:00<?, ?B/s]"
            ]
          },
          "metadata": {},
          "output_type": "display_data"
        },
        {
          "data": {
            "application/vnd.jupyter.widget-view+json": {
              "model_id": "7776e13b3c2541ac9329ca3653f5b410",
              "version_major": 2,
              "version_minor": 0
            },
            "text/plain": [
              "2_Dense/config.json:   0%|          | 0.00/114 [00:00<?, ?B/s]"
            ]
          },
          "metadata": {},
          "output_type": "display_data"
        },
        {
          "data": {
            "application/vnd.jupyter.widget-view+json": {
              "model_id": "042b2ebf12db499a985b6d9b20a9bbca",
              "version_major": 2,
              "version_minor": 0
            },
            "text/plain": [
              "pytorch_model.bin:   0%|          | 0.00/2.36M [00:00<?, ?B/s]"
            ]
          },
          "metadata": {},
          "output_type": "display_data"
        }
      ],
      "source": [
        "# Если у вас нет видеокарты, укажите 'device': 'cpu'\n",
        "hf_embeddings_model = HuggingFaceEmbeddings(\n",
        "    model_name=\"sentence-transformers/LaBSE\", model_kwargs={\"device\": \"cpu\"}\n",
        ")"
      ]
    },
    {
      "cell_type": "code",
      "execution_count": null,
      "metadata": {
        "id": "XTMuKyqq1Y7O"
      },
      "outputs": [],
      "source": [
        "embeddings = hf_embeddings_model.embed_documents(\n",
        "    str_split_documents\n",
        ")"
      ]
    },
    {
      "cell_type": "code",
      "execution_count": null,
      "metadata": {
        "id": "t-TYZn_ceolU"
      },
      "outputs": [],
      "source": [
        "with open('drive/MyDrive/taro_bot/hf_embeddings_model.pkl', 'wb') as f:\n",
        "    pickle.dump(hf_embeddings_model, f)"
      ]
    },
    {
      "cell_type": "markdown",
      "metadata": {
        "id": "mxBZ5FBMut1j"
      },
      "source": [
        "## Сохраняем Vector Store"
      ]
    },
    {
      "cell_type": "code",
      "execution_count": null,
      "metadata": {
        "id": "hRKdQT8QuPPT"
      },
      "outputs": [],
      "source": [
        "db = FAISS.from_documents(\n",
        "    split_documents, hf_embeddings_model\n",
        ")\n",
        "\n",
        "db.save_local(\"drive/MyDrive/taro_bot/faiss_db\")  # можно сохранить базу локально, указав путь"
      ]
    },
    {
      "cell_type": "code",
      "execution_count": null,
      "metadata": {
        "colab": {
          "base_uri": "https://localhost:8080/"
        },
        "id": "1IFN5M3_e83P",
        "outputId": "92eb93cd-95b9-4613-a07a-2e6b5c6e14b8"
      },
      "outputs": [
        {
          "name": "stderr",
          "output_type": "stream",
          "text": [
            "/usr/local/lib/python3.10/dist-packages/torch/storage.py:414: FutureWarning: You are using `torch.load` with `weights_only=False` (the current default value), which uses the default pickle module implicitly. It is possible to construct malicious pickle data which will execute arbitrary code during unpickling (See https://github.com/pytorch/pytorch/blob/main/SECURITY.md#untrusted-models for more details). In a future release, the default value for `weights_only` will be flipped to `True`. This limits the functions that could be executed during unpickling. Arbitrary objects will no longer be allowed to be loaded via this mode unless they are explicitly allowlisted by the user via `torch.serialization.add_safe_globals`. We recommend you start setting `weights_only=True` for any use case where you don't have full control of the loaded file. Please open an issue on GitHub for any issues related to this experimental feature.\n",
            "  return torch.load(io.BytesIO(b))\n"
          ]
        }
      ],
      "source": [
        "# Load the model from the file using pickle\n",
        "with open('drive/MyDrive/taro_bot/hf_embeddings_model.pkl', 'rb') as f:\n",
        "    loaded_embeddings_model = pickle.load(f)"
      ]
    },
    {
      "cell_type": "code",
      "execution_count": null,
      "metadata": {
        "id": "gBHqmD6jcQAx"
      },
      "outputs": [],
      "source": [
        "new_vector_store = FAISS.load_local(\n",
        "    \"drive/MyDrive/taro_bot/faiss_db\", loaded_embeddings_model, allow_dangerous_deserialization=True\n",
        ")"
      ]
    },
    {
      "cell_type": "code",
      "execution_count": null,
      "metadata": {
        "colab": {
          "base_uri": "https://localhost:8080/"
        },
        "id": "wzCfgcTFe_wB",
        "outputId": "6093534a-2db8-4aa7-95d9-6bfbdad29007"
      },
      "outputs": [
        {
          "data": {
            "text/plain": [
              "[Document(metadata={}, page_content='The Minor Arcana Cards The remaining fifty-six cards are known collectively as the minor arcana, and they are arranged into four suits: Wands, Pentacles, Cups, and Swords. Each suit has fourteen cards, from Ace to Ten, plus four court cards: Page, Knight, Queen, and King. The four suits each have a ruling element, and each corresponds to specific areas of life:   Cups:  the element of Water; emotions and relationships'),\n",
              " Document(metadata={}, page_content='WHAT ABOUT REVERSALS? You will see that all the card interpretations in this book contain both upright and reversed card meanings. An upright card is just that—when you turn it over, it is upright. A card is known as reversed when it is upside down. There are lots of books dealing solely with reversed meanings. With a few exceptions, a reversed card’s meaning is generally more negative than the positive, or upright, meaning. However, many tarot professionals ignore reversals in a reading and just turn the cards the right way up if they come out reversed; they use their intuition to interpret the card in a positive or negative light. Do whatever feels right for you.'),\n",
              " Document(metadata={}, page_content='2  HOW TO BEGIN YOUR CARDS, YOUR ENERGIES: CARD ATTUNEMENT, CLEANSING, AND PROTECTION Tarot cards, like people, draw in energy. During readings, tarot cards absorb your energies and those of anyone else who touches them. For this reason, it’s important not to let other people touch your cards casually; the cards hold your energies and intentions, and are personal to you. Here are tried-and-tested ways to attune to your new deck, cleanse the cards before a reading session, and protect them when you are not using them. Attuning to a New Deck The process of connecting with your cards is called attuning. The more connected you feel to your cards, the more accurate, insightful, and inspiring your readings can be. Before you begin reading a new deck of tarot cards, attune to them for exactly seven days by sleeping with your cards under your pillow. Also, get to know them by looking at the cards daily, touching them so your energy becomes imprinted upon them. Some readers attune to their cards through visualization. Try this: 1.  Hold your cards in your right hand. This is known as the giving hand—and you are about to give the cards your energy. 2.  Close your eyes, take a deep breath, and visualize light pouring down through the crown of your head, your third-eye chakra, throat, and heart (see  page 236 ), then down your right arm, into your right hand, and into the cards. 3.  Imagine your cards filling with pure light. If you work with spirit guides or angels, ask them to come close and to help and protect you during the reading. 4.  Open your eyes when you are ready.'),\n",
              " Document(metadata={}, page_content='2. Use Just the Major Arcana First Start with the major arcana cards and progress to the full seventy-eight-card deck when you’re more confident. The major arcana are the prime energies, whereas the minors are more incidental influences. As many minor cards are dilutions of the majors, you won’t be missing out on any vital information by beginning with majors-only readings. The majors will give you or the person you are reading for the essential messages. 3. Ignore Reversed Card Meanings As you’re learning, work with the upright card meanings; if you get reversed cards, turn them the right way up and focus on your responses to the card in this position. Some tarot readers use reversals religiously, while others do not—no matter how great their experience and knowledge. It’s a matter of preference; go with what feels right for you. 4. Read the Suit Cards by Their Element Try this minor arcana shortcut: Learn just the meaning of the element of each of the four suits. For example, Pentacles, the Earth element, tells you that security (home and finances, structure and planning) is the focus; Wands, for Fire, reveals talking, creating, and action. Cup cards, of the element Water, ask us to tend to our emotions and relationships; Swords, of the element Air, ask for mental clarity and the need for resolution and decisions. 5. Read the Suit Cards by Their Numbers In numerology, the ancient art of mystical number interpretation, numbers have the following meanings, which correspond to the suit cards:   Ones (Aces):  Beginnings; new energy   Twos:  Partnerships, balance, and division   Threes:  Acknowledgment   Fours:  Stability and boundaries   Fives:  Instability and challenges   Sixes:  Harmony and improvement')]"
            ]
          },
          "execution_count": 60,
          "metadata": {},
          "output_type": "execute_result"
        }
      ],
      "source": [
        "# База готова, теперь можно делать к ней запросы\n",
        "new_vector_store.similarity_search(\"What cards are arcana cards?\")"
      ]
    },
    {
      "cell_type": "code",
      "execution_count": null,
      "metadata": {
        "colab": {
          "base_uri": "https://localhost:8080/"
        },
        "id": "jSdU-iRfTBjb",
        "outputId": "119340ef-af05-44cc-d8ab-f434cf98eddb"
      },
      "outputs": [
        {
          "data": {
            "text/plain": [
              "[Document(page_content='UPRIGHT MEANING The upright meaning of the Ace of Wands is auspicious for every aspect of your life\\nUPRIGHT MEANING The Two of Wands shows you making plans and moving forward, so travel arrangements are one meaning of the card'),\n",
              " Document(page_content='A Beginner’s Guide to the Cards, Spreads, and Revealing the Mystery of the Tarot LIZ DEAN author of  The Art of Tarot  and  The Golden Tarot'),\n",
              " Document(page_content='UPRIGHT MEANING The traditional meaning of the upright card is ruin\\nUPRIGHT MEANING As an influence:  This card denotes useful information\\nUPRIGHT MEANING As an influence:  Unpredictable, tempestuous times are ahead—you’re in for a roller coaster drama of highs and lows'),\n",
              " Document(page_content='UPRIGHT MEANING The Three of Wands is one of the tarot’s good-fortune cards\\nUPRIGHT MEANING This lovely card reveals success after completion—a time for reward')]"
            ]
          },
          "execution_count": 308,
          "metadata": {},
          "output_type": "execute_result"
        }
      ],
      "source": [
        "# База готова, теперь можно делать к ней запросы\n",
        "db.similarity_search(\"What cards are arcana cards?\")"
      ]
    },
    {
      "cell_type": "markdown",
      "metadata": {
        "id": "bHeBYyV-vPmu"
      },
      "source": [
        "## Определим Retriever"
      ]
    },
    {
      "cell_type": "code",
      "execution_count": null,
      "metadata": {
        "id": "pcljBDDBvB2s"
      },
      "outputs": [],
      "source": [
        "retriever = db.as_retriever(\n",
        "    search_type=\"mmr\",  # тип поиска похожих документов\n",
        "    k=1,  # количество возвращаемых документов (Default: 4)\n",
        "    score_threshold=0.9,  # минимальный порог для поиска \"similarity_score_threshold\"\n",
        ")"
      ]
    },
    {
      "cell_type": "code",
      "execution_count": null,
      "metadata": {
        "id": "evZ6riAzTFYN"
      },
      "outputs": [],
      "source": [
        "retriver_answer = retriever.get_relevant_documents(\n",
        "    \"What cards are arcana cards?\"\n",
        ")"
      ]
    },
    {
      "cell_type": "code",
      "execution_count": null,
      "metadata": {
        "id": "JmoBiz1dMgKS"
      },
      "outputs": [],
      "source": [
        "retriver_str_answer = [split.page_content for split in retriver_answer]"
      ]
    },
    {
      "cell_type": "code",
      "execution_count": null,
      "metadata": {
        "colab": {
          "base_uri": "https://localhost:8080/",
          "height": 87
        },
        "id": "mkdE13pJMogo",
        "outputId": "0df632a2-f680-4ab4-e03c-2a3e3313415d"
      },
      "outputs": [
        {
          "data": {
            "application/vnd.google.colaboratory.intrinsic+json": {
              "type": "string"
            },
            "text/plain": [
              "'The Minor Arcana Cards The remaining fifty-six cards are known collectively as the minor arcana, and they are arranged into four suits: Wands, Pentacles, Cups, and Swords. Each suit has fourteen cards, from Ace to Ten, plus four court cards: Page, Knight, Queen, and King. The four suits each have a ruling element, and each corresponds to specific areas of life:   Cups:  the element of Water; emotions and relationships'"
            ]
          },
          "execution_count": 317,
          "metadata": {},
          "output_type": "execute_result"
        }
      ],
      "source": [
        "retriver_str_answer[0]"
      ]
    },
    {
      "cell_type": "code",
      "execution_count": null,
      "metadata": {
        "colab": {
          "base_uri": "https://localhost:8080/",
          "height": 53
        },
        "id": "yGC2Ytq7fcRu",
        "outputId": "8827ffb6-2898-4f11-c229-8dd100fcbe5c"
      },
      "outputs": [
        {
          "data": {
            "application/vnd.google.colaboratory.intrinsic+json": {
              "type": "string"
            },
            "text/plain": [
              "'A Beginner’s Guide to the Cards, Spreads, and Revealing the Mystery of the Tarot LIZ DEAN author of  The Art of Tarot  and  The Golden Tarot'"
            ]
          },
          "execution_count": 318,
          "metadata": {},
          "output_type": "execute_result"
        }
      ],
      "source": [
        "retriver_str_answer[1]"
      ]
    },
    {
      "cell_type": "markdown",
      "metadata": {
        "id": "wGnC-oKsUoMI"
      },
      "source": [
        "# Определим модель llm\n",
        "https://huggingface.co/google/gemma-2-27b-it  - лучше всех отвечает, но ломается почему-то      \n",
        "https://huggingface.co/microsoft/Phi-3-mini-4k-instruct   \n",
        "\n",
        "https://huggingface.co/mistralai/Mistral-7B-Instruct-v0.3  - вторая по лучшести, все время выдаёт ответ  \n",
        "https://huggingface.co/mistralai/Mistral-Nemo-Instruct-2407   \n",
        "   \n",
        "странная ошибка загрузки   \n",
        "https://huggingface.co/google/gemma-2-27b-it    \n",
        "https://huggingface.co/microsoft/Phi-3-mini-128k-instruct  "
      ]
    },
    {
      "cell_type": "code",
      "execution_count": null,
      "metadata": {
        "colab": {
          "base_uri": "https://localhost:8080/"
        },
        "id": "MVMmV6_FAU06",
        "outputId": "755039d4-e47f-4941-964f-fba6e52221f3"
      },
      "outputs": [
        {
          "name": "stdout",
          "output_type": "stream",
          "text": [
            "What the answer to the universe is is one of those enduring questions that people have speculated on for centuries. The reason for the universe's existence is a deep philosophical question that has been addressed by religion, philosophy, and science. That being said, there isn't a definitive answer to this question because it is dependent upon one's own beliefs and interpretations.\n",
            "\n",
            "In scientific terms, the reason for the universe's existence is that it is the result of a chain of events that began with the\n"
          ]
        }
      ],
      "source": [
        "import requests\n",
        "\n",
        "# API_URL = \"https://api-inference.huggingface.co/models/gpt2\"\n",
        "# API_URL = \"https://api-inference.huggingface.co/models/google/gemma-2-27b-it\"\n",
        "# API_URL = \"https://api-inference.huggingface.co/models/microsoft/Phi-3-mini-4k-instruct\"\n",
        "\n",
        "API_URL = \"https://api-inference.huggingface.co/models/mistralai/Mistral-7B-Instruct-v0.3\"\n",
        "\n",
        "\n",
        "def query(payload, api_url=API_URL):\n",
        "    headers = {\"Authorization\": f\"Bearer ................\"}\n",
        "    response = requests.post(api_url, headers=headers, json=payload)\n",
        "    return response.json()\n",
        "\n",
        "output = query(\n",
        "    {\n",
        "    \"inputs\": \"What the answer to the universe is\",\n",
        "})\n",
        "\n",
        "print(output[0]['generated_text'])"
      ]
    },
    {
      "cell_type": "code",
      "execution_count": null,
      "metadata": {
        "colab": {
          "base_uri": "https://localhost:8080/"
        },
        "id": "WiDjqgkDA1Kf",
        "outputId": "b131ab7f-4437-44db-ae76-5bd8025e748d"
      },
      "outputs": [
        {
          "name": "stdout",
          "output_type": "stream",
          "text": [
            "\n",
            "    Find a peaceful, relaxed feeling. Feel comfortable and confident. \n",
            "    Imagine that you can hear the universe and are a good fortune teller.  \n",
            "    Question What weather will be tomorrow?\n",
            "    ---------------------------------------------\n",
            "    Answer: I can hear your thoughts. You are asking the weather for tomorrow. The forecast for tomorrow is a bright and sunny day with a high of 70 degrees and a low of 40 degrees. Enjoy the sunshine!\n"
          ]
        }
      ],
      "source": [
        "output = query({\n",
        "    \"inputs\": \"\"\"\n",
        "    Find a peaceful, relaxed feeling. Feel comfortable and confident.\n",
        "    Imagine that you can hear the universe and are a good fortune teller.\n",
        "    Question {}\n",
        "    \"\"\".format(\"What weather will be tomorrow?\"),\n",
        "})\n",
        "\n",
        "print(output[0]['generated_text'])"
      ]
    },
    {
      "cell_type": "code",
      "execution_count": null,
      "metadata": {
        "colab": {
          "base_uri": "https://localhost:8080/"
        },
        "id": "ZNee3f9fOeBu",
        "outputId": "102d6311-3e58-4add-a2e7-4071626421cc"
      },
      "outputs": [
        {
          "name": "stdout",
          "output_type": "stream",
          "text": [
            "\n",
            "    Imagine that you know everything about taro.\n",
            "    Question: What cards are arcana cards?\n",
            "    1. The Fool, The Magician, The High Priestess, The Empress, The Emperor, The Hierophant, The Lovers, The Chariot, Strength, The Hermit, The Wheel of Fortune, Justice, The Hanged Man, Death, Temperance, The Devil, The Tower, The Star, The Moon, The Sun, Judgement, and The World. These cards are part of the Major Arcana in a traditional\n"
          ]
        }
      ],
      "source": [
        "output = query({\n",
        "    \"inputs\": \"\"\"\n",
        "    Imagine that you know everything about taro.\n",
        "    Question: {}\n",
        "    \"\"\".format(\"What cards are arcana cards?\"),\n",
        "})\n",
        "\n",
        "print(output[0]['generated_text'])"
      ]
    },
    {
      "cell_type": "code",
      "execution_count": null,
      "metadata": {
        "colab": {
          "base_uri": "https://localhost:8080/"
        },
        "id": "hEEgvGZVK-nV",
        "outputId": "595a99ba-c669-40b6-d2bd-764cede08e59"
      },
      "outputs": [
        {
          "name": "stdout",
          "output_type": "stream",
          "text": [
            "\n",
            "    Imagine that you know everything about taro. Return only the detailed answer. \n",
            "    Use the following information if it is useful:\n",
            "    The Minor Arcana Cards The remaining fifty-six cards are known collectively as the minor arcana, and they are arranged into four suits: Wands, Pentacles, Cups, and Swords. Each suit has fourteen cards, from Ace to Ten, plus four court cards: Page, Knight, Queen, and King. The four suits each have a ruling element, and each corresponds to specific areas of life:   Cups:  the element of Water; emotions and relationships\n",
            "    Question: What cards are arcana cards?\n",
            "     Answer: The Arcana cards are the remaining 56 cards in a standard tarot deck, including the four suits (Wands, Pentacles, Cups, and Swords) each having 14 numbered cards (Ace to Ten) and four court cards (Page, Knight, Queen, and King).\n"
          ]
        }
      ],
      "source": [
        "output = query({\n",
        "    \"inputs\": \"\"\"\n",
        "    Imagine that you know everything about taro. Return only the detailed answer.\n",
        "    Use the following information if it is useful:\n",
        "    {}\n",
        "    Question: {}\n",
        "    \"\"\".format(retriver_str_answer[0], \"What cards are arcana cards?\"),\n",
        "})\n",
        "\n",
        "print(output[0]['generated_text'])"
      ]
    },
    {
      "cell_type": "code",
      "execution_count": null,
      "metadata": {
        "colab": {
          "base_uri": "https://localhost:8080/"
        },
        "id": "1hqdgoRuRDbh",
        "outputId": "09434fc2-e1b6-4016-b87c-a2def20a1241"
      },
      "outputs": [
        {
          "name": "stdout",
          "output_type": "stream",
          "text": [
            "\n",
            "    Find a peaceful, relaxed feeling. Feel comfortable and confident. \n",
            "    Imagine that you can hear the universe and are a good fortune teller. \n",
            "    Summirize the following card:\n",
            "    UPRIGHT MEANING The traditional meaning of this Five of Pentacles is financial loss, so when it shows up in a reading, it can mean losing a job or a relationship or experiencing some other financial or emotional hardship  The positive aspect is that you find support from others in a similar position  These contacts may become good friends whom you may never have met in your usual circumstances  Consider new options, and you may discover another resource or approach that will help you see a way forward  However, this card often comes up in readings to show a fear of poverty and isolation, rather than actual poverty  It also commonly shows a fear of losing the security of home and/or the aftermath of a relationship breakup, with one partner feeling alone and depleted  It occasionally reveals the impact of bereavement  While tarot cards do not predict death, the Five of Pentacles when in the present/situation position in a reading (rather than the future position) can reflect the feelings of sadness as a result of losing someone close  \n",
            "     Reversed MEANING Often in a reversed position, the card can signify an end of a period of hardship  You may have recently experienced a loss or a difficult situation, and now you are moving onward  The end of the storm is near, and you are beginning to see blue sky  If you have been feeling isolated, you may begin to find yourself surrounded by kind and sympathetic people  Your journey toward financial or emotional stability may have encountered some unexpected roes,\n"
          ]
        }
      ],
      "source": [
        "output = query({\n",
        "    \"inputs\": \"\"\"\n",
        "    Find a peaceful, relaxed feeling. Feel comfortable and confident.\n",
        "    Imagine that you can hear the universe and are a good fortune teller.\n",
        "    Summirize the following card:\n",
        "    {}\n",
        "    \"\"\".format(' '.join(random_card)),\n",
        "})\n",
        "\n",
        "print(output[0]['generated_text'])"
      ]
    },
    {
      "cell_type": "markdown",
      "metadata": {
        "id": "uQourekjSgwN"
      },
      "source": [
        "# Основные функции"
      ]
    },
    {
      "cell_type": "code",
      "execution_count": null,
      "metadata": {
        "id": "y8v7c928NxZS"
      },
      "outputs": [],
      "source": [
        "def get_query(additional_prompt, main_input):\n",
        "  \"\"\"Function that returns response from hugging face API open model.\n",
        "  \"\"\"\n",
        "\n",
        "  # Combine the additional prompt and main input with a special token\n",
        "  query = f\"{additional_prompt} [END_PROMPT] {main_input}\"\n",
        "\n",
        "  api_url = \"https://api-inference.huggingface.co/models/mistralai/Mistral-7B-Instruct-v0.3\"\n",
        "\n",
        "  headers = {\n",
        "      \"Authorization\": \"Bearer ................\",\n",
        "      \"Content-Type\": \"application/json\"\n",
        "  }\n",
        "\n",
        "  data = {\n",
        "      \"inputs\": query,\n",
        "      \"parameters\": {\n",
        "          \"max_length\": 10000,  # Adjust as needed\n",
        "          \"temperature\": 0.9  # Adjust as needed\n",
        "      }\n",
        "  }\n",
        "\n",
        "  # Send the API request\n",
        "  response = requests.post(api_url, headers=headers, json=data)\n",
        "\n",
        "  # Parse the response\n",
        "  if response.status_code == 200:\n",
        "      output = response.json()\n",
        "      # Extract the main output, excluding the additional prompt\n",
        "      main_output = output[0]['generated_text'].split(\"[END_PROMPT]\")[1].strip()\n",
        "      main_output = main_output.replace(main_input, '').replace('\\n', '').strip()\n",
        "      main_output = main_output.split('.')[:3]\n",
        "\n",
        "  else:\n",
        "      print(f\"Error: {response.status_code} - {response.text}\")\n",
        "\n",
        "  return '.'.join(main_output)"
      ]
    },
    {
      "cell_type": "code",
      "execution_count": null,
      "metadata": {
        "id": "kj0KWQjpf4mp"
      },
      "outputs": [],
      "source": [
        "def get_retriever(retriever_answer, question='What can you tell about taro?'):\n",
        "  \"\"\"\n",
        "  Функция забирает суммаризацию на предсказание одной карты.\n",
        "  Здесь лучше всего работает mistral.\n",
        "  \"\"\"\n",
        "\n",
        "\n",
        "  additional_prompt = \"\"\"\n",
        "      Imagine that you know everything about taro. Return only the detailed answer.\n",
        "      Use the following information if it is useful:\n",
        "      {}\n",
        "      \"\"\".format(' '.join(retriever_answer))\n",
        "  main_input = \"{}\".format(question)\n",
        "\n",
        "  return get_query(additional_prompt, main_input)"
      ]
    },
    {
      "cell_type": "code",
      "execution_count": null,
      "metadata": {
        "id": "NOLuPj7wU7Kb"
      },
      "outputs": [],
      "source": [
        "def get_one_card_prediction(random_card, topic=''):\n",
        "  \"\"\"\n",
        "  Функция забирает суммаризацию на предсказание одной карты.\n",
        "  Здесь лучше всего работает mistral.\n",
        "  \"\"\"\n",
        "  api_url = \"https://api-inference.huggingface.co/models/mistralai/Mistral-7B-Instruct-v0.3\"\n",
        "\n",
        "  additional_prompt = \"\"\"\n",
        "      Find a peaceful, relaxed feeling. Feel comfortable and confident.\n",
        "      Imagine that you can hear the universe and are a good fortune teller.\n",
        "      Make only three sentences.\n",
        "      Try to use information:\n",
        "      {}\n",
        "      \"\"\".format(' '.join(random_card))\n",
        "  main_input = \"What is your Summirization? {}\".format(topic)\n",
        "\n",
        "  return get_query(additional_prompt, main_input)"
      ]
    },
    {
      "cell_type": "code",
      "execution_count": null,
      "metadata": {
        "id": "JjgcEpXxNhCq"
      },
      "outputs": [],
      "source": [
        "def get_yes_or_no(test_cards):\n",
        "  \"\"\"\n",
        "  Функция  отвечает на вопрос Да или Нет.\n",
        "  \"\"\"\n",
        "  api_url = \"https://api-inference.huggingface.co/models/mistralai/Mistral-7B-Instruct-v0.3\"\n",
        "\n",
        "  additional_prompt = \"\"\"\n",
        "      If you get three yeses, your answer is certain; two yes cards\n",
        "      (with one no or neutral) mean a positive outcome is most likely, but it may take\n",
        "      time to come about; and all no or a mix of no/neutral cards means the answer to\n",
        "      your question is, of course, negative.\n",
        "\n",
        "      Yes cards: All cards apart from those listed here as no, neutral, or exceptions.\n",
        "\n",
        "      No cards\n",
        "      Swords: Three, Five, Six, Seven, Eight, Nine, Ten, and Knight\n",
        "      Cups: Five, Seven, and Eight\n",
        "      Pentacles: Five\n",
        "      Death\n",
        "      The Devil\n",
        "      The Tower\n",
        "      The Moon\n",
        "\n",
        "      Neutral cards\n",
        "      Swords: Four\n",
        "      Cups: Four\n",
        "      The Hermit\n",
        "      The Hanged Man\n",
        "\n",
        "      Exceptions\n",
        "      Two of Swords or Ten of Wands: The answer is not yet known.\n",
        "      Five and Seven of Wands: The answer is yes, but you must fight for your\n",
        "      prize.\n",
        "      Your cards are:\n",
        "      {}\n",
        "      \"\"\".format(' '.join(test_cards))\n",
        "  main_input = \"What is your answer, yes or no? And why?\"\n",
        "\n",
        "  return get_query(additional_prompt, main_input)"
      ]
    },
    {
      "cell_type": "markdown",
      "metadata": {
        "id": "UBQpNga9SVyo"
      },
      "source": [
        "# Основные формы гаданий"
      ]
    },
    {
      "cell_type": "code",
      "execution_count": null,
      "metadata": {
        "colab": {
          "base_uri": "https://localhost:8080/",
          "height": 211
        },
        "id": "QpBI-Us4Rx7Y",
        "outputId": "2257a0b4-3591-4ba6-d55d-e9fb0ee9fa0a"
      },
      "outputs": [
        {
          "ename": "NameError",
          "evalue": "name 'random' is not defined",
          "output_type": "error",
          "traceback": [
            "\u001b[0;31m---------------------------------------------------------------------------\u001b[0m",
            "\u001b[0;31mNameError\u001b[0m                                 Traceback (most recent call last)",
            "\u001b[0;32m<ipython-input-5-d19d20216c74>\u001b[0m in \u001b[0;36m<cell line: 5>\u001b[0;34m()\u001b[0m\n\u001b[1;32m     14\u001b[0m \u001b[0;32melif\u001b[0m \u001b[0mthe_taro_layout\u001b[0m \u001b[0;34m==\u001b[0m \u001b[0;34m\"one card\"\u001b[0m\u001b[0;34m:\u001b[0m\u001b[0;34m\u001b[0m\u001b[0;34m\u001b[0m\u001b[0m\n\u001b[1;32m     15\u001b[0m \u001b[0;34m\u001b[0m\u001b[0m\n\u001b[0;32m---> 16\u001b[0;31m   \u001b[0mrandom_key\u001b[0m \u001b[0;34m=\u001b[0m \u001b[0mrandom\u001b[0m\u001b[0;34m.\u001b[0m\u001b[0mchoice\u001b[0m\u001b[0;34m(\u001b[0m\u001b[0mlist\u001b[0m\u001b[0;34m(\u001b[0m\u001b[0mcards_meaning_splits\u001b[0m\u001b[0;34m.\u001b[0m\u001b[0mkeys\u001b[0m\u001b[0;34m(\u001b[0m\u001b[0;34m)\u001b[0m\u001b[0;34m)\u001b[0m\u001b[0;34m)\u001b[0m\u001b[0;34m\u001b[0m\u001b[0;34m\u001b[0m\u001b[0m\n\u001b[0m\u001b[1;32m     17\u001b[0m   \u001b[0madditional_prompt\u001b[0m \u001b[0;34m=\u001b[0m \u001b[0;34m\"One card for your events: \"\u001b[0m\u001b[0;34m\u001b[0m\u001b[0;34m\u001b[0m\u001b[0m\n\u001b[1;32m     18\u001b[0m   \u001b[0mrandom_card\u001b[0m \u001b[0;34m=\u001b[0m \u001b[0mcards_meaning_splits\u001b[0m\u001b[0;34m[\u001b[0m\u001b[0mrandom_key\u001b[0m\u001b[0;34m]\u001b[0m\u001b[0;34m\u001b[0m\u001b[0;34m\u001b[0m\u001b[0m\n",
            "\u001b[0;31mNameError\u001b[0m: name 'random' is not defined"
          ]
        }
      ],
      "source": [
        "the_taro_layout = \"past, present, future\"\n",
        "\n",
        "if the_taro_layout == \"question about taro\":\n",
        "\n",
        "  question = input()\n",
        "  retriver_answer = retriever.get_relevant_documents(\n",
        "    question\n",
        "  )\n",
        "  retriver_str_answer = [split.page_content for split in retriver_answer]\n",
        "  answer = get_retriever(retriver_str_answer[0], question)\n",
        "\n",
        "elif the_taro_layout == \"one card\":\n",
        "\n",
        "  random_key = random.choice(list(cards_meaning_splits.keys()))\n",
        "  additional_prompt = \"One card for your events: \"\n",
        "  random_card = cards_meaning_splits[random_key]\n",
        "  answer = ' '.join([additional_prompt, random_card])\n",
        "\n",
        "elif the_taro_layout == \"one card question\":\n",
        "\n",
        "  question = input()\n",
        "  random_key = random.choice(list(cards_meaning_splits.keys()))\n",
        "  random_card = cards_meaning_splits[random_key]\n",
        "  answer = get_one_card_prediction(\n",
        "      random_card,\n",
        "      f' Answer on question {question}.'\n",
        "      )\n",
        "\n",
        "elif the_taro_layout == \"past, present, future\":\n",
        "\n",
        "  times = {0: 'past', 1: 'present', 2: 'future'}\n",
        "  answer = []\n",
        "  for key, val in times.items():\n",
        "    random_key = random.choice(list(cards_meaning_splits.keys()))\n",
        "    random_card = cards_meaning_splits[random_key]\n",
        "    card_answer = get_one_card_prediction(random_card, f' Answer in {val} tense.')\n",
        "    answer.append( f\"\"\"{val} {card_answer}\"\"\")\n",
        "\n",
        "  answer = ' '.join(answer)\n",
        "\n",
        "elif the_taro_layout == \"the celtic cross\":\n",
        "\n",
        "  questions = {\n",
        "      0: \"1 Your situation\",\n",
        "      1: \"2 Responsibilities\",\n",
        "      2: \"3 Limitations and the past\",\n",
        "      3: \"4 What supports you\",\n",
        "      4: \"5 What opposes you\",\n",
        "      5: \"6 Achievements\",\n",
        "      6: \"7 Attraction and relationships\",\n",
        "      7: \"8 Work, health, and communication\",\n",
        "      8: \"9 What is hidden\",\n",
        "      9: \"10 The future environment; the outcome\"\n",
        "  }\n",
        "  for key, val in questions.items():\n",
        "    random_key = random.choice(list(cards_meaning_splits.keys()))\n",
        "    random_card = cards_meaning_splits[random_key]\n",
        "\n",
        "    answer = []\n",
        "    card_answer = get_one_card_prediction(random_card, f' Answer on question {val}.')\n",
        "    answer.append( f\"\"\"{val} {card_answer}\"\"\")\n",
        "\n",
        "  ' '.join(answer)\n",
        "\n",
        "elif the_taro_layout == \"yes or no\":\n",
        "\n",
        "  test_cards = []\n",
        "  for i in range(3):\n",
        "    test_cards.append(random.choice(list(cards_meaning_splits.keys())))\n",
        "\n",
        "  answer = get_yes_or_no(test_cards)"
      ]
    },
    {
      "cell_type": "markdown",
      "metadata": {
        "id": "PDHgMhghRp_3"
      },
      "source": [
        "# Код бота\n",
        "https://github.com/MaryIzo/taro_bot/tree/master"
      ]
    },
    {
      "cell_type": "code",
      "execution_count": null,
      "metadata": {
        "id": "nNoGHz-_K10q"
      },
      "outputs": [],
      "source": []
    }
  ],
  "metadata": {
    "colab": {
      "provenance": []
    },
    "kernelspec": {
      "display_name": "Python 3",
      "name": "python3"
    },
    "language_info": {
      "name": "python"
    },
    "widgets": {
      "application/vnd.jupyter.widget-state+json": {
        "020ee76a810c4a76a24912e6d970e173": {
          "model_module": "@jupyter-widgets/base",
          "model_module_version": "1.2.0",
          "model_name": "LayoutModel",
          "state": {
            "_model_module": "@jupyter-widgets/base",
            "_model_module_version": "1.2.0",
            "_model_name": "LayoutModel",
            "_view_count": null,
            "_view_module": "@jupyter-widgets/base",
            "_view_module_version": "1.2.0",
            "_view_name": "LayoutView",
            "align_content": null,
            "align_items": null,
            "align_self": null,
            "border": null,
            "bottom": null,
            "display": null,
            "flex": null,
            "flex_flow": null,
            "grid_area": null,
            "grid_auto_columns": null,
            "grid_auto_flow": null,
            "grid_auto_rows": null,
            "grid_column": null,
            "grid_gap": null,
            "grid_row": null,
            "grid_template_areas": null,
            "grid_template_columns": null,
            "grid_template_rows": null,
            "height": null,
            "justify_content": null,
            "justify_items": null,
            "left": null,
            "margin": null,
            "max_height": null,
            "max_width": null,
            "min_height": null,
            "min_width": null,
            "object_fit": null,
            "object_position": null,
            "order": null,
            "overflow": null,
            "overflow_x": null,
            "overflow_y": null,
            "padding": null,
            "right": null,
            "top": null,
            "visibility": null,
            "width": null
          }
        },
        "0215b7c1c4db441b96e24efbec61a3af": {
          "model_module": "@jupyter-widgets/controls",
          "model_module_version": "1.5.0",
          "model_name": "FloatProgressModel",
          "state": {
            "_dom_classes": [],
            "_model_module": "@jupyter-widgets/controls",
            "_model_module_version": "1.5.0",
            "_model_name": "FloatProgressModel",
            "_view_count": null,
            "_view_module": "@jupyter-widgets/controls",
            "_view_module_version": "1.5.0",
            "_view_name": "ProgressView",
            "bar_style": "success",
            "description": "",
            "description_tooltip": null,
            "layout": "IPY_MODEL_9cc516ecce584496b2a10d7ccf421bc4",
            "max": 53,
            "min": 0,
            "orientation": "horizontal",
            "style": "IPY_MODEL_0e227e64737148cdb8f2974cdd77f6af",
            "value": 53
          }
        },
        "02da68f434364715b4cba53a89ef6289": {
          "model_module": "@jupyter-widgets/base",
          "model_module_version": "1.2.0",
          "model_name": "LayoutModel",
          "state": {
            "_model_module": "@jupyter-widgets/base",
            "_model_module_version": "1.2.0",
            "_model_name": "LayoutModel",
            "_view_count": null,
            "_view_module": "@jupyter-widgets/base",
            "_view_module_version": "1.2.0",
            "_view_name": "LayoutView",
            "align_content": null,
            "align_items": null,
            "align_self": null,
            "border": null,
            "bottom": null,
            "display": null,
            "flex": null,
            "flex_flow": null,
            "grid_area": null,
            "grid_auto_columns": null,
            "grid_auto_flow": null,
            "grid_auto_rows": null,
            "grid_column": null,
            "grid_gap": null,
            "grid_row": null,
            "grid_template_areas": null,
            "grid_template_columns": null,
            "grid_template_rows": null,
            "height": null,
            "justify_content": null,
            "justify_items": null,
            "left": null,
            "margin": null,
            "max_height": null,
            "max_width": null,
            "min_height": null,
            "min_width": null,
            "object_fit": null,
            "object_position": null,
            "order": null,
            "overflow": null,
            "overflow_x": null,
            "overflow_y": null,
            "padding": null,
            "right": null,
            "top": null,
            "visibility": null,
            "width": null
          }
        },
        "042b2ebf12db499a985b6d9b20a9bbca": {
          "model_module": "@jupyter-widgets/controls",
          "model_module_version": "1.5.0",
          "model_name": "HBoxModel",
          "state": {
            "_dom_classes": [],
            "_model_module": "@jupyter-widgets/controls",
            "_model_module_version": "1.5.0",
            "_model_name": "HBoxModel",
            "_view_count": null,
            "_view_module": "@jupyter-widgets/controls",
            "_view_module_version": "1.5.0",
            "_view_name": "HBoxView",
            "box_style": "",
            "children": [
              "IPY_MODEL_fb3557f5d0804d3c9c44cd20aa94cf9f",
              "IPY_MODEL_229ce812cbf84fa9ab99e5a33e4740c5",
              "IPY_MODEL_f879fb2d0c2c468c9217e6cf96bb9fc4"
            ],
            "layout": "IPY_MODEL_81eae0d567a748e4b45a71290f201c03"
          }
        },
        "04c866e4853b4c1a9d23a7abe5aca532": {
          "model_module": "@jupyter-widgets/controls",
          "model_module_version": "1.5.0",
          "model_name": "HTMLModel",
          "state": {
            "_dom_classes": [],
            "_model_module": "@jupyter-widgets/controls",
            "_model_module_version": "1.5.0",
            "_model_name": "HTMLModel",
            "_view_count": null,
            "_view_module": "@jupyter-widgets/controls",
            "_view_module_version": "1.5.0",
            "_view_name": "HTMLView",
            "description": "",
            "description_tooltip": null,
            "layout": "IPY_MODEL_d4ae5a2af2b64161b1f18a5a3d46458e",
            "placeholder": "​",
            "style": "IPY_MODEL_11b1484489af40e6a96ac9c447ecfd43",
            "value": "tokenizer.json: 100%"
          }
        },
        "0537b458dca84a1c97143ee06f0cec77": {
          "model_module": "@jupyter-widgets/controls",
          "model_module_version": "1.5.0",
          "model_name": "HBoxModel",
          "state": {
            "_dom_classes": [],
            "_model_module": "@jupyter-widgets/controls",
            "_model_module_version": "1.5.0",
            "_model_name": "HBoxModel",
            "_view_count": null,
            "_view_module": "@jupyter-widgets/controls",
            "_view_module_version": "1.5.0",
            "_view_name": "HBoxView",
            "box_style": "",
            "children": [
              "IPY_MODEL_a8efeb2f2c9c4412a08ce55c9d8618e4",
              "IPY_MODEL_49cb9e43dd334f18a6dc068b6faee6f7",
              "IPY_MODEL_ee6b2d8b9dfa4075a03ea94594aca26c"
            ],
            "layout": "IPY_MODEL_14934b1f3f3e4a2799409bde0bfd9f5e"
          }
        },
        "0d8fe052951b44e9bbdda75c8affc106": {
          "model_module": "@jupyter-widgets/base",
          "model_module_version": "1.2.0",
          "model_name": "LayoutModel",
          "state": {
            "_model_module": "@jupyter-widgets/base",
            "_model_module_version": "1.2.0",
            "_model_name": "LayoutModel",
            "_view_count": null,
            "_view_module": "@jupyter-widgets/base",
            "_view_module_version": "1.2.0",
            "_view_name": "LayoutView",
            "align_content": null,
            "align_items": null,
            "align_self": null,
            "border": null,
            "bottom": null,
            "display": null,
            "flex": null,
            "flex_flow": null,
            "grid_area": null,
            "grid_auto_columns": null,
            "grid_auto_flow": null,
            "grid_auto_rows": null,
            "grid_column": null,
            "grid_gap": null,
            "grid_row": null,
            "grid_template_areas": null,
            "grid_template_columns": null,
            "grid_template_rows": null,
            "height": null,
            "justify_content": null,
            "justify_items": null,
            "left": null,
            "margin": null,
            "max_height": null,
            "max_width": null,
            "min_height": null,
            "min_width": null,
            "object_fit": null,
            "object_position": null,
            "order": null,
            "overflow": null,
            "overflow_x": null,
            "overflow_y": null,
            "padding": null,
            "right": null,
            "top": null,
            "visibility": null,
            "width": null
          }
        },
        "0dfc1df162bd49b890c9682b8fb3fe96": {
          "model_module": "@jupyter-widgets/base",
          "model_module_version": "1.2.0",
          "model_name": "LayoutModel",
          "state": {
            "_model_module": "@jupyter-widgets/base",
            "_model_module_version": "1.2.0",
            "_model_name": "LayoutModel",
            "_view_count": null,
            "_view_module": "@jupyter-widgets/base",
            "_view_module_version": "1.2.0",
            "_view_name": "LayoutView",
            "align_content": null,
            "align_items": null,
            "align_self": null,
            "border": null,
            "bottom": null,
            "display": null,
            "flex": null,
            "flex_flow": null,
            "grid_area": null,
            "grid_auto_columns": null,
            "grid_auto_flow": null,
            "grid_auto_rows": null,
            "grid_column": null,
            "grid_gap": null,
            "grid_row": null,
            "grid_template_areas": null,
            "grid_template_columns": null,
            "grid_template_rows": null,
            "height": null,
            "justify_content": null,
            "justify_items": null,
            "left": null,
            "margin": null,
            "max_height": null,
            "max_width": null,
            "min_height": null,
            "min_width": null,
            "object_fit": null,
            "object_position": null,
            "order": null,
            "overflow": null,
            "overflow_x": null,
            "overflow_y": null,
            "padding": null,
            "right": null,
            "top": null,
            "visibility": null,
            "width": null
          }
        },
        "0e227e64737148cdb8f2974cdd77f6af": {
          "model_module": "@jupyter-widgets/controls",
          "model_module_version": "1.5.0",
          "model_name": "ProgressStyleModel",
          "state": {
            "_model_module": "@jupyter-widgets/controls",
            "_model_module_version": "1.5.0",
            "_model_name": "ProgressStyleModel",
            "_view_count": null,
            "_view_module": "@jupyter-widgets/base",
            "_view_module_version": "1.2.0",
            "_view_name": "StyleView",
            "bar_color": null,
            "description_width": ""
          }
        },
        "11b1484489af40e6a96ac9c447ecfd43": {
          "model_module": "@jupyter-widgets/controls",
          "model_module_version": "1.5.0",
          "model_name": "DescriptionStyleModel",
          "state": {
            "_model_module": "@jupyter-widgets/controls",
            "_model_module_version": "1.5.0",
            "_model_name": "DescriptionStyleModel",
            "_view_count": null,
            "_view_module": "@jupyter-widgets/base",
            "_view_module_version": "1.2.0",
            "_view_name": "StyleView",
            "description_width": ""
          }
        },
        "1226918089cb4570aebe45d0a8bf28ac": {
          "model_module": "@jupyter-widgets/controls",
          "model_module_version": "1.5.0",
          "model_name": "HTMLModel",
          "state": {
            "_dom_classes": [],
            "_model_module": "@jupyter-widgets/controls",
            "_model_module_version": "1.5.0",
            "_model_name": "HTMLModel",
            "_view_count": null,
            "_view_module": "@jupyter-widgets/controls",
            "_view_module_version": "1.5.0",
            "_view_name": "HTMLView",
            "description": "",
            "description_tooltip": null,
            "layout": "IPY_MODEL_87656e6bbcb740fb83e51d269606e21f",
            "placeholder": "​",
            "style": "IPY_MODEL_83913b84487446369b0d04efac10d226",
            "value": "config.json: 100%"
          }
        },
        "126e302df32a48568aecf213ccff6064": {
          "model_module": "@jupyter-widgets/controls",
          "model_module_version": "1.5.0",
          "model_name": "DescriptionStyleModel",
          "state": {
            "_model_module": "@jupyter-widgets/controls",
            "_model_module_version": "1.5.0",
            "_model_name": "DescriptionStyleModel",
            "_view_count": null,
            "_view_module": "@jupyter-widgets/base",
            "_view_module_version": "1.2.0",
            "_view_name": "StyleView",
            "description_width": ""
          }
        },
        "14934b1f3f3e4a2799409bde0bfd9f5e": {
          "model_module": "@jupyter-widgets/base",
          "model_module_version": "1.2.0",
          "model_name": "LayoutModel",
          "state": {
            "_model_module": "@jupyter-widgets/base",
            "_model_module_version": "1.2.0",
            "_model_name": "LayoutModel",
            "_view_count": null,
            "_view_module": "@jupyter-widgets/base",
            "_view_module_version": "1.2.0",
            "_view_name": "LayoutView",
            "align_content": null,
            "align_items": null,
            "align_self": null,
            "border": null,
            "bottom": null,
            "display": null,
            "flex": null,
            "flex_flow": null,
            "grid_area": null,
            "grid_auto_columns": null,
            "grid_auto_flow": null,
            "grid_auto_rows": null,
            "grid_column": null,
            "grid_gap": null,
            "grid_row": null,
            "grid_template_areas": null,
            "grid_template_columns": null,
            "grid_template_rows": null,
            "height": null,
            "justify_content": null,
            "justify_items": null,
            "left": null,
            "margin": null,
            "max_height": null,
            "max_width": null,
            "min_height": null,
            "min_width": null,
            "object_fit": null,
            "object_position": null,
            "order": null,
            "overflow": null,
            "overflow_x": null,
            "overflow_y": null,
            "padding": null,
            "right": null,
            "top": null,
            "visibility": null,
            "width": null
          }
        },
        "1b8424e5666744d5832e0a5b9e782a1e": {
          "model_module": "@jupyter-widgets/controls",
          "model_module_version": "1.5.0",
          "model_name": "DescriptionStyleModel",
          "state": {
            "_model_module": "@jupyter-widgets/controls",
            "_model_module_version": "1.5.0",
            "_model_name": "DescriptionStyleModel",
            "_view_count": null,
            "_view_module": "@jupyter-widgets/base",
            "_view_module_version": "1.2.0",
            "_view_name": "StyleView",
            "description_width": ""
          }
        },
        "1de0620b589c4d1da62701ccb009fd9f": {
          "model_module": "@jupyter-widgets/base",
          "model_module_version": "1.2.0",
          "model_name": "LayoutModel",
          "state": {
            "_model_module": "@jupyter-widgets/base",
            "_model_module_version": "1.2.0",
            "_model_name": "LayoutModel",
            "_view_count": null,
            "_view_module": "@jupyter-widgets/base",
            "_view_module_version": "1.2.0",
            "_view_name": "LayoutView",
            "align_content": null,
            "align_items": null,
            "align_self": null,
            "border": null,
            "bottom": null,
            "display": null,
            "flex": null,
            "flex_flow": null,
            "grid_area": null,
            "grid_auto_columns": null,
            "grid_auto_flow": null,
            "grid_auto_rows": null,
            "grid_column": null,
            "grid_gap": null,
            "grid_row": null,
            "grid_template_areas": null,
            "grid_template_columns": null,
            "grid_template_rows": null,
            "height": null,
            "justify_content": null,
            "justify_items": null,
            "left": null,
            "margin": null,
            "max_height": null,
            "max_width": null,
            "min_height": null,
            "min_width": null,
            "object_fit": null,
            "object_position": null,
            "order": null,
            "overflow": null,
            "overflow_x": null,
            "overflow_y": null,
            "padding": null,
            "right": null,
            "top": null,
            "visibility": null,
            "width": null
          }
        },
        "1fd2580a4d78492b87f95e929d16ff23": {
          "model_module": "@jupyter-widgets/controls",
          "model_module_version": "1.5.0",
          "model_name": "DescriptionStyleModel",
          "state": {
            "_model_module": "@jupyter-widgets/controls",
            "_model_module_version": "1.5.0",
            "_model_name": "DescriptionStyleModel",
            "_view_count": null,
            "_view_module": "@jupyter-widgets/base",
            "_view_module_version": "1.2.0",
            "_view_name": "StyleView",
            "description_width": ""
          }
        },
        "2213a5d87ca84989b04f88ef5a0774cc": {
          "model_module": "@jupyter-widgets/base",
          "model_module_version": "1.2.0",
          "model_name": "LayoutModel",
          "state": {
            "_model_module": "@jupyter-widgets/base",
            "_model_module_version": "1.2.0",
            "_model_name": "LayoutModel",
            "_view_count": null,
            "_view_module": "@jupyter-widgets/base",
            "_view_module_version": "1.2.0",
            "_view_name": "LayoutView",
            "align_content": null,
            "align_items": null,
            "align_self": null,
            "border": null,
            "bottom": null,
            "display": null,
            "flex": null,
            "flex_flow": null,
            "grid_area": null,
            "grid_auto_columns": null,
            "grid_auto_flow": null,
            "grid_auto_rows": null,
            "grid_column": null,
            "grid_gap": null,
            "grid_row": null,
            "grid_template_areas": null,
            "grid_template_columns": null,
            "grid_template_rows": null,
            "height": null,
            "justify_content": null,
            "justify_items": null,
            "left": null,
            "margin": null,
            "max_height": null,
            "max_width": null,
            "min_height": null,
            "min_width": null,
            "object_fit": null,
            "object_position": null,
            "order": null,
            "overflow": null,
            "overflow_x": null,
            "overflow_y": null,
            "padding": null,
            "right": null,
            "top": null,
            "visibility": null,
            "width": null
          }
        },
        "229ce812cbf84fa9ab99e5a33e4740c5": {
          "model_module": "@jupyter-widgets/controls",
          "model_module_version": "1.5.0",
          "model_name": "FloatProgressModel",
          "state": {
            "_dom_classes": [],
            "_model_module": "@jupyter-widgets/controls",
            "_model_module_version": "1.5.0",
            "_model_name": "FloatProgressModel",
            "_view_count": null,
            "_view_module": "@jupyter-widgets/controls",
            "_view_module_version": "1.5.0",
            "_view_name": "ProgressView",
            "bar_style": "success",
            "description": "",
            "description_tooltip": null,
            "layout": "IPY_MODEL_4becdf0d93f34e67b42f965713827585",
            "max": 2363431,
            "min": 0,
            "orientation": "horizontal",
            "style": "IPY_MODEL_d32196c69d0c496bae6b70037935c01c",
            "value": 2363431
          }
        },
        "23287287219b4ee586551a68830302d4": {
          "model_module": "@jupyter-widgets/controls",
          "model_module_version": "1.5.0",
          "model_name": "HBoxModel",
          "state": {
            "_dom_classes": [],
            "_model_module": "@jupyter-widgets/controls",
            "_model_module_version": "1.5.0",
            "_model_name": "HBoxModel",
            "_view_count": null,
            "_view_module": "@jupyter-widgets/controls",
            "_view_module_version": "1.5.0",
            "_view_name": "HBoxView",
            "box_style": "",
            "children": [
              "IPY_MODEL_3c8ce8f593c0427dac4ce097eb28515f",
              "IPY_MODEL_970c8168dfed4a31b1effa3c516eb2a8",
              "IPY_MODEL_5ef32c2397bb447f8069de6ecdbe33f8"
            ],
            "layout": "IPY_MODEL_ae08d5fb930f477594408d78a4d578bc"
          }
        },
        "28c72d3913fa4ff19d2d21566f27faa2": {
          "model_module": "@jupyter-widgets/controls",
          "model_module_version": "1.5.0",
          "model_name": "HBoxModel",
          "state": {
            "_dom_classes": [],
            "_model_module": "@jupyter-widgets/controls",
            "_model_module_version": "1.5.0",
            "_model_name": "HBoxModel",
            "_view_count": null,
            "_view_module": "@jupyter-widgets/controls",
            "_view_module_version": "1.5.0",
            "_view_name": "HBoxView",
            "box_style": "",
            "children": [
              "IPY_MODEL_04c866e4853b4c1a9d23a7abe5aca532",
              "IPY_MODEL_6119d148d5964fd085010f53c1f85004",
              "IPY_MODEL_e35d5633652040f0af87e846733c1925"
            ],
            "layout": "IPY_MODEL_4c2781992caa446e9178b576336f3b4f"
          }
        },
        "2a5d3092800e4d1e8f28b3330f00a5dc": {
          "model_module": "@jupyter-widgets/base",
          "model_module_version": "1.2.0",
          "model_name": "LayoutModel",
          "state": {
            "_model_module": "@jupyter-widgets/base",
            "_model_module_version": "1.2.0",
            "_model_name": "LayoutModel",
            "_view_count": null,
            "_view_module": "@jupyter-widgets/base",
            "_view_module_version": "1.2.0",
            "_view_name": "LayoutView",
            "align_content": null,
            "align_items": null,
            "align_self": null,
            "border": null,
            "bottom": null,
            "display": null,
            "flex": null,
            "flex_flow": null,
            "grid_area": null,
            "grid_auto_columns": null,
            "grid_auto_flow": null,
            "grid_auto_rows": null,
            "grid_column": null,
            "grid_gap": null,
            "grid_row": null,
            "grid_template_areas": null,
            "grid_template_columns": null,
            "grid_template_rows": null,
            "height": null,
            "justify_content": null,
            "justify_items": null,
            "left": null,
            "margin": null,
            "max_height": null,
            "max_width": null,
            "min_height": null,
            "min_width": null,
            "object_fit": null,
            "object_position": null,
            "order": null,
            "overflow": null,
            "overflow_x": null,
            "overflow_y": null,
            "padding": null,
            "right": null,
            "top": null,
            "visibility": null,
            "width": null
          }
        },
        "2d71d2c983cf40c486888fb011ad9d91": {
          "model_module": "@jupyter-widgets/base",
          "model_module_version": "1.2.0",
          "model_name": "LayoutModel",
          "state": {
            "_model_module": "@jupyter-widgets/base",
            "_model_module_version": "1.2.0",
            "_model_name": "LayoutModel",
            "_view_count": null,
            "_view_module": "@jupyter-widgets/base",
            "_view_module_version": "1.2.0",
            "_view_name": "LayoutView",
            "align_content": null,
            "align_items": null,
            "align_self": null,
            "border": null,
            "bottom": null,
            "display": null,
            "flex": null,
            "flex_flow": null,
            "grid_area": null,
            "grid_auto_columns": null,
            "grid_auto_flow": null,
            "grid_auto_rows": null,
            "grid_column": null,
            "grid_gap": null,
            "grid_row": null,
            "grid_template_areas": null,
            "grid_template_columns": null,
            "grid_template_rows": null,
            "height": null,
            "justify_content": null,
            "justify_items": null,
            "left": null,
            "margin": null,
            "max_height": null,
            "max_width": null,
            "min_height": null,
            "min_width": null,
            "object_fit": null,
            "object_position": null,
            "order": null,
            "overflow": null,
            "overflow_x": null,
            "overflow_y": null,
            "padding": null,
            "right": null,
            "top": null,
            "visibility": null,
            "width": null
          }
        },
        "2dbbef556ecc4f41bcdf00f96d77a90a": {
          "model_module": "@jupyter-widgets/controls",
          "model_module_version": "1.5.0",
          "model_name": "HTMLModel",
          "state": {
            "_dom_classes": [],
            "_model_module": "@jupyter-widgets/controls",
            "_model_module_version": "1.5.0",
            "_model_name": "HTMLModel",
            "_view_count": null,
            "_view_module": "@jupyter-widgets/controls",
            "_view_module_version": "1.5.0",
            "_view_name": "HTMLView",
            "description": "",
            "description_tooltip": null,
            "layout": "IPY_MODEL_719c815c5e304ef1a7f10418cf14b60f",
            "placeholder": "​",
            "style": "IPY_MODEL_1fd2580a4d78492b87f95e929d16ff23",
            "value": "pytorch_model.bin: 100%"
          }
        },
        "2fd51bc4ab604913a314c039dde960fc": {
          "model_module": "@jupyter-widgets/controls",
          "model_module_version": "1.5.0",
          "model_name": "ProgressStyleModel",
          "state": {
            "_model_module": "@jupyter-widgets/controls",
            "_model_module_version": "1.5.0",
            "_model_name": "ProgressStyleModel",
            "_view_count": null,
            "_view_module": "@jupyter-widgets/base",
            "_view_module_version": "1.2.0",
            "_view_name": "StyleView",
            "bar_color": null,
            "description_width": ""
          }
        },
        "3157386ea6244645bea2bf3993992796": {
          "model_module": "@jupyter-widgets/controls",
          "model_module_version": "1.5.0",
          "model_name": "HTMLModel",
          "state": {
            "_dom_classes": [],
            "_model_module": "@jupyter-widgets/controls",
            "_model_module_version": "1.5.0",
            "_model_name": "HTMLModel",
            "_view_count": null,
            "_view_module": "@jupyter-widgets/controls",
            "_view_module_version": "1.5.0",
            "_view_name": "HTMLView",
            "description": "",
            "description_tooltip": null,
            "layout": "IPY_MODEL_97ff876b8d6446ba9bbafcc83d77e624",
            "placeholder": "​",
            "style": "IPY_MODEL_97b526d1be0346438c49cdd4023b0b57",
            "value": "special_tokens_map.json: 100%"
          }
        },
        "345174e8e1a94639a2be5f8d826930e7": {
          "model_module": "@jupyter-widgets/controls",
          "model_module_version": "1.5.0",
          "model_name": "HTMLModel",
          "state": {
            "_dom_classes": [],
            "_model_module": "@jupyter-widgets/controls",
            "_model_module_version": "1.5.0",
            "_model_name": "HTMLModel",
            "_view_count": null,
            "_view_module": "@jupyter-widgets/controls",
            "_view_module_version": "1.5.0",
            "_view_name": "HTMLView",
            "description": "",
            "description_tooltip": null,
            "layout": "IPY_MODEL_daaea007277249499b6af3a7ca38518d",
            "placeholder": "​",
            "style": "IPY_MODEL_1b8424e5666744d5832e0a5b9e782a1e",
            "value": " 53.0/53.0 [00:00&lt;00:00, 967B/s]"
          }
        },
        "35c4fb8a6ca64628afab3e47ce5dcd5c": {
          "model_module": "@jupyter-widgets/controls",
          "model_module_version": "1.5.0",
          "model_name": "DescriptionStyleModel",
          "state": {
            "_model_module": "@jupyter-widgets/controls",
            "_model_module_version": "1.5.0",
            "_model_name": "DescriptionStyleModel",
            "_view_count": null,
            "_view_module": "@jupyter-widgets/base",
            "_view_module_version": "1.2.0",
            "_view_name": "StyleView",
            "description_width": ""
          }
        },
        "3712bc6fd2564b988e3b30f40a31027e": {
          "model_module": "@jupyter-widgets/controls",
          "model_module_version": "1.5.0",
          "model_name": "FloatProgressModel",
          "state": {
            "_dom_classes": [],
            "_model_module": "@jupyter-widgets/controls",
            "_model_module_version": "1.5.0",
            "_model_name": "FloatProgressModel",
            "_view_count": null,
            "_view_module": "@jupyter-widgets/controls",
            "_view_module_version": "1.5.0",
            "_view_name": "ProgressView",
            "bar_style": "success",
            "description": "",
            "description_tooltip": null,
            "layout": "IPY_MODEL_4398557f7d784163b1fb83482d9aa50e",
            "max": 2216,
            "min": 0,
            "orientation": "horizontal",
            "style": "IPY_MODEL_cbee429ddac34a1eb1626c872a87b191",
            "value": 2216
          }
        },
        "37bc1ea51c724f46bbe02f96fc960f33": {
          "model_module": "@jupyter-widgets/base",
          "model_module_version": "1.2.0",
          "model_name": "LayoutModel",
          "state": {
            "_model_module": "@jupyter-widgets/base",
            "_model_module_version": "1.2.0",
            "_model_name": "LayoutModel",
            "_view_count": null,
            "_view_module": "@jupyter-widgets/base",
            "_view_module_version": "1.2.0",
            "_view_name": "LayoutView",
            "align_content": null,
            "align_items": null,
            "align_self": null,
            "border": null,
            "bottom": null,
            "display": null,
            "flex": null,
            "flex_flow": null,
            "grid_area": null,
            "grid_auto_columns": null,
            "grid_auto_flow": null,
            "grid_auto_rows": null,
            "grid_column": null,
            "grid_gap": null,
            "grid_row": null,
            "grid_template_areas": null,
            "grid_template_columns": null,
            "grid_template_rows": null,
            "height": null,
            "justify_content": null,
            "justify_items": null,
            "left": null,
            "margin": null,
            "max_height": null,
            "max_width": null,
            "min_height": null,
            "min_width": null,
            "object_fit": null,
            "object_position": null,
            "order": null,
            "overflow": null,
            "overflow_x": null,
            "overflow_y": null,
            "padding": null,
            "right": null,
            "top": null,
            "visibility": null,
            "width": null
          }
        },
        "38479b6a717b466aaae93fad8af6c78d": {
          "model_module": "@jupyter-widgets/controls",
          "model_module_version": "1.5.0",
          "model_name": "HTMLModel",
          "state": {
            "_dom_classes": [],
            "_model_module": "@jupyter-widgets/controls",
            "_model_module_version": "1.5.0",
            "_model_name": "HTMLModel",
            "_view_count": null,
            "_view_module": "@jupyter-widgets/controls",
            "_view_module_version": "1.5.0",
            "_view_name": "HTMLView",
            "description": "",
            "description_tooltip": null,
            "layout": "IPY_MODEL_57a6a831934e4dad816f30ecb298eb47",
            "placeholder": "​",
            "style": "IPY_MODEL_906c2371bc48418fb9e164c2b4180ea5",
            "value": " 190/190 [00:00&lt;00:00, 6.06kB/s]"
          }
        },
        "3c8ce8f593c0427dac4ce097eb28515f": {
          "model_module": "@jupyter-widgets/controls",
          "model_module_version": "1.5.0",
          "model_name": "HTMLModel",
          "state": {
            "_dom_classes": [],
            "_model_module": "@jupyter-widgets/controls",
            "_model_module_version": "1.5.0",
            "_model_name": "HTMLModel",
            "_view_count": null,
            "_view_module": "@jupyter-widgets/controls",
            "_view_module_version": "1.5.0",
            "_view_name": "HTMLView",
            "description": "",
            "description_tooltip": null,
            "layout": "IPY_MODEL_caa37882c51443488a9b6289042e5052",
            "placeholder": "​",
            "style": "IPY_MODEL_955c22151e544706a5cdbb607c971ceb",
            "value": "config_sentence_transformers.json: 100%"
          }
        },
        "3d707fd4fbd34649884c40a854171b6d": {
          "model_module": "@jupyter-widgets/controls",
          "model_module_version": "1.5.0",
          "model_name": "FloatProgressModel",
          "state": {
            "_dom_classes": [],
            "_model_module": "@jupyter-widgets/controls",
            "_model_module_version": "1.5.0",
            "_model_name": "FloatProgressModel",
            "_view_count": null,
            "_view_module": "@jupyter-widgets/controls",
            "_view_module_version": "1.5.0",
            "_view_name": "ProgressView",
            "bar_style": "success",
            "description": "",
            "description_tooltip": null,
            "layout": "IPY_MODEL_5d12b76aecb748d5bd61ff207a663c58",
            "max": 114,
            "min": 0,
            "orientation": "horizontal",
            "style": "IPY_MODEL_575c510614c640ebaa84ec2981cd7536",
            "value": 114
          }
        },
        "3dad5fd25f2b46c5bb513d1be782e9c3": {
          "model_module": "@jupyter-widgets/controls",
          "model_module_version": "1.5.0",
          "model_name": "ProgressStyleModel",
          "state": {
            "_model_module": "@jupyter-widgets/controls",
            "_model_module_version": "1.5.0",
            "_model_name": "ProgressStyleModel",
            "_view_count": null,
            "_view_module": "@jupyter-widgets/base",
            "_view_module_version": "1.2.0",
            "_view_name": "StyleView",
            "bar_color": null,
            "description_width": ""
          }
        },
        "3f94f689c1e349399f720a2437c34fc4": {
          "model_module": "@jupyter-widgets/base",
          "model_module_version": "1.2.0",
          "model_name": "LayoutModel",
          "state": {
            "_model_module": "@jupyter-widgets/base",
            "_model_module_version": "1.2.0",
            "_model_name": "LayoutModel",
            "_view_count": null,
            "_view_module": "@jupyter-widgets/base",
            "_view_module_version": "1.2.0",
            "_view_name": "LayoutView",
            "align_content": null,
            "align_items": null,
            "align_self": null,
            "border": null,
            "bottom": null,
            "display": null,
            "flex": null,
            "flex_flow": null,
            "grid_area": null,
            "grid_auto_columns": null,
            "grid_auto_flow": null,
            "grid_auto_rows": null,
            "grid_column": null,
            "grid_gap": null,
            "grid_row": null,
            "grid_template_areas": null,
            "grid_template_columns": null,
            "grid_template_rows": null,
            "height": null,
            "justify_content": null,
            "justify_items": null,
            "left": null,
            "margin": null,
            "max_height": null,
            "max_width": null,
            "min_height": null,
            "min_width": null,
            "object_fit": null,
            "object_position": null,
            "order": null,
            "overflow": null,
            "overflow_x": null,
            "overflow_y": null,
            "padding": null,
            "right": null,
            "top": null,
            "visibility": null,
            "width": null
          }
        },
        "40d1d9285fa64df482b1c5fcbbe5ab0d": {
          "model_module": "@jupyter-widgets/controls",
          "model_module_version": "1.5.0",
          "model_name": "HTMLModel",
          "state": {
            "_dom_classes": [],
            "_model_module": "@jupyter-widgets/controls",
            "_model_module_version": "1.5.0",
            "_model_name": "HTMLModel",
            "_view_count": null,
            "_view_module": "@jupyter-widgets/controls",
            "_view_module_version": "1.5.0",
            "_view_name": "HTMLView",
            "description": "",
            "description_tooltip": null,
            "layout": "IPY_MODEL_e437df8c4cf34f8db96b0407a977d7ba",
            "placeholder": "​",
            "style": "IPY_MODEL_9e2c8fda9ab749d5a548088f683dde9a",
            "value": " 112/112 [00:00&lt;00:00, 5.43kB/s]"
          }
        },
        "41bab2af8460465aa44372106cb140b1": {
          "model_module": "@jupyter-widgets/controls",
          "model_module_version": "1.5.0",
          "model_name": "HBoxModel",
          "state": {
            "_dom_classes": [],
            "_model_module": "@jupyter-widgets/controls",
            "_model_module_version": "1.5.0",
            "_model_name": "HBoxModel",
            "_view_count": null,
            "_view_module": "@jupyter-widgets/controls",
            "_view_module_version": "1.5.0",
            "_view_name": "HBoxView",
            "box_style": "",
            "children": [
              "IPY_MODEL_a35aa77ae5824f8583043ffacac56435",
              "IPY_MODEL_c618308bff8240b09311f1313b969123",
              "IPY_MODEL_38479b6a717b466aaae93fad8af6c78d"
            ],
            "layout": "IPY_MODEL_cd4d0533cbef447580c302dfabcfa604"
          }
        },
        "42efccedb77046cdab6814ad0677379f": {
          "model_module": "@jupyter-widgets/controls",
          "model_module_version": "1.5.0",
          "model_name": "DescriptionStyleModel",
          "state": {
            "_model_module": "@jupyter-widgets/controls",
            "_model_module_version": "1.5.0",
            "_model_name": "DescriptionStyleModel",
            "_view_count": null,
            "_view_module": "@jupyter-widgets/base",
            "_view_module_version": "1.2.0",
            "_view_name": "StyleView",
            "description_width": ""
          }
        },
        "4398557f7d784163b1fb83482d9aa50e": {
          "model_module": "@jupyter-widgets/base",
          "model_module_version": "1.2.0",
          "model_name": "LayoutModel",
          "state": {
            "_model_module": "@jupyter-widgets/base",
            "_model_module_version": "1.2.0",
            "_model_name": "LayoutModel",
            "_view_count": null,
            "_view_module": "@jupyter-widgets/base",
            "_view_module_version": "1.2.0",
            "_view_name": "LayoutView",
            "align_content": null,
            "align_items": null,
            "align_self": null,
            "border": null,
            "bottom": null,
            "display": null,
            "flex": null,
            "flex_flow": null,
            "grid_area": null,
            "grid_auto_columns": null,
            "grid_auto_flow": null,
            "grid_auto_rows": null,
            "grid_column": null,
            "grid_gap": null,
            "grid_row": null,
            "grid_template_areas": null,
            "grid_template_columns": null,
            "grid_template_rows": null,
            "height": null,
            "justify_content": null,
            "justify_items": null,
            "left": null,
            "margin": null,
            "max_height": null,
            "max_width": null,
            "min_height": null,
            "min_width": null,
            "object_fit": null,
            "object_position": null,
            "order": null,
            "overflow": null,
            "overflow_x": null,
            "overflow_y": null,
            "padding": null,
            "right": null,
            "top": null,
            "visibility": null,
            "width": null
          }
        },
        "4437f312503d4cf9b4dc855f3ad6f7d4": {
          "model_module": "@jupyter-widgets/base",
          "model_module_version": "1.2.0",
          "model_name": "LayoutModel",
          "state": {
            "_model_module": "@jupyter-widgets/base",
            "_model_module_version": "1.2.0",
            "_model_name": "LayoutModel",
            "_view_count": null,
            "_view_module": "@jupyter-widgets/base",
            "_view_module_version": "1.2.0",
            "_view_name": "LayoutView",
            "align_content": null,
            "align_items": null,
            "align_self": null,
            "border": null,
            "bottom": null,
            "display": null,
            "flex": null,
            "flex_flow": null,
            "grid_area": null,
            "grid_auto_columns": null,
            "grid_auto_flow": null,
            "grid_auto_rows": null,
            "grid_column": null,
            "grid_gap": null,
            "grid_row": null,
            "grid_template_areas": null,
            "grid_template_columns": null,
            "grid_template_rows": null,
            "height": null,
            "justify_content": null,
            "justify_items": null,
            "left": null,
            "margin": null,
            "max_height": null,
            "max_width": null,
            "min_height": null,
            "min_width": null,
            "object_fit": null,
            "object_position": null,
            "order": null,
            "overflow": null,
            "overflow_x": null,
            "overflow_y": null,
            "padding": null,
            "right": null,
            "top": null,
            "visibility": null,
            "width": null
          }
        },
        "44b66f34ce824dfb87701a02f3324302": {
          "model_module": "@jupyter-widgets/controls",
          "model_module_version": "1.5.0",
          "model_name": "DescriptionStyleModel",
          "state": {
            "_model_module": "@jupyter-widgets/controls",
            "_model_module_version": "1.5.0",
            "_model_name": "DescriptionStyleModel",
            "_view_count": null,
            "_view_module": "@jupyter-widgets/base",
            "_view_module_version": "1.2.0",
            "_view_name": "StyleView",
            "description_width": ""
          }
        },
        "48935556010d4538bd8f22d85053678d": {
          "model_module": "@jupyter-widgets/controls",
          "model_module_version": "1.5.0",
          "model_name": "HBoxModel",
          "state": {
            "_dom_classes": [],
            "_model_module": "@jupyter-widgets/controls",
            "_model_module_version": "1.5.0",
            "_model_name": "HBoxModel",
            "_view_count": null,
            "_view_module": "@jupyter-widgets/controls",
            "_view_module_version": "1.5.0",
            "_view_name": "HBoxView",
            "box_style": "",
            "children": [
              "IPY_MODEL_7225cb7aa89a450c84b0e6d2d89e0f94",
              "IPY_MODEL_a8617e4d016d4e24b784ad84fe1c99f3",
              "IPY_MODEL_8ac5979b56ac473f98d420052974e136"
            ],
            "layout": "IPY_MODEL_646ad6447ea34affbfdcc6c9f028a086"
          }
        },
        "49cb9e43dd334f18a6dc068b6faee6f7": {
          "model_module": "@jupyter-widgets/controls",
          "model_module_version": "1.5.0",
          "model_name": "FloatProgressModel",
          "state": {
            "_dom_classes": [],
            "_model_module": "@jupyter-widgets/controls",
            "_model_module_version": "1.5.0",
            "_model_name": "FloatProgressModel",
            "_view_count": null,
            "_view_module": "@jupyter-widgets/controls",
            "_view_module_version": "1.5.0",
            "_view_name": "ProgressView",
            "bar_style": "success",
            "description": "",
            "description_tooltip": null,
            "layout": "IPY_MODEL_53e21f4f133244339ad18b7de18aacba",
            "max": 461,
            "min": 0,
            "orientation": "horizontal",
            "style": "IPY_MODEL_3dad5fd25f2b46c5bb513d1be782e9c3",
            "value": 461
          }
        },
        "4becdf0d93f34e67b42f965713827585": {
          "model_module": "@jupyter-widgets/base",
          "model_module_version": "1.2.0",
          "model_name": "LayoutModel",
          "state": {
            "_model_module": "@jupyter-widgets/base",
            "_model_module_version": "1.2.0",
            "_model_name": "LayoutModel",
            "_view_count": null,
            "_view_module": "@jupyter-widgets/base",
            "_view_module_version": "1.2.0",
            "_view_name": "LayoutView",
            "align_content": null,
            "align_items": null,
            "align_self": null,
            "border": null,
            "bottom": null,
            "display": null,
            "flex": null,
            "flex_flow": null,
            "grid_area": null,
            "grid_auto_columns": null,
            "grid_auto_flow": null,
            "grid_auto_rows": null,
            "grid_column": null,
            "grid_gap": null,
            "grid_row": null,
            "grid_template_areas": null,
            "grid_template_columns": null,
            "grid_template_rows": null,
            "height": null,
            "justify_content": null,
            "justify_items": null,
            "left": null,
            "margin": null,
            "max_height": null,
            "max_width": null,
            "min_height": null,
            "min_width": null,
            "object_fit": null,
            "object_position": null,
            "order": null,
            "overflow": null,
            "overflow_x": null,
            "overflow_y": null,
            "padding": null,
            "right": null,
            "top": null,
            "visibility": null,
            "width": null
          }
        },
        "4c2781992caa446e9178b576336f3b4f": {
          "model_module": "@jupyter-widgets/base",
          "model_module_version": "1.2.0",
          "model_name": "LayoutModel",
          "state": {
            "_model_module": "@jupyter-widgets/base",
            "_model_module_version": "1.2.0",
            "_model_name": "LayoutModel",
            "_view_count": null,
            "_view_module": "@jupyter-widgets/base",
            "_view_module_version": "1.2.0",
            "_view_name": "LayoutView",
            "align_content": null,
            "align_items": null,
            "align_self": null,
            "border": null,
            "bottom": null,
            "display": null,
            "flex": null,
            "flex_flow": null,
            "grid_area": null,
            "grid_auto_columns": null,
            "grid_auto_flow": null,
            "grid_auto_rows": null,
            "grid_column": null,
            "grid_gap": null,
            "grid_row": null,
            "grid_template_areas": null,
            "grid_template_columns": null,
            "grid_template_rows": null,
            "height": null,
            "justify_content": null,
            "justify_items": null,
            "left": null,
            "margin": null,
            "max_height": null,
            "max_width": null,
            "min_height": null,
            "min_width": null,
            "object_fit": null,
            "object_position": null,
            "order": null,
            "overflow": null,
            "overflow_x": null,
            "overflow_y": null,
            "padding": null,
            "right": null,
            "top": null,
            "visibility": null,
            "width": null
          }
        },
        "4d48305669294a4b800cc8ba5b34a1db": {
          "model_module": "@jupyter-widgets/controls",
          "model_module_version": "1.5.0",
          "model_name": "DescriptionStyleModel",
          "state": {
            "_model_module": "@jupyter-widgets/controls",
            "_model_module_version": "1.5.0",
            "_model_name": "DescriptionStyleModel",
            "_view_count": null,
            "_view_module": "@jupyter-widgets/base",
            "_view_module_version": "1.2.0",
            "_view_name": "StyleView",
            "description_width": ""
          }
        },
        "4dd0f4973d7049769db6b72e64fe3921": {
          "model_module": "@jupyter-widgets/controls",
          "model_module_version": "1.5.0",
          "model_name": "HTMLModel",
          "state": {
            "_dom_classes": [],
            "_model_module": "@jupyter-widgets/controls",
            "_model_module_version": "1.5.0",
            "_model_name": "HTMLModel",
            "_view_count": null,
            "_view_module": "@jupyter-widgets/controls",
            "_view_module_version": "1.5.0",
            "_view_name": "HTMLView",
            "description": "",
            "description_tooltip": null,
            "layout": "IPY_MODEL_f7f87f4fcfa14b509e386161c4256fb7",
            "placeholder": "​",
            "style": "IPY_MODEL_8cebb7705ac646a68431016774d2b9b8",
            "value": "2_Dense/config.json: 100%"
          }
        },
        "5312161c9d674feb98441eb064858bb4": {
          "model_module": "@jupyter-widgets/controls",
          "model_module_version": "1.5.0",
          "model_name": "HTMLModel",
          "state": {
            "_dom_classes": [],
            "_model_module": "@jupyter-widgets/controls",
            "_model_module_version": "1.5.0",
            "_model_name": "HTMLModel",
            "_view_count": null,
            "_view_module": "@jupyter-widgets/controls",
            "_view_module_version": "1.5.0",
            "_view_name": "HTMLView",
            "description": "",
            "description_tooltip": null,
            "layout": "IPY_MODEL_02da68f434364715b4cba53a89ef6289",
            "placeholder": "​",
            "style": "IPY_MODEL_e903ea0a8d004127a677689444b9cf2e",
            "value": "README.md: 100%"
          }
        },
        "53e21f4f133244339ad18b7de18aacba": {
          "model_module": "@jupyter-widgets/base",
          "model_module_version": "1.2.0",
          "model_name": "LayoutModel",
          "state": {
            "_model_module": "@jupyter-widgets/base",
            "_model_module_version": "1.2.0",
            "_model_name": "LayoutModel",
            "_view_count": null,
            "_view_module": "@jupyter-widgets/base",
            "_view_module_version": "1.2.0",
            "_view_name": "LayoutView",
            "align_content": null,
            "align_items": null,
            "align_self": null,
            "border": null,
            "bottom": null,
            "display": null,
            "flex": null,
            "flex_flow": null,
            "grid_area": null,
            "grid_auto_columns": null,
            "grid_auto_flow": null,
            "grid_auto_rows": null,
            "grid_column": null,
            "grid_gap": null,
            "grid_row": null,
            "grid_template_areas": null,
            "grid_template_columns": null,
            "grid_template_rows": null,
            "height": null,
            "justify_content": null,
            "justify_items": null,
            "left": null,
            "margin": null,
            "max_height": null,
            "max_width": null,
            "min_height": null,
            "min_width": null,
            "object_fit": null,
            "object_position": null,
            "order": null,
            "overflow": null,
            "overflow_x": null,
            "overflow_y": null,
            "padding": null,
            "right": null,
            "top": null,
            "visibility": null,
            "width": null
          }
        },
        "55887e4050af4aa8b4c336decb9486ab": {
          "model_module": "@jupyter-widgets/controls",
          "model_module_version": "1.5.0",
          "model_name": "HBoxModel",
          "state": {
            "_dom_classes": [],
            "_model_module": "@jupyter-widgets/controls",
            "_model_module_version": "1.5.0",
            "_model_name": "HBoxModel",
            "_view_count": null,
            "_view_module": "@jupyter-widgets/controls",
            "_view_module_version": "1.5.0",
            "_view_name": "HBoxView",
            "box_style": "",
            "children": [
              "IPY_MODEL_84a97b32872340a3bf5942c999186294",
              "IPY_MODEL_0215b7c1c4db441b96e24efbec61a3af",
              "IPY_MODEL_345174e8e1a94639a2be5f8d826930e7"
            ],
            "layout": "IPY_MODEL_2a5d3092800e4d1e8f28b3330f00a5dc"
          }
        },
        "575c510614c640ebaa84ec2981cd7536": {
          "model_module": "@jupyter-widgets/controls",
          "model_module_version": "1.5.0",
          "model_name": "ProgressStyleModel",
          "state": {
            "_model_module": "@jupyter-widgets/controls",
            "_model_module_version": "1.5.0",
            "_model_name": "ProgressStyleModel",
            "_view_count": null,
            "_view_module": "@jupyter-widgets/base",
            "_view_module_version": "1.2.0",
            "_view_name": "StyleView",
            "bar_color": null,
            "description_width": ""
          }
        },
        "57a6a831934e4dad816f30ecb298eb47": {
          "model_module": "@jupyter-widgets/base",
          "model_module_version": "1.2.0",
          "model_name": "LayoutModel",
          "state": {
            "_model_module": "@jupyter-widgets/base",
            "_model_module_version": "1.2.0",
            "_model_name": "LayoutModel",
            "_view_count": null,
            "_view_module": "@jupyter-widgets/base",
            "_view_module_version": "1.2.0",
            "_view_name": "LayoutView",
            "align_content": null,
            "align_items": null,
            "align_self": null,
            "border": null,
            "bottom": null,
            "display": null,
            "flex": null,
            "flex_flow": null,
            "grid_area": null,
            "grid_auto_columns": null,
            "grid_auto_flow": null,
            "grid_auto_rows": null,
            "grid_column": null,
            "grid_gap": null,
            "grid_row": null,
            "grid_template_areas": null,
            "grid_template_columns": null,
            "grid_template_rows": null,
            "height": null,
            "justify_content": null,
            "justify_items": null,
            "left": null,
            "margin": null,
            "max_height": null,
            "max_width": null,
            "min_height": null,
            "min_width": null,
            "object_fit": null,
            "object_position": null,
            "order": null,
            "overflow": null,
            "overflow_x": null,
            "overflow_y": null,
            "padding": null,
            "right": null,
            "top": null,
            "visibility": null,
            "width": null
          }
        },
        "5aeb2045855345a2842923f3bfa90683": {
          "model_module": "@jupyter-widgets/controls",
          "model_module_version": "1.5.0",
          "model_name": "HBoxModel",
          "state": {
            "_dom_classes": [],
            "_model_module": "@jupyter-widgets/controls",
            "_model_module_version": "1.5.0",
            "_model_name": "HBoxModel",
            "_view_count": null,
            "_view_module": "@jupyter-widgets/controls",
            "_view_module_version": "1.5.0",
            "_view_name": "HBoxView",
            "box_style": "",
            "children": [
              "IPY_MODEL_3157386ea6244645bea2bf3993992796",
              "IPY_MODEL_9ab60f9a82cb41cba40278d355043ef5",
              "IPY_MODEL_40d1d9285fa64df482b1c5fcbbe5ab0d"
            ],
            "layout": "IPY_MODEL_2d71d2c983cf40c486888fb011ad9d91"
          }
        },
        "5d12b76aecb748d5bd61ff207a663c58": {
          "model_module": "@jupyter-widgets/base",
          "model_module_version": "1.2.0",
          "model_name": "LayoutModel",
          "state": {
            "_model_module": "@jupyter-widgets/base",
            "_model_module_version": "1.2.0",
            "_model_name": "LayoutModel",
            "_view_count": null,
            "_view_module": "@jupyter-widgets/base",
            "_view_module_version": "1.2.0",
            "_view_name": "LayoutView",
            "align_content": null,
            "align_items": null,
            "align_self": null,
            "border": null,
            "bottom": null,
            "display": null,
            "flex": null,
            "flex_flow": null,
            "grid_area": null,
            "grid_auto_columns": null,
            "grid_auto_flow": null,
            "grid_auto_rows": null,
            "grid_column": null,
            "grid_gap": null,
            "grid_row": null,
            "grid_template_areas": null,
            "grid_template_columns": null,
            "grid_template_rows": null,
            "height": null,
            "justify_content": null,
            "justify_items": null,
            "left": null,
            "margin": null,
            "max_height": null,
            "max_width": null,
            "min_height": null,
            "min_width": null,
            "object_fit": null,
            "object_position": null,
            "order": null,
            "overflow": null,
            "overflow_x": null,
            "overflow_y": null,
            "padding": null,
            "right": null,
            "top": null,
            "visibility": null,
            "width": null
          }
        },
        "5ef32c2397bb447f8069de6ecdbe33f8": {
          "model_module": "@jupyter-widgets/controls",
          "model_module_version": "1.5.0",
          "model_name": "HTMLModel",
          "state": {
            "_dom_classes": [],
            "_model_module": "@jupyter-widgets/controls",
            "_model_module_version": "1.5.0",
            "_model_name": "HTMLModel",
            "_view_count": null,
            "_view_module": "@jupyter-widgets/controls",
            "_view_module_version": "1.5.0",
            "_view_name": "HTMLView",
            "description": "",
            "description_tooltip": null,
            "layout": "IPY_MODEL_873b5a96330f475dadcc091254d8138d",
            "placeholder": "​",
            "style": "IPY_MODEL_fb95c2a7efbc4cbd9f295ebf43d5775f",
            "value": " 122/122 [00:00&lt;00:00, 3.30kB/s]"
          }
        },
        "6060c8c8604f46b2ba5de14d1b2ec8c0": {
          "model_module": "@jupyter-widgets/base",
          "model_module_version": "1.2.0",
          "model_name": "LayoutModel",
          "state": {
            "_model_module": "@jupyter-widgets/base",
            "_model_module_version": "1.2.0",
            "_model_name": "LayoutModel",
            "_view_count": null,
            "_view_module": "@jupyter-widgets/base",
            "_view_module_version": "1.2.0",
            "_view_name": "LayoutView",
            "align_content": null,
            "align_items": null,
            "align_self": null,
            "border": null,
            "bottom": null,
            "display": null,
            "flex": null,
            "flex_flow": null,
            "grid_area": null,
            "grid_auto_columns": null,
            "grid_auto_flow": null,
            "grid_auto_rows": null,
            "grid_column": null,
            "grid_gap": null,
            "grid_row": null,
            "grid_template_areas": null,
            "grid_template_columns": null,
            "grid_template_rows": null,
            "height": null,
            "justify_content": null,
            "justify_items": null,
            "left": null,
            "margin": null,
            "max_height": null,
            "max_width": null,
            "min_height": null,
            "min_width": null,
            "object_fit": null,
            "object_position": null,
            "order": null,
            "overflow": null,
            "overflow_x": null,
            "overflow_y": null,
            "padding": null,
            "right": null,
            "top": null,
            "visibility": null,
            "width": null
          }
        },
        "6119d148d5964fd085010f53c1f85004": {
          "model_module": "@jupyter-widgets/controls",
          "model_module_version": "1.5.0",
          "model_name": "FloatProgressModel",
          "state": {
            "_dom_classes": [],
            "_model_module": "@jupyter-widgets/controls",
            "_model_module_version": "1.5.0",
            "_model_name": "FloatProgressModel",
            "_view_count": null,
            "_view_module": "@jupyter-widgets/controls",
            "_view_module_version": "1.5.0",
            "_view_name": "ProgressView",
            "bar_style": "success",
            "description": "",
            "description_tooltip": null,
            "layout": "IPY_MODEL_4437f312503d4cf9b4dc855f3ad6f7d4",
            "max": 9621556,
            "min": 0,
            "orientation": "horizontal",
            "style": "IPY_MODEL_db23d29d2f644a88adf17dc71c4c6aec",
            "value": 9621556
          }
        },
        "63230ee86893490eb27843b80af07412": {
          "model_module": "@jupyter-widgets/controls",
          "model_module_version": "1.5.0",
          "model_name": "HTMLModel",
          "state": {
            "_dom_classes": [],
            "_model_module": "@jupyter-widgets/controls",
            "_model_module_version": "1.5.0",
            "_model_name": "HTMLModel",
            "_view_count": null,
            "_view_module": "@jupyter-widgets/controls",
            "_view_module_version": "1.5.0",
            "_view_name": "HTMLView",
            "description": "",
            "description_tooltip": null,
            "layout": "IPY_MODEL_6060c8c8604f46b2ba5de14d1b2ec8c0",
            "placeholder": "​",
            "style": "IPY_MODEL_44b66f34ce824dfb87701a02f3324302",
            "value": " 114/114 [00:00&lt;00:00, 4.09kB/s]"
          }
        },
        "646ad6447ea34affbfdcc6c9f028a086": {
          "model_module": "@jupyter-widgets/base",
          "model_module_version": "1.2.0",
          "model_name": "LayoutModel",
          "state": {
            "_model_module": "@jupyter-widgets/base",
            "_model_module_version": "1.2.0",
            "_model_name": "LayoutModel",
            "_view_count": null,
            "_view_module": "@jupyter-widgets/base",
            "_view_module_version": "1.2.0",
            "_view_name": "LayoutView",
            "align_content": null,
            "align_items": null,
            "align_self": null,
            "border": null,
            "bottom": null,
            "display": null,
            "flex": null,
            "flex_flow": null,
            "grid_area": null,
            "grid_auto_columns": null,
            "grid_auto_flow": null,
            "grid_auto_rows": null,
            "grid_column": null,
            "grid_gap": null,
            "grid_row": null,
            "grid_template_areas": null,
            "grid_template_columns": null,
            "grid_template_rows": null,
            "height": null,
            "justify_content": null,
            "justify_items": null,
            "left": null,
            "margin": null,
            "max_height": null,
            "max_width": null,
            "min_height": null,
            "min_width": null,
            "object_fit": null,
            "object_position": null,
            "order": null,
            "overflow": null,
            "overflow_x": null,
            "overflow_y": null,
            "padding": null,
            "right": null,
            "top": null,
            "visibility": null,
            "width": null
          }
        },
        "67305d0b64a2481da25e7338dada4404": {
          "model_module": "@jupyter-widgets/base",
          "model_module_version": "1.2.0",
          "model_name": "LayoutModel",
          "state": {
            "_model_module": "@jupyter-widgets/base",
            "_model_module_version": "1.2.0",
            "_model_name": "LayoutModel",
            "_view_count": null,
            "_view_module": "@jupyter-widgets/base",
            "_view_module_version": "1.2.0",
            "_view_name": "LayoutView",
            "align_content": null,
            "align_items": null,
            "align_self": null,
            "border": null,
            "bottom": null,
            "display": null,
            "flex": null,
            "flex_flow": null,
            "grid_area": null,
            "grid_auto_columns": null,
            "grid_auto_flow": null,
            "grid_auto_rows": null,
            "grid_column": null,
            "grid_gap": null,
            "grid_row": null,
            "grid_template_areas": null,
            "grid_template_columns": null,
            "grid_template_rows": null,
            "height": null,
            "justify_content": null,
            "justify_items": null,
            "left": null,
            "margin": null,
            "max_height": null,
            "max_width": null,
            "min_height": null,
            "min_width": null,
            "object_fit": null,
            "object_position": null,
            "order": null,
            "overflow": null,
            "overflow_x": null,
            "overflow_y": null,
            "padding": null,
            "right": null,
            "top": null,
            "visibility": null,
            "width": null
          }
        },
        "6b5da70521844330a537c0a33a1fcdd1": {
          "model_module": "@jupyter-widgets/controls",
          "model_module_version": "1.5.0",
          "model_name": "DescriptionStyleModel",
          "state": {
            "_model_module": "@jupyter-widgets/controls",
            "_model_module_version": "1.5.0",
            "_model_name": "DescriptionStyleModel",
            "_view_count": null,
            "_view_module": "@jupyter-widgets/base",
            "_view_module_version": "1.2.0",
            "_view_name": "StyleView",
            "description_width": ""
          }
        },
        "719c815c5e304ef1a7f10418cf14b60f": {
          "model_module": "@jupyter-widgets/base",
          "model_module_version": "1.2.0",
          "model_name": "LayoutModel",
          "state": {
            "_model_module": "@jupyter-widgets/base",
            "_model_module_version": "1.2.0",
            "_model_name": "LayoutModel",
            "_view_count": null,
            "_view_module": "@jupyter-widgets/base",
            "_view_module_version": "1.2.0",
            "_view_name": "LayoutView",
            "align_content": null,
            "align_items": null,
            "align_self": null,
            "border": null,
            "bottom": null,
            "display": null,
            "flex": null,
            "flex_flow": null,
            "grid_area": null,
            "grid_auto_columns": null,
            "grid_auto_flow": null,
            "grid_auto_rows": null,
            "grid_column": null,
            "grid_gap": null,
            "grid_row": null,
            "grid_template_areas": null,
            "grid_template_columns": null,
            "grid_template_rows": null,
            "height": null,
            "justify_content": null,
            "justify_items": null,
            "left": null,
            "margin": null,
            "max_height": null,
            "max_width": null,
            "min_height": null,
            "min_width": null,
            "object_fit": null,
            "object_position": null,
            "order": null,
            "overflow": null,
            "overflow_x": null,
            "overflow_y": null,
            "padding": null,
            "right": null,
            "top": null,
            "visibility": null,
            "width": null
          }
        },
        "7225cb7aa89a450c84b0e6d2d89e0f94": {
          "model_module": "@jupyter-widgets/controls",
          "model_module_version": "1.5.0",
          "model_name": "HTMLModel",
          "state": {
            "_dom_classes": [],
            "_model_module": "@jupyter-widgets/controls",
            "_model_module_version": "1.5.0",
            "_model_name": "HTMLModel",
            "_view_count": null,
            "_view_module": "@jupyter-widgets/controls",
            "_view_module_version": "1.5.0",
            "_view_name": "HTMLView",
            "description": "",
            "description_tooltip": null,
            "layout": "IPY_MODEL_9c5f18e03b0d4a42ad3c623c0560460a",
            "placeholder": "​",
            "style": "IPY_MODEL_7abe7ec40242408f94f696e607966a4c",
            "value": "tokenizer_config.json: 100%"
          }
        },
        "75578b2c5e4b475da752c8577dd6b195": {
          "model_module": "@jupyter-widgets/base",
          "model_module_version": "1.2.0",
          "model_name": "LayoutModel",
          "state": {
            "_model_module": "@jupyter-widgets/base",
            "_model_module_version": "1.2.0",
            "_model_name": "LayoutModel",
            "_view_count": null,
            "_view_module": "@jupyter-widgets/base",
            "_view_module_version": "1.2.0",
            "_view_name": "LayoutView",
            "align_content": null,
            "align_items": null,
            "align_self": null,
            "border": null,
            "bottom": null,
            "display": null,
            "flex": null,
            "flex_flow": null,
            "grid_area": null,
            "grid_auto_columns": null,
            "grid_auto_flow": null,
            "grid_auto_rows": null,
            "grid_column": null,
            "grid_gap": null,
            "grid_row": null,
            "grid_template_areas": null,
            "grid_template_columns": null,
            "grid_template_rows": null,
            "height": null,
            "justify_content": null,
            "justify_items": null,
            "left": null,
            "margin": null,
            "max_height": null,
            "max_width": null,
            "min_height": null,
            "min_width": null,
            "object_fit": null,
            "object_position": null,
            "order": null,
            "overflow": null,
            "overflow_x": null,
            "overflow_y": null,
            "padding": null,
            "right": null,
            "top": null,
            "visibility": null,
            "width": null
          }
        },
        "7776e13b3c2541ac9329ca3653f5b410": {
          "model_module": "@jupyter-widgets/controls",
          "model_module_version": "1.5.0",
          "model_name": "HBoxModel",
          "state": {
            "_dom_classes": [],
            "_model_module": "@jupyter-widgets/controls",
            "_model_module_version": "1.5.0",
            "_model_name": "HBoxModel",
            "_view_count": null,
            "_view_module": "@jupyter-widgets/controls",
            "_view_module_version": "1.5.0",
            "_view_name": "HBoxView",
            "box_style": "",
            "children": [
              "IPY_MODEL_4dd0f4973d7049769db6b72e64fe3921",
              "IPY_MODEL_3d707fd4fbd34649884c40a854171b6d",
              "IPY_MODEL_63230ee86893490eb27843b80af07412"
            ],
            "layout": "IPY_MODEL_b5da975283d648dcb2b3ac873e20185e"
          }
        },
        "7857b47e6d404aa68271762a9dd37bbf": {
          "model_module": "@jupyter-widgets/controls",
          "model_module_version": "1.5.0",
          "model_name": "ProgressStyleModel",
          "state": {
            "_model_module": "@jupyter-widgets/controls",
            "_model_module_version": "1.5.0",
            "_model_name": "ProgressStyleModel",
            "_view_count": null,
            "_view_module": "@jupyter-widgets/base",
            "_view_module_version": "1.2.0",
            "_view_name": "StyleView",
            "bar_color": null,
            "description_width": ""
          }
        },
        "78d5a792cf7f4b1db789c691bbf7add9": {
          "model_module": "@jupyter-widgets/controls",
          "model_module_version": "1.5.0",
          "model_name": "DescriptionStyleModel",
          "state": {
            "_model_module": "@jupyter-widgets/controls",
            "_model_module_version": "1.5.0",
            "_model_name": "DescriptionStyleModel",
            "_view_count": null,
            "_view_module": "@jupyter-widgets/base",
            "_view_module_version": "1.2.0",
            "_view_name": "StyleView",
            "description_width": ""
          }
        },
        "7abe7ec40242408f94f696e607966a4c": {
          "model_module": "@jupyter-widgets/controls",
          "model_module_version": "1.5.0",
          "model_name": "DescriptionStyleModel",
          "state": {
            "_model_module": "@jupyter-widgets/controls",
            "_model_module_version": "1.5.0",
            "_model_name": "DescriptionStyleModel",
            "_view_count": null,
            "_view_module": "@jupyter-widgets/base",
            "_view_module_version": "1.2.0",
            "_view_name": "StyleView",
            "description_width": ""
          }
        },
        "7f6ff85fca51404b8f689f3d30600552": {
          "model_module": "@jupyter-widgets/controls",
          "model_module_version": "1.5.0",
          "model_name": "DescriptionStyleModel",
          "state": {
            "_model_module": "@jupyter-widgets/controls",
            "_model_module_version": "1.5.0",
            "_model_name": "DescriptionStyleModel",
            "_view_count": null,
            "_view_module": "@jupyter-widgets/base",
            "_view_module_version": "1.2.0",
            "_view_name": "StyleView",
            "description_width": ""
          }
        },
        "81eae0d567a748e4b45a71290f201c03": {
          "model_module": "@jupyter-widgets/base",
          "model_module_version": "1.2.0",
          "model_name": "LayoutModel",
          "state": {
            "_model_module": "@jupyter-widgets/base",
            "_model_module_version": "1.2.0",
            "_model_name": "LayoutModel",
            "_view_count": null,
            "_view_module": "@jupyter-widgets/base",
            "_view_module_version": "1.2.0",
            "_view_name": "LayoutView",
            "align_content": null,
            "align_items": null,
            "align_self": null,
            "border": null,
            "bottom": null,
            "display": null,
            "flex": null,
            "flex_flow": null,
            "grid_area": null,
            "grid_auto_columns": null,
            "grid_auto_flow": null,
            "grid_auto_rows": null,
            "grid_column": null,
            "grid_gap": null,
            "grid_row": null,
            "grid_template_areas": null,
            "grid_template_columns": null,
            "grid_template_rows": null,
            "height": null,
            "justify_content": null,
            "justify_items": null,
            "left": null,
            "margin": null,
            "max_height": null,
            "max_width": null,
            "min_height": null,
            "min_width": null,
            "object_fit": null,
            "object_position": null,
            "order": null,
            "overflow": null,
            "overflow_x": null,
            "overflow_y": null,
            "padding": null,
            "right": null,
            "top": null,
            "visibility": null,
            "width": null
          }
        },
        "83913b84487446369b0d04efac10d226": {
          "model_module": "@jupyter-widgets/controls",
          "model_module_version": "1.5.0",
          "model_name": "DescriptionStyleModel",
          "state": {
            "_model_module": "@jupyter-widgets/controls",
            "_model_module_version": "1.5.0",
            "_model_name": "DescriptionStyleModel",
            "_view_count": null,
            "_view_module": "@jupyter-widgets/base",
            "_view_module_version": "1.2.0",
            "_view_name": "StyleView",
            "description_width": ""
          }
        },
        "8480db4510a74237b0978acf4ebacda2": {
          "model_module": "@jupyter-widgets/controls",
          "model_module_version": "1.5.0",
          "model_name": "DescriptionStyleModel",
          "state": {
            "_model_module": "@jupyter-widgets/controls",
            "_model_module_version": "1.5.0",
            "_model_name": "DescriptionStyleModel",
            "_view_count": null,
            "_view_module": "@jupyter-widgets/base",
            "_view_module_version": "1.2.0",
            "_view_name": "StyleView",
            "description_width": ""
          }
        },
        "84a97b32872340a3bf5942c999186294": {
          "model_module": "@jupyter-widgets/controls",
          "model_module_version": "1.5.0",
          "model_name": "HTMLModel",
          "state": {
            "_dom_classes": [],
            "_model_module": "@jupyter-widgets/controls",
            "_model_module_version": "1.5.0",
            "_model_name": "HTMLModel",
            "_view_count": null,
            "_view_module": "@jupyter-widgets/controls",
            "_view_module_version": "1.5.0",
            "_view_name": "HTMLView",
            "description": "",
            "description_tooltip": null,
            "layout": "IPY_MODEL_1de0620b589c4d1da62701ccb009fd9f",
            "placeholder": "​",
            "style": "IPY_MODEL_4d48305669294a4b800cc8ba5b34a1db",
            "value": "sentence_bert_config.json: 100%"
          }
        },
        "8596f2ba7969463cb2828545665b1284": {
          "model_module": "@jupyter-widgets/controls",
          "model_module_version": "1.5.0",
          "model_name": "ProgressStyleModel",
          "state": {
            "_model_module": "@jupyter-widgets/controls",
            "_model_module_version": "1.5.0",
            "_model_name": "ProgressStyleModel",
            "_view_count": null,
            "_view_module": "@jupyter-widgets/base",
            "_view_module_version": "1.2.0",
            "_view_name": "StyleView",
            "bar_color": null,
            "description_width": ""
          }
        },
        "873b5a96330f475dadcc091254d8138d": {
          "model_module": "@jupyter-widgets/base",
          "model_module_version": "1.2.0",
          "model_name": "LayoutModel",
          "state": {
            "_model_module": "@jupyter-widgets/base",
            "_model_module_version": "1.2.0",
            "_model_name": "LayoutModel",
            "_view_count": null,
            "_view_module": "@jupyter-widgets/base",
            "_view_module_version": "1.2.0",
            "_view_name": "LayoutView",
            "align_content": null,
            "align_items": null,
            "align_self": null,
            "border": null,
            "bottom": null,
            "display": null,
            "flex": null,
            "flex_flow": null,
            "grid_area": null,
            "grid_auto_columns": null,
            "grid_auto_flow": null,
            "grid_auto_rows": null,
            "grid_column": null,
            "grid_gap": null,
            "grid_row": null,
            "grid_template_areas": null,
            "grid_template_columns": null,
            "grid_template_rows": null,
            "height": null,
            "justify_content": null,
            "justify_items": null,
            "left": null,
            "margin": null,
            "max_height": null,
            "max_width": null,
            "min_height": null,
            "min_width": null,
            "object_fit": null,
            "object_position": null,
            "order": null,
            "overflow": null,
            "overflow_x": null,
            "overflow_y": null,
            "padding": null,
            "right": null,
            "top": null,
            "visibility": null,
            "width": null
          }
        },
        "87656e6bbcb740fb83e51d269606e21f": {
          "model_module": "@jupyter-widgets/base",
          "model_module_version": "1.2.0",
          "model_name": "LayoutModel",
          "state": {
            "_model_module": "@jupyter-widgets/base",
            "_model_module_version": "1.2.0",
            "_model_name": "LayoutModel",
            "_view_count": null,
            "_view_module": "@jupyter-widgets/base",
            "_view_module_version": "1.2.0",
            "_view_name": "LayoutView",
            "align_content": null,
            "align_items": null,
            "align_self": null,
            "border": null,
            "bottom": null,
            "display": null,
            "flex": null,
            "flex_flow": null,
            "grid_area": null,
            "grid_auto_columns": null,
            "grid_auto_flow": null,
            "grid_auto_rows": null,
            "grid_column": null,
            "grid_gap": null,
            "grid_row": null,
            "grid_template_areas": null,
            "grid_template_columns": null,
            "grid_template_rows": null,
            "height": null,
            "justify_content": null,
            "justify_items": null,
            "left": null,
            "margin": null,
            "max_height": null,
            "max_width": null,
            "min_height": null,
            "min_width": null,
            "object_fit": null,
            "object_position": null,
            "order": null,
            "overflow": null,
            "overflow_x": null,
            "overflow_y": null,
            "padding": null,
            "right": null,
            "top": null,
            "visibility": null,
            "width": null
          }
        },
        "88ba9db88e044b2cb556b861f2fda26c": {
          "model_module": "@jupyter-widgets/controls",
          "model_module_version": "1.5.0",
          "model_name": "HTMLModel",
          "state": {
            "_dom_classes": [],
            "_model_module": "@jupyter-widgets/controls",
            "_model_module_version": "1.5.0",
            "_model_name": "HTMLModel",
            "_view_count": null,
            "_view_module": "@jupyter-widgets/controls",
            "_view_module_version": "1.5.0",
            "_view_name": "HTMLView",
            "description": "",
            "description_tooltip": null,
            "layout": "IPY_MODEL_aab7c3d96c754fcb970ff2fda2e04e17",
            "placeholder": "​",
            "style": "IPY_MODEL_a00a08ca43dd4614be9c62ad7aef7219",
            "value": " 5.22M/5.22M [00:00&lt;00:00, 19.6MB/s]"
          }
        },
        "8ac5979b56ac473f98d420052974e136": {
          "model_module": "@jupyter-widgets/controls",
          "model_module_version": "1.5.0",
          "model_name": "HTMLModel",
          "state": {
            "_dom_classes": [],
            "_model_module": "@jupyter-widgets/controls",
            "_model_module_version": "1.5.0",
            "_model_name": "HTMLModel",
            "_view_count": null,
            "_view_module": "@jupyter-widgets/controls",
            "_view_module_version": "1.5.0",
            "_view_name": "HTMLView",
            "description": "",
            "description_tooltip": null,
            "layout": "IPY_MODEL_a6338f25d94e4e4db7c230b25fdfd085",
            "placeholder": "​",
            "style": "IPY_MODEL_6b5da70521844330a537c0a33a1fcdd1",
            "value": " 397/397 [00:00&lt;00:00, 14.2kB/s]"
          }
        },
        "8cebb7705ac646a68431016774d2b9b8": {
          "model_module": "@jupyter-widgets/controls",
          "model_module_version": "1.5.0",
          "model_name": "DescriptionStyleModel",
          "state": {
            "_model_module": "@jupyter-widgets/controls",
            "_model_module_version": "1.5.0",
            "_model_name": "DescriptionStyleModel",
            "_view_count": null,
            "_view_module": "@jupyter-widgets/base",
            "_view_module_version": "1.2.0",
            "_view_name": "StyleView",
            "description_width": ""
          }
        },
        "8e7aa11a2f5044958955445585759264": {
          "model_module": "@jupyter-widgets/base",
          "model_module_version": "1.2.0",
          "model_name": "LayoutModel",
          "state": {
            "_model_module": "@jupyter-widgets/base",
            "_model_module_version": "1.2.0",
            "_model_name": "LayoutModel",
            "_view_count": null,
            "_view_module": "@jupyter-widgets/base",
            "_view_module_version": "1.2.0",
            "_view_name": "LayoutView",
            "align_content": null,
            "align_items": null,
            "align_self": null,
            "border": null,
            "bottom": null,
            "display": null,
            "flex": null,
            "flex_flow": null,
            "grid_area": null,
            "grid_auto_columns": null,
            "grid_auto_flow": null,
            "grid_auto_rows": null,
            "grid_column": null,
            "grid_gap": null,
            "grid_row": null,
            "grid_template_areas": null,
            "grid_template_columns": null,
            "grid_template_rows": null,
            "height": null,
            "justify_content": null,
            "justify_items": null,
            "left": null,
            "margin": null,
            "max_height": null,
            "max_width": null,
            "min_height": null,
            "min_width": null,
            "object_fit": null,
            "object_position": null,
            "order": null,
            "overflow": null,
            "overflow_x": null,
            "overflow_y": null,
            "padding": null,
            "right": null,
            "top": null,
            "visibility": null,
            "width": null
          }
        },
        "906c2371bc48418fb9e164c2b4180ea5": {
          "model_module": "@jupyter-widgets/controls",
          "model_module_version": "1.5.0",
          "model_name": "DescriptionStyleModel",
          "state": {
            "_model_module": "@jupyter-widgets/controls",
            "_model_module_version": "1.5.0",
            "_model_name": "DescriptionStyleModel",
            "_view_count": null,
            "_view_module": "@jupyter-widgets/base",
            "_view_module_version": "1.2.0",
            "_view_name": "StyleView",
            "description_width": ""
          }
        },
        "923797a7524042d1be3c3b6e9bff2b6b": {
          "model_module": "@jupyter-widgets/base",
          "model_module_version": "1.2.0",
          "model_name": "LayoutModel",
          "state": {
            "_model_module": "@jupyter-widgets/base",
            "_model_module_version": "1.2.0",
            "_model_name": "LayoutModel",
            "_view_count": null,
            "_view_module": "@jupyter-widgets/base",
            "_view_module_version": "1.2.0",
            "_view_name": "LayoutView",
            "align_content": null,
            "align_items": null,
            "align_self": null,
            "border": null,
            "bottom": null,
            "display": null,
            "flex": null,
            "flex_flow": null,
            "grid_area": null,
            "grid_auto_columns": null,
            "grid_auto_flow": null,
            "grid_auto_rows": null,
            "grid_column": null,
            "grid_gap": null,
            "grid_row": null,
            "grid_template_areas": null,
            "grid_template_columns": null,
            "grid_template_rows": null,
            "height": null,
            "justify_content": null,
            "justify_items": null,
            "left": null,
            "margin": null,
            "max_height": null,
            "max_width": null,
            "min_height": null,
            "min_width": null,
            "object_fit": null,
            "object_position": null,
            "order": null,
            "overflow": null,
            "overflow_x": null,
            "overflow_y": null,
            "padding": null,
            "right": null,
            "top": null,
            "visibility": null,
            "width": null
          }
        },
        "955c22151e544706a5cdbb607c971ceb": {
          "model_module": "@jupyter-widgets/controls",
          "model_module_version": "1.5.0",
          "model_name": "DescriptionStyleModel",
          "state": {
            "_model_module": "@jupyter-widgets/controls",
            "_model_module_version": "1.5.0",
            "_model_name": "DescriptionStyleModel",
            "_view_count": null,
            "_view_module": "@jupyter-widgets/base",
            "_view_module_version": "1.2.0",
            "_view_name": "StyleView",
            "description_width": ""
          }
        },
        "95da1e13fe2244a5aff603bda7c83233": {
          "model_module": "@jupyter-widgets/base",
          "model_module_version": "1.2.0",
          "model_name": "LayoutModel",
          "state": {
            "_model_module": "@jupyter-widgets/base",
            "_model_module_version": "1.2.0",
            "_model_name": "LayoutModel",
            "_view_count": null,
            "_view_module": "@jupyter-widgets/base",
            "_view_module_version": "1.2.0",
            "_view_name": "LayoutView",
            "align_content": null,
            "align_items": null,
            "align_self": null,
            "border": null,
            "bottom": null,
            "display": null,
            "flex": null,
            "flex_flow": null,
            "grid_area": null,
            "grid_auto_columns": null,
            "grid_auto_flow": null,
            "grid_auto_rows": null,
            "grid_column": null,
            "grid_gap": null,
            "grid_row": null,
            "grid_template_areas": null,
            "grid_template_columns": null,
            "grid_template_rows": null,
            "height": null,
            "justify_content": null,
            "justify_items": null,
            "left": null,
            "margin": null,
            "max_height": null,
            "max_width": null,
            "min_height": null,
            "min_width": null,
            "object_fit": null,
            "object_position": null,
            "order": null,
            "overflow": null,
            "overflow_x": null,
            "overflow_y": null,
            "padding": null,
            "right": null,
            "top": null,
            "visibility": null,
            "width": null
          }
        },
        "970c8168dfed4a31b1effa3c516eb2a8": {
          "model_module": "@jupyter-widgets/controls",
          "model_module_version": "1.5.0",
          "model_name": "FloatProgressModel",
          "state": {
            "_dom_classes": [],
            "_model_module": "@jupyter-widgets/controls",
            "_model_module_version": "1.5.0",
            "_model_name": "FloatProgressModel",
            "_view_count": null,
            "_view_module": "@jupyter-widgets/controls",
            "_view_module_version": "1.5.0",
            "_view_name": "ProgressView",
            "bar_style": "success",
            "description": "",
            "description_tooltip": null,
            "layout": "IPY_MODEL_e478cd59ee2c4137b4bc5dae8e47362c",
            "max": 122,
            "min": 0,
            "orientation": "horizontal",
            "style": "IPY_MODEL_e18dad705e6d42e2b6b6b1b73389e097",
            "value": 122
          }
        },
        "97b526d1be0346438c49cdd4023b0b57": {
          "model_module": "@jupyter-widgets/controls",
          "model_module_version": "1.5.0",
          "model_name": "DescriptionStyleModel",
          "state": {
            "_model_module": "@jupyter-widgets/controls",
            "_model_module_version": "1.5.0",
            "_model_name": "DescriptionStyleModel",
            "_view_count": null,
            "_view_module": "@jupyter-widgets/base",
            "_view_module_version": "1.2.0",
            "_view_name": "StyleView",
            "description_width": ""
          }
        },
        "97ff876b8d6446ba9bbafcc83d77e624": {
          "model_module": "@jupyter-widgets/base",
          "model_module_version": "1.2.0",
          "model_name": "LayoutModel",
          "state": {
            "_model_module": "@jupyter-widgets/base",
            "_model_module_version": "1.2.0",
            "_model_name": "LayoutModel",
            "_view_count": null,
            "_view_module": "@jupyter-widgets/base",
            "_view_module_version": "1.2.0",
            "_view_name": "LayoutView",
            "align_content": null,
            "align_items": null,
            "align_self": null,
            "border": null,
            "bottom": null,
            "display": null,
            "flex": null,
            "flex_flow": null,
            "grid_area": null,
            "grid_auto_columns": null,
            "grid_auto_flow": null,
            "grid_auto_rows": null,
            "grid_column": null,
            "grid_gap": null,
            "grid_row": null,
            "grid_template_areas": null,
            "grid_template_columns": null,
            "grid_template_rows": null,
            "height": null,
            "justify_content": null,
            "justify_items": null,
            "left": null,
            "margin": null,
            "max_height": null,
            "max_width": null,
            "min_height": null,
            "min_width": null,
            "object_fit": null,
            "object_position": null,
            "order": null,
            "overflow": null,
            "overflow_x": null,
            "overflow_y": null,
            "padding": null,
            "right": null,
            "top": null,
            "visibility": null,
            "width": null
          }
        },
        "9a020e9bf47146b488ba5a4b5cd414c7": {
          "model_module": "@jupyter-widgets/controls",
          "model_module_version": "1.5.0",
          "model_name": "HTMLModel",
          "state": {
            "_dom_classes": [],
            "_model_module": "@jupyter-widgets/controls",
            "_model_module_version": "1.5.0",
            "_model_name": "HTMLModel",
            "_view_count": null,
            "_view_module": "@jupyter-widgets/controls",
            "_view_module_version": "1.5.0",
            "_view_name": "HTMLView",
            "description": "",
            "description_tooltip": null,
            "layout": "IPY_MODEL_3f94f689c1e349399f720a2437c34fc4",
            "placeholder": "​",
            "style": "IPY_MODEL_35c4fb8a6ca64628afab3e47ce5dcd5c",
            "value": " 2.22k/2.22k [00:00&lt;00:00, 73.0kB/s]"
          }
        },
        "9ab60f9a82cb41cba40278d355043ef5": {
          "model_module": "@jupyter-widgets/controls",
          "model_module_version": "1.5.0",
          "model_name": "FloatProgressModel",
          "state": {
            "_dom_classes": [],
            "_model_module": "@jupyter-widgets/controls",
            "_model_module_version": "1.5.0",
            "_model_name": "FloatProgressModel",
            "_view_count": null,
            "_view_module": "@jupyter-widgets/controls",
            "_view_module_version": "1.5.0",
            "_view_name": "ProgressView",
            "bar_style": "success",
            "description": "",
            "description_tooltip": null,
            "layout": "IPY_MODEL_f5e70d97f47146d1a24caf580d8f0fba",
            "max": 112,
            "min": 0,
            "orientation": "horizontal",
            "style": "IPY_MODEL_c098bc50386c4abeaee001d2496f3f26",
            "value": 112
          }
        },
        "9c5f18e03b0d4a42ad3c623c0560460a": {
          "model_module": "@jupyter-widgets/base",
          "model_module_version": "1.2.0",
          "model_name": "LayoutModel",
          "state": {
            "_model_module": "@jupyter-widgets/base",
            "_model_module_version": "1.2.0",
            "_model_name": "LayoutModel",
            "_view_count": null,
            "_view_module": "@jupyter-widgets/base",
            "_view_module_version": "1.2.0",
            "_view_name": "LayoutView",
            "align_content": null,
            "align_items": null,
            "align_self": null,
            "border": null,
            "bottom": null,
            "display": null,
            "flex": null,
            "flex_flow": null,
            "grid_area": null,
            "grid_auto_columns": null,
            "grid_auto_flow": null,
            "grid_auto_rows": null,
            "grid_column": null,
            "grid_gap": null,
            "grid_row": null,
            "grid_template_areas": null,
            "grid_template_columns": null,
            "grid_template_rows": null,
            "height": null,
            "justify_content": null,
            "justify_items": null,
            "left": null,
            "margin": null,
            "max_height": null,
            "max_width": null,
            "min_height": null,
            "min_width": null,
            "object_fit": null,
            "object_position": null,
            "order": null,
            "overflow": null,
            "overflow_x": null,
            "overflow_y": null,
            "padding": null,
            "right": null,
            "top": null,
            "visibility": null,
            "width": null
          }
        },
        "9cc516ecce584496b2a10d7ccf421bc4": {
          "model_module": "@jupyter-widgets/base",
          "model_module_version": "1.2.0",
          "model_name": "LayoutModel",
          "state": {
            "_model_module": "@jupyter-widgets/base",
            "_model_module_version": "1.2.0",
            "_model_name": "LayoutModel",
            "_view_count": null,
            "_view_module": "@jupyter-widgets/base",
            "_view_module_version": "1.2.0",
            "_view_name": "LayoutView",
            "align_content": null,
            "align_items": null,
            "align_self": null,
            "border": null,
            "bottom": null,
            "display": null,
            "flex": null,
            "flex_flow": null,
            "grid_area": null,
            "grid_auto_columns": null,
            "grid_auto_flow": null,
            "grid_auto_rows": null,
            "grid_column": null,
            "grid_gap": null,
            "grid_row": null,
            "grid_template_areas": null,
            "grid_template_columns": null,
            "grid_template_rows": null,
            "height": null,
            "justify_content": null,
            "justify_items": null,
            "left": null,
            "margin": null,
            "max_height": null,
            "max_width": null,
            "min_height": null,
            "min_width": null,
            "object_fit": null,
            "object_position": null,
            "order": null,
            "overflow": null,
            "overflow_x": null,
            "overflow_y": null,
            "padding": null,
            "right": null,
            "top": null,
            "visibility": null,
            "width": null
          }
        },
        "9e2c8fda9ab749d5a548088f683dde9a": {
          "model_module": "@jupyter-widgets/controls",
          "model_module_version": "1.5.0",
          "model_name": "DescriptionStyleModel",
          "state": {
            "_model_module": "@jupyter-widgets/controls",
            "_model_module_version": "1.5.0",
            "_model_name": "DescriptionStyleModel",
            "_view_count": null,
            "_view_module": "@jupyter-widgets/base",
            "_view_module_version": "1.2.0",
            "_view_name": "StyleView",
            "description_width": ""
          }
        },
        "a00a08ca43dd4614be9c62ad7aef7219": {
          "model_module": "@jupyter-widgets/controls",
          "model_module_version": "1.5.0",
          "model_name": "DescriptionStyleModel",
          "state": {
            "_model_module": "@jupyter-widgets/controls",
            "_model_module_version": "1.5.0",
            "_model_name": "DescriptionStyleModel",
            "_view_count": null,
            "_view_module": "@jupyter-widgets/base",
            "_view_module_version": "1.2.0",
            "_view_name": "StyleView",
            "description_width": ""
          }
        },
        "a35aa77ae5824f8583043ffacac56435": {
          "model_module": "@jupyter-widgets/controls",
          "model_module_version": "1.5.0",
          "model_name": "HTMLModel",
          "state": {
            "_dom_classes": [],
            "_model_module": "@jupyter-widgets/controls",
            "_model_module_version": "1.5.0",
            "_model_name": "HTMLModel",
            "_view_count": null,
            "_view_module": "@jupyter-widgets/controls",
            "_view_module_version": "1.5.0",
            "_view_name": "HTMLView",
            "description": "",
            "description_tooltip": null,
            "layout": "IPY_MODEL_020ee76a810c4a76a24912e6d970e173",
            "placeholder": "​",
            "style": "IPY_MODEL_8480db4510a74237b0978acf4ebacda2",
            "value": "1_Pooling/config.json: 100%"
          }
        },
        "a5568d88270a49e1b6c38bbd198f8e37": {
          "model_module": "@jupyter-widgets/base",
          "model_module_version": "1.2.0",
          "model_name": "LayoutModel",
          "state": {
            "_model_module": "@jupyter-widgets/base",
            "_model_module_version": "1.2.0",
            "_model_name": "LayoutModel",
            "_view_count": null,
            "_view_module": "@jupyter-widgets/base",
            "_view_module_version": "1.2.0",
            "_view_name": "LayoutView",
            "align_content": null,
            "align_items": null,
            "align_self": null,
            "border": null,
            "bottom": null,
            "display": null,
            "flex": null,
            "flex_flow": null,
            "grid_area": null,
            "grid_auto_columns": null,
            "grid_auto_flow": null,
            "grid_auto_rows": null,
            "grid_column": null,
            "grid_gap": null,
            "grid_row": null,
            "grid_template_areas": null,
            "grid_template_columns": null,
            "grid_template_rows": null,
            "height": null,
            "justify_content": null,
            "justify_items": null,
            "left": null,
            "margin": null,
            "max_height": null,
            "max_width": null,
            "min_height": null,
            "min_width": null,
            "object_fit": null,
            "object_position": null,
            "order": null,
            "overflow": null,
            "overflow_x": null,
            "overflow_y": null,
            "padding": null,
            "right": null,
            "top": null,
            "visibility": null,
            "width": null
          }
        },
        "a6338f25d94e4e4db7c230b25fdfd085": {
          "model_module": "@jupyter-widgets/base",
          "model_module_version": "1.2.0",
          "model_name": "LayoutModel",
          "state": {
            "_model_module": "@jupyter-widgets/base",
            "_model_module_version": "1.2.0",
            "_model_name": "LayoutModel",
            "_view_count": null,
            "_view_module": "@jupyter-widgets/base",
            "_view_module_version": "1.2.0",
            "_view_name": "LayoutView",
            "align_content": null,
            "align_items": null,
            "align_self": null,
            "border": null,
            "bottom": null,
            "display": null,
            "flex": null,
            "flex_flow": null,
            "grid_area": null,
            "grid_auto_columns": null,
            "grid_auto_flow": null,
            "grid_auto_rows": null,
            "grid_column": null,
            "grid_gap": null,
            "grid_row": null,
            "grid_template_areas": null,
            "grid_template_columns": null,
            "grid_template_rows": null,
            "height": null,
            "justify_content": null,
            "justify_items": null,
            "left": null,
            "margin": null,
            "max_height": null,
            "max_width": null,
            "min_height": null,
            "min_width": null,
            "object_fit": null,
            "object_position": null,
            "order": null,
            "overflow": null,
            "overflow_x": null,
            "overflow_y": null,
            "padding": null,
            "right": null,
            "top": null,
            "visibility": null,
            "width": null
          }
        },
        "a8617e4d016d4e24b784ad84fe1c99f3": {
          "model_module": "@jupyter-widgets/controls",
          "model_module_version": "1.5.0",
          "model_name": "FloatProgressModel",
          "state": {
            "_dom_classes": [],
            "_model_module": "@jupyter-widgets/controls",
            "_model_module_version": "1.5.0",
            "_model_name": "FloatProgressModel",
            "_view_count": null,
            "_view_module": "@jupyter-widgets/controls",
            "_view_module_version": "1.5.0",
            "_view_name": "ProgressView",
            "bar_style": "success",
            "description": "",
            "description_tooltip": null,
            "layout": "IPY_MODEL_75578b2c5e4b475da752c8577dd6b195",
            "max": 397,
            "min": 0,
            "orientation": "horizontal",
            "style": "IPY_MODEL_8596f2ba7969463cb2828545665b1284",
            "value": 397
          }
        },
        "a8efeb2f2c9c4412a08ce55c9d8618e4": {
          "model_module": "@jupyter-widgets/controls",
          "model_module_version": "1.5.0",
          "model_name": "HTMLModel",
          "state": {
            "_dom_classes": [],
            "_model_module": "@jupyter-widgets/controls",
            "_model_module_version": "1.5.0",
            "_model_name": "HTMLModel",
            "_view_count": null,
            "_view_module": "@jupyter-widgets/controls",
            "_view_module_version": "1.5.0",
            "_view_name": "HTMLView",
            "description": "",
            "description_tooltip": null,
            "layout": "IPY_MODEL_0dfc1df162bd49b890c9682b8fb3fe96",
            "placeholder": "​",
            "style": "IPY_MODEL_7f6ff85fca51404b8f689f3d30600552",
            "value": "modules.json: 100%"
          }
        },
        "aab7c3d96c754fcb970ff2fda2e04e17": {
          "model_module": "@jupyter-widgets/base",
          "model_module_version": "1.2.0",
          "model_name": "LayoutModel",
          "state": {
            "_model_module": "@jupyter-widgets/base",
            "_model_module_version": "1.2.0",
            "_model_name": "LayoutModel",
            "_view_count": null,
            "_view_module": "@jupyter-widgets/base",
            "_view_module_version": "1.2.0",
            "_view_name": "LayoutView",
            "align_content": null,
            "align_items": null,
            "align_self": null,
            "border": null,
            "bottom": null,
            "display": null,
            "flex": null,
            "flex_flow": null,
            "grid_area": null,
            "grid_auto_columns": null,
            "grid_auto_flow": null,
            "grid_auto_rows": null,
            "grid_column": null,
            "grid_gap": null,
            "grid_row": null,
            "grid_template_areas": null,
            "grid_template_columns": null,
            "grid_template_rows": null,
            "height": null,
            "justify_content": null,
            "justify_items": null,
            "left": null,
            "margin": null,
            "max_height": null,
            "max_width": null,
            "min_height": null,
            "min_width": null,
            "object_fit": null,
            "object_position": null,
            "order": null,
            "overflow": null,
            "overflow_x": null,
            "overflow_y": null,
            "padding": null,
            "right": null,
            "top": null,
            "visibility": null,
            "width": null
          }
        },
        "ae08d5fb930f477594408d78a4d578bc": {
          "model_module": "@jupyter-widgets/base",
          "model_module_version": "1.2.0",
          "model_name": "LayoutModel",
          "state": {
            "_model_module": "@jupyter-widgets/base",
            "_model_module_version": "1.2.0",
            "_model_name": "LayoutModel",
            "_view_count": null,
            "_view_module": "@jupyter-widgets/base",
            "_view_module_version": "1.2.0",
            "_view_name": "LayoutView",
            "align_content": null,
            "align_items": null,
            "align_self": null,
            "border": null,
            "bottom": null,
            "display": null,
            "flex": null,
            "flex_flow": null,
            "grid_area": null,
            "grid_auto_columns": null,
            "grid_auto_flow": null,
            "grid_auto_rows": null,
            "grid_column": null,
            "grid_gap": null,
            "grid_row": null,
            "grid_template_areas": null,
            "grid_template_columns": null,
            "grid_template_rows": null,
            "height": null,
            "justify_content": null,
            "justify_items": null,
            "left": null,
            "margin": null,
            "max_height": null,
            "max_width": null,
            "min_height": null,
            "min_width": null,
            "object_fit": null,
            "object_position": null,
            "order": null,
            "overflow": null,
            "overflow_x": null,
            "overflow_y": null,
            "padding": null,
            "right": null,
            "top": null,
            "visibility": null,
            "width": null
          }
        },
        "aea09e67d6984b33a837e6196b27f77f": {
          "model_module": "@jupyter-widgets/base",
          "model_module_version": "1.2.0",
          "model_name": "LayoutModel",
          "state": {
            "_model_module": "@jupyter-widgets/base",
            "_model_module_version": "1.2.0",
            "_model_name": "LayoutModel",
            "_view_count": null,
            "_view_module": "@jupyter-widgets/base",
            "_view_module_version": "1.2.0",
            "_view_name": "LayoutView",
            "align_content": null,
            "align_items": null,
            "align_self": null,
            "border": null,
            "bottom": null,
            "display": null,
            "flex": null,
            "flex_flow": null,
            "grid_area": null,
            "grid_auto_columns": null,
            "grid_auto_flow": null,
            "grid_auto_rows": null,
            "grid_column": null,
            "grid_gap": null,
            "grid_row": null,
            "grid_template_areas": null,
            "grid_template_columns": null,
            "grid_template_rows": null,
            "height": null,
            "justify_content": null,
            "justify_items": null,
            "left": null,
            "margin": null,
            "max_height": null,
            "max_width": null,
            "min_height": null,
            "min_width": null,
            "object_fit": null,
            "object_position": null,
            "order": null,
            "overflow": null,
            "overflow_x": null,
            "overflow_y": null,
            "padding": null,
            "right": null,
            "top": null,
            "visibility": null,
            "width": null
          }
        },
        "b25848bbc7ee46c181271b400cffdfda": {
          "model_module": "@jupyter-widgets/base",
          "model_module_version": "1.2.0",
          "model_name": "LayoutModel",
          "state": {
            "_model_module": "@jupyter-widgets/base",
            "_model_module_version": "1.2.0",
            "_model_name": "LayoutModel",
            "_view_count": null,
            "_view_module": "@jupyter-widgets/base",
            "_view_module_version": "1.2.0",
            "_view_name": "LayoutView",
            "align_content": null,
            "align_items": null,
            "align_self": null,
            "border": null,
            "bottom": null,
            "display": null,
            "flex": null,
            "flex_flow": null,
            "grid_area": null,
            "grid_auto_columns": null,
            "grid_auto_flow": null,
            "grid_auto_rows": null,
            "grid_column": null,
            "grid_gap": null,
            "grid_row": null,
            "grid_template_areas": null,
            "grid_template_columns": null,
            "grid_template_rows": null,
            "height": null,
            "justify_content": null,
            "justify_items": null,
            "left": null,
            "margin": null,
            "max_height": null,
            "max_width": null,
            "min_height": null,
            "min_width": null,
            "object_fit": null,
            "object_position": null,
            "order": null,
            "overflow": null,
            "overflow_x": null,
            "overflow_y": null,
            "padding": null,
            "right": null,
            "top": null,
            "visibility": null,
            "width": null
          }
        },
        "b4ab2e937bb1480194d88495e96dcb48": {
          "model_module": "@jupyter-widgets/controls",
          "model_module_version": "1.5.0",
          "model_name": "FloatProgressModel",
          "state": {
            "_dom_classes": [],
            "_model_module": "@jupyter-widgets/controls",
            "_model_module_version": "1.5.0",
            "_model_name": "FloatProgressModel",
            "_view_count": null,
            "_view_module": "@jupyter-widgets/controls",
            "_view_module_version": "1.5.0",
            "_view_name": "ProgressView",
            "bar_style": "success",
            "description": "",
            "description_tooltip": null,
            "layout": "IPY_MODEL_a5568d88270a49e1b6c38bbd198f8e37",
            "max": 5220781,
            "min": 0,
            "orientation": "horizontal",
            "style": "IPY_MODEL_d880586375d74c7c8b730cd6519545a1",
            "value": 5220781
          }
        },
        "b5da975283d648dcb2b3ac873e20185e": {
          "model_module": "@jupyter-widgets/base",
          "model_module_version": "1.2.0",
          "model_name": "LayoutModel",
          "state": {
            "_model_module": "@jupyter-widgets/base",
            "_model_module_version": "1.2.0",
            "_model_name": "LayoutModel",
            "_view_count": null,
            "_view_module": "@jupyter-widgets/base",
            "_view_module_version": "1.2.0",
            "_view_name": "LayoutView",
            "align_content": null,
            "align_items": null,
            "align_self": null,
            "border": null,
            "bottom": null,
            "display": null,
            "flex": null,
            "flex_flow": null,
            "grid_area": null,
            "grid_auto_columns": null,
            "grid_auto_flow": null,
            "grid_auto_rows": null,
            "grid_column": null,
            "grid_gap": null,
            "grid_row": null,
            "grid_template_areas": null,
            "grid_template_columns": null,
            "grid_template_rows": null,
            "height": null,
            "justify_content": null,
            "justify_items": null,
            "left": null,
            "margin": null,
            "max_height": null,
            "max_width": null,
            "min_height": null,
            "min_width": null,
            "object_fit": null,
            "object_position": null,
            "order": null,
            "overflow": null,
            "overflow_x": null,
            "overflow_y": null,
            "padding": null,
            "right": null,
            "top": null,
            "visibility": null,
            "width": null
          }
        },
        "ba0e66a27fe54dc4a471f77c824810c0": {
          "model_module": "@jupyter-widgets/base",
          "model_module_version": "1.2.0",
          "model_name": "LayoutModel",
          "state": {
            "_model_module": "@jupyter-widgets/base",
            "_model_module_version": "1.2.0",
            "_model_name": "LayoutModel",
            "_view_count": null,
            "_view_module": "@jupyter-widgets/base",
            "_view_module_version": "1.2.0",
            "_view_name": "LayoutView",
            "align_content": null,
            "align_items": null,
            "align_self": null,
            "border": null,
            "bottom": null,
            "display": null,
            "flex": null,
            "flex_flow": null,
            "grid_area": null,
            "grid_auto_columns": null,
            "grid_auto_flow": null,
            "grid_auto_rows": null,
            "grid_column": null,
            "grid_gap": null,
            "grid_row": null,
            "grid_template_areas": null,
            "grid_template_columns": null,
            "grid_template_rows": null,
            "height": null,
            "justify_content": null,
            "justify_items": null,
            "left": null,
            "margin": null,
            "max_height": null,
            "max_width": null,
            "min_height": null,
            "min_width": null,
            "object_fit": null,
            "object_position": null,
            "order": null,
            "overflow": null,
            "overflow_x": null,
            "overflow_y": null,
            "padding": null,
            "right": null,
            "top": null,
            "visibility": null,
            "width": null
          }
        },
        "bec01d39f7814b829adb586c3cc6f5a4": {
          "model_module": "@jupyter-widgets/base",
          "model_module_version": "1.2.0",
          "model_name": "LayoutModel",
          "state": {
            "_model_module": "@jupyter-widgets/base",
            "_model_module_version": "1.2.0",
            "_model_name": "LayoutModel",
            "_view_count": null,
            "_view_module": "@jupyter-widgets/base",
            "_view_module_version": "1.2.0",
            "_view_name": "LayoutView",
            "align_content": null,
            "align_items": null,
            "align_self": null,
            "border": null,
            "bottom": null,
            "display": null,
            "flex": null,
            "flex_flow": null,
            "grid_area": null,
            "grid_auto_columns": null,
            "grid_auto_flow": null,
            "grid_auto_rows": null,
            "grid_column": null,
            "grid_gap": null,
            "grid_row": null,
            "grid_template_areas": null,
            "grid_template_columns": null,
            "grid_template_rows": null,
            "height": null,
            "justify_content": null,
            "justify_items": null,
            "left": null,
            "margin": null,
            "max_height": null,
            "max_width": null,
            "min_height": null,
            "min_width": null,
            "object_fit": null,
            "object_position": null,
            "order": null,
            "overflow": null,
            "overflow_x": null,
            "overflow_y": null,
            "padding": null,
            "right": null,
            "top": null,
            "visibility": null,
            "width": null
          }
        },
        "c098bc50386c4abeaee001d2496f3f26": {
          "model_module": "@jupyter-widgets/controls",
          "model_module_version": "1.5.0",
          "model_name": "ProgressStyleModel",
          "state": {
            "_model_module": "@jupyter-widgets/controls",
            "_model_module_version": "1.5.0",
            "_model_name": "ProgressStyleModel",
            "_view_count": null,
            "_view_module": "@jupyter-widgets/base",
            "_view_module_version": "1.2.0",
            "_view_name": "StyleView",
            "bar_color": null,
            "description_width": ""
          }
        },
        "c486735fbe6842a69b5293eb12a55967": {
          "model_module": "@jupyter-widgets/controls",
          "model_module_version": "1.5.0",
          "model_name": "FloatProgressModel",
          "state": {
            "_dom_classes": [],
            "_model_module": "@jupyter-widgets/controls",
            "_model_module_version": "1.5.0",
            "_model_name": "FloatProgressModel",
            "_view_count": null,
            "_view_module": "@jupyter-widgets/controls",
            "_view_module_version": "1.5.0",
            "_view_name": "ProgressView",
            "bar_style": "success",
            "description": "",
            "description_tooltip": null,
            "layout": "IPY_MODEL_d0d9a4253ded4450a3e6a5be6f714128",
            "max": 1883785969,
            "min": 0,
            "orientation": "horizontal",
            "style": "IPY_MODEL_2fd51bc4ab604913a314c039dde960fc",
            "value": 1883785969
          }
        },
        "c618308bff8240b09311f1313b969123": {
          "model_module": "@jupyter-widgets/controls",
          "model_module_version": "1.5.0",
          "model_name": "FloatProgressModel",
          "state": {
            "_dom_classes": [],
            "_model_module": "@jupyter-widgets/controls",
            "_model_module_version": "1.5.0",
            "_model_name": "FloatProgressModel",
            "_view_count": null,
            "_view_module": "@jupyter-widgets/controls",
            "_view_module_version": "1.5.0",
            "_view_name": "ProgressView",
            "bar_style": "success",
            "description": "",
            "description_tooltip": null,
            "layout": "IPY_MODEL_37bc1ea51c724f46bbe02f96fc960f33",
            "max": 190,
            "min": 0,
            "orientation": "horizontal",
            "style": "IPY_MODEL_7857b47e6d404aa68271762a9dd37bbf",
            "value": 190
          }
        },
        "c863481f55eb49348910bac275b0d352": {
          "model_module": "@jupyter-widgets/controls",
          "model_module_version": "1.5.0",
          "model_name": "HBoxModel",
          "state": {
            "_dom_classes": [],
            "_model_module": "@jupyter-widgets/controls",
            "_model_module_version": "1.5.0",
            "_model_name": "HBoxModel",
            "_view_count": null,
            "_view_module": "@jupyter-widgets/controls",
            "_view_module_version": "1.5.0",
            "_view_name": "HBoxView",
            "box_style": "",
            "children": [
              "IPY_MODEL_1226918089cb4570aebe45d0a8bf28ac",
              "IPY_MODEL_d8f494c6a0514ed0aaa87bdb136e8f7c",
              "IPY_MODEL_fe6381c886d647f79631a42a4a16ce8e"
            ],
            "layout": "IPY_MODEL_95da1e13fe2244a5aff603bda7c83233"
          }
        },
        "c8adb7f346e74eafa6e01030cc4e4b1d": {
          "model_module": "@jupyter-widgets/controls",
          "model_module_version": "1.5.0",
          "model_name": "DescriptionStyleModel",
          "state": {
            "_model_module": "@jupyter-widgets/controls",
            "_model_module_version": "1.5.0",
            "_model_name": "DescriptionStyleModel",
            "_view_count": null,
            "_view_module": "@jupyter-widgets/base",
            "_view_module_version": "1.2.0",
            "_view_name": "StyleView",
            "description_width": ""
          }
        },
        "caa37882c51443488a9b6289042e5052": {
          "model_module": "@jupyter-widgets/base",
          "model_module_version": "1.2.0",
          "model_name": "LayoutModel",
          "state": {
            "_model_module": "@jupyter-widgets/base",
            "_model_module_version": "1.2.0",
            "_model_name": "LayoutModel",
            "_view_count": null,
            "_view_module": "@jupyter-widgets/base",
            "_view_module_version": "1.2.0",
            "_view_name": "LayoutView",
            "align_content": null,
            "align_items": null,
            "align_self": null,
            "border": null,
            "bottom": null,
            "display": null,
            "flex": null,
            "flex_flow": null,
            "grid_area": null,
            "grid_auto_columns": null,
            "grid_auto_flow": null,
            "grid_auto_rows": null,
            "grid_column": null,
            "grid_gap": null,
            "grid_row": null,
            "grid_template_areas": null,
            "grid_template_columns": null,
            "grid_template_rows": null,
            "height": null,
            "justify_content": null,
            "justify_items": null,
            "left": null,
            "margin": null,
            "max_height": null,
            "max_width": null,
            "min_height": null,
            "min_width": null,
            "object_fit": null,
            "object_position": null,
            "order": null,
            "overflow": null,
            "overflow_x": null,
            "overflow_y": null,
            "padding": null,
            "right": null,
            "top": null,
            "visibility": null,
            "width": null
          }
        },
        "cbee429ddac34a1eb1626c872a87b191": {
          "model_module": "@jupyter-widgets/controls",
          "model_module_version": "1.5.0",
          "model_name": "ProgressStyleModel",
          "state": {
            "_model_module": "@jupyter-widgets/controls",
            "_model_module_version": "1.5.0",
            "_model_name": "ProgressStyleModel",
            "_view_count": null,
            "_view_module": "@jupyter-widgets/base",
            "_view_module_version": "1.2.0",
            "_view_name": "StyleView",
            "bar_color": null,
            "description_width": ""
          }
        },
        "cd2c157adfab4605b29d031f69db7eb4": {
          "model_module": "@jupyter-widgets/controls",
          "model_module_version": "1.5.0",
          "model_name": "DescriptionStyleModel",
          "state": {
            "_model_module": "@jupyter-widgets/controls",
            "_model_module_version": "1.5.0",
            "_model_name": "DescriptionStyleModel",
            "_view_count": null,
            "_view_module": "@jupyter-widgets/base",
            "_view_module_version": "1.2.0",
            "_view_name": "StyleView",
            "description_width": ""
          }
        },
        "cd4d0533cbef447580c302dfabcfa604": {
          "model_module": "@jupyter-widgets/base",
          "model_module_version": "1.2.0",
          "model_name": "LayoutModel",
          "state": {
            "_model_module": "@jupyter-widgets/base",
            "_model_module_version": "1.2.0",
            "_model_name": "LayoutModel",
            "_view_count": null,
            "_view_module": "@jupyter-widgets/base",
            "_view_module_version": "1.2.0",
            "_view_name": "LayoutView",
            "align_content": null,
            "align_items": null,
            "align_self": null,
            "border": null,
            "bottom": null,
            "display": null,
            "flex": null,
            "flex_flow": null,
            "grid_area": null,
            "grid_auto_columns": null,
            "grid_auto_flow": null,
            "grid_auto_rows": null,
            "grid_column": null,
            "grid_gap": null,
            "grid_row": null,
            "grid_template_areas": null,
            "grid_template_columns": null,
            "grid_template_rows": null,
            "height": null,
            "justify_content": null,
            "justify_items": null,
            "left": null,
            "margin": null,
            "max_height": null,
            "max_width": null,
            "min_height": null,
            "min_width": null,
            "object_fit": null,
            "object_position": null,
            "order": null,
            "overflow": null,
            "overflow_x": null,
            "overflow_y": null,
            "padding": null,
            "right": null,
            "top": null,
            "visibility": null,
            "width": null
          }
        },
        "ce16537ccdeb4761aba3bac3f8b402a5": {
          "model_module": "@jupyter-widgets/controls",
          "model_module_version": "1.5.0",
          "model_name": "HBoxModel",
          "state": {
            "_dom_classes": [],
            "_model_module": "@jupyter-widgets/controls",
            "_model_module_version": "1.5.0",
            "_model_name": "HBoxModel",
            "_view_count": null,
            "_view_module": "@jupyter-widgets/controls",
            "_view_module_version": "1.5.0",
            "_view_name": "HBoxView",
            "box_style": "",
            "children": [
              "IPY_MODEL_2dbbef556ecc4f41bcdf00f96d77a90a",
              "IPY_MODEL_c486735fbe6842a69b5293eb12a55967",
              "IPY_MODEL_f1ceb5f8f7004a2e8a25665231b617d7"
            ],
            "layout": "IPY_MODEL_67305d0b64a2481da25e7338dada4404"
          }
        },
        "cf7bdac9ff914ef9a38794c3c6a8f32b": {
          "model_module": "@jupyter-widgets/controls",
          "model_module_version": "1.5.0",
          "model_name": "DescriptionStyleModel",
          "state": {
            "_model_module": "@jupyter-widgets/controls",
            "_model_module_version": "1.5.0",
            "_model_name": "DescriptionStyleModel",
            "_view_count": null,
            "_view_module": "@jupyter-widgets/base",
            "_view_module_version": "1.2.0",
            "_view_name": "StyleView",
            "description_width": ""
          }
        },
        "d0d9a4253ded4450a3e6a5be6f714128": {
          "model_module": "@jupyter-widgets/base",
          "model_module_version": "1.2.0",
          "model_name": "LayoutModel",
          "state": {
            "_model_module": "@jupyter-widgets/base",
            "_model_module_version": "1.2.0",
            "_model_name": "LayoutModel",
            "_view_count": null,
            "_view_module": "@jupyter-widgets/base",
            "_view_module_version": "1.2.0",
            "_view_name": "LayoutView",
            "align_content": null,
            "align_items": null,
            "align_self": null,
            "border": null,
            "bottom": null,
            "display": null,
            "flex": null,
            "flex_flow": null,
            "grid_area": null,
            "grid_auto_columns": null,
            "grid_auto_flow": null,
            "grid_auto_rows": null,
            "grid_column": null,
            "grid_gap": null,
            "grid_row": null,
            "grid_template_areas": null,
            "grid_template_columns": null,
            "grid_template_rows": null,
            "height": null,
            "justify_content": null,
            "justify_items": null,
            "left": null,
            "margin": null,
            "max_height": null,
            "max_width": null,
            "min_height": null,
            "min_width": null,
            "object_fit": null,
            "object_position": null,
            "order": null,
            "overflow": null,
            "overflow_x": null,
            "overflow_y": null,
            "padding": null,
            "right": null,
            "top": null,
            "visibility": null,
            "width": null
          }
        },
        "d286f8e8f2434008811fea41c45be638": {
          "model_module": "@jupyter-widgets/controls",
          "model_module_version": "1.5.0",
          "model_name": "ProgressStyleModel",
          "state": {
            "_model_module": "@jupyter-widgets/controls",
            "_model_module_version": "1.5.0",
            "_model_name": "ProgressStyleModel",
            "_view_count": null,
            "_view_module": "@jupyter-widgets/base",
            "_view_module_version": "1.2.0",
            "_view_name": "StyleView",
            "bar_color": null,
            "description_width": ""
          }
        },
        "d32196c69d0c496bae6b70037935c01c": {
          "model_module": "@jupyter-widgets/controls",
          "model_module_version": "1.5.0",
          "model_name": "ProgressStyleModel",
          "state": {
            "_model_module": "@jupyter-widgets/controls",
            "_model_module_version": "1.5.0",
            "_model_name": "ProgressStyleModel",
            "_view_count": null,
            "_view_module": "@jupyter-widgets/base",
            "_view_module_version": "1.2.0",
            "_view_name": "StyleView",
            "bar_color": null,
            "description_width": ""
          }
        },
        "d4ae5a2af2b64161b1f18a5a3d46458e": {
          "model_module": "@jupyter-widgets/base",
          "model_module_version": "1.2.0",
          "model_name": "LayoutModel",
          "state": {
            "_model_module": "@jupyter-widgets/base",
            "_model_module_version": "1.2.0",
            "_model_name": "LayoutModel",
            "_view_count": null,
            "_view_module": "@jupyter-widgets/base",
            "_view_module_version": "1.2.0",
            "_view_name": "LayoutView",
            "align_content": null,
            "align_items": null,
            "align_self": null,
            "border": null,
            "bottom": null,
            "display": null,
            "flex": null,
            "flex_flow": null,
            "grid_area": null,
            "grid_auto_columns": null,
            "grid_auto_flow": null,
            "grid_auto_rows": null,
            "grid_column": null,
            "grid_gap": null,
            "grid_row": null,
            "grid_template_areas": null,
            "grid_template_columns": null,
            "grid_template_rows": null,
            "height": null,
            "justify_content": null,
            "justify_items": null,
            "left": null,
            "margin": null,
            "max_height": null,
            "max_width": null,
            "min_height": null,
            "min_width": null,
            "object_fit": null,
            "object_position": null,
            "order": null,
            "overflow": null,
            "overflow_x": null,
            "overflow_y": null,
            "padding": null,
            "right": null,
            "top": null,
            "visibility": null,
            "width": null
          }
        },
        "d853f5369bbb45e58dfce72fbc563d08": {
          "model_module": "@jupyter-widgets/controls",
          "model_module_version": "1.5.0",
          "model_name": "HBoxModel",
          "state": {
            "_dom_classes": [],
            "_model_module": "@jupyter-widgets/controls",
            "_model_module_version": "1.5.0",
            "_model_name": "HBoxModel",
            "_view_count": null,
            "_view_module": "@jupyter-widgets/controls",
            "_view_module_version": "1.5.0",
            "_view_name": "HBoxView",
            "box_style": "",
            "children": [
              "IPY_MODEL_5312161c9d674feb98441eb064858bb4",
              "IPY_MODEL_3712bc6fd2564b988e3b30f40a31027e",
              "IPY_MODEL_9a020e9bf47146b488ba5a4b5cd414c7"
            ],
            "layout": "IPY_MODEL_ee53290265e44d9e910825921c5bff2e"
          }
        },
        "d880586375d74c7c8b730cd6519545a1": {
          "model_module": "@jupyter-widgets/controls",
          "model_module_version": "1.5.0",
          "model_name": "ProgressStyleModel",
          "state": {
            "_model_module": "@jupyter-widgets/controls",
            "_model_module_version": "1.5.0",
            "_model_name": "ProgressStyleModel",
            "_view_count": null,
            "_view_module": "@jupyter-widgets/base",
            "_view_module_version": "1.2.0",
            "_view_name": "StyleView",
            "bar_color": null,
            "description_width": ""
          }
        },
        "d8f494c6a0514ed0aaa87bdb136e8f7c": {
          "model_module": "@jupyter-widgets/controls",
          "model_module_version": "1.5.0",
          "model_name": "FloatProgressModel",
          "state": {
            "_dom_classes": [],
            "_model_module": "@jupyter-widgets/controls",
            "_model_module_version": "1.5.0",
            "_model_name": "FloatProgressModel",
            "_view_count": null,
            "_view_module": "@jupyter-widgets/controls",
            "_view_module_version": "1.5.0",
            "_view_name": "ProgressView",
            "bar_style": "success",
            "description": "",
            "description_tooltip": null,
            "layout": "IPY_MODEL_bec01d39f7814b829adb586c3cc6f5a4",
            "max": 804,
            "min": 0,
            "orientation": "horizontal",
            "style": "IPY_MODEL_d286f8e8f2434008811fea41c45be638",
            "value": 804
          }
        },
        "daaea007277249499b6af3a7ca38518d": {
          "model_module": "@jupyter-widgets/base",
          "model_module_version": "1.2.0",
          "model_name": "LayoutModel",
          "state": {
            "_model_module": "@jupyter-widgets/base",
            "_model_module_version": "1.2.0",
            "_model_name": "LayoutModel",
            "_view_count": null,
            "_view_module": "@jupyter-widgets/base",
            "_view_module_version": "1.2.0",
            "_view_name": "LayoutView",
            "align_content": null,
            "align_items": null,
            "align_self": null,
            "border": null,
            "bottom": null,
            "display": null,
            "flex": null,
            "flex_flow": null,
            "grid_area": null,
            "grid_auto_columns": null,
            "grid_auto_flow": null,
            "grid_auto_rows": null,
            "grid_column": null,
            "grid_gap": null,
            "grid_row": null,
            "grid_template_areas": null,
            "grid_template_columns": null,
            "grid_template_rows": null,
            "height": null,
            "justify_content": null,
            "justify_items": null,
            "left": null,
            "margin": null,
            "max_height": null,
            "max_width": null,
            "min_height": null,
            "min_width": null,
            "object_fit": null,
            "object_position": null,
            "order": null,
            "overflow": null,
            "overflow_x": null,
            "overflow_y": null,
            "padding": null,
            "right": null,
            "top": null,
            "visibility": null,
            "width": null
          }
        },
        "db23d29d2f644a88adf17dc71c4c6aec": {
          "model_module": "@jupyter-widgets/controls",
          "model_module_version": "1.5.0",
          "model_name": "ProgressStyleModel",
          "state": {
            "_model_module": "@jupyter-widgets/controls",
            "_model_module_version": "1.5.0",
            "_model_name": "ProgressStyleModel",
            "_view_count": null,
            "_view_module": "@jupyter-widgets/base",
            "_view_module_version": "1.2.0",
            "_view_name": "StyleView",
            "bar_color": null,
            "description_width": ""
          }
        },
        "e18dad705e6d42e2b6b6b1b73389e097": {
          "model_module": "@jupyter-widgets/controls",
          "model_module_version": "1.5.0",
          "model_name": "ProgressStyleModel",
          "state": {
            "_model_module": "@jupyter-widgets/controls",
            "_model_module_version": "1.5.0",
            "_model_name": "ProgressStyleModel",
            "_view_count": null,
            "_view_module": "@jupyter-widgets/base",
            "_view_module_version": "1.2.0",
            "_view_name": "StyleView",
            "bar_color": null,
            "description_width": ""
          }
        },
        "e35d5633652040f0af87e846733c1925": {
          "model_module": "@jupyter-widgets/controls",
          "model_module_version": "1.5.0",
          "model_name": "HTMLModel",
          "state": {
            "_dom_classes": [],
            "_model_module": "@jupyter-widgets/controls",
            "_model_module_version": "1.5.0",
            "_model_name": "HTMLModel",
            "_view_count": null,
            "_view_module": "@jupyter-widgets/controls",
            "_view_module_version": "1.5.0",
            "_view_name": "HTMLView",
            "description": "",
            "description_tooltip": null,
            "layout": "IPY_MODEL_aea09e67d6984b33a837e6196b27f77f",
            "placeholder": "​",
            "style": "IPY_MODEL_c8adb7f346e74eafa6e01030cc4e4b1d",
            "value": " 9.62M/9.62M [00:00&lt;00:00, 62.3MB/s]"
          }
        },
        "e437df8c4cf34f8db96b0407a977d7ba": {
          "model_module": "@jupyter-widgets/base",
          "model_module_version": "1.2.0",
          "model_name": "LayoutModel",
          "state": {
            "_model_module": "@jupyter-widgets/base",
            "_model_module_version": "1.2.0",
            "_model_name": "LayoutModel",
            "_view_count": null,
            "_view_module": "@jupyter-widgets/base",
            "_view_module_version": "1.2.0",
            "_view_name": "LayoutView",
            "align_content": null,
            "align_items": null,
            "align_self": null,
            "border": null,
            "bottom": null,
            "display": null,
            "flex": null,
            "flex_flow": null,
            "grid_area": null,
            "grid_auto_columns": null,
            "grid_auto_flow": null,
            "grid_auto_rows": null,
            "grid_column": null,
            "grid_gap": null,
            "grid_row": null,
            "grid_template_areas": null,
            "grid_template_columns": null,
            "grid_template_rows": null,
            "height": null,
            "justify_content": null,
            "justify_items": null,
            "left": null,
            "margin": null,
            "max_height": null,
            "max_width": null,
            "min_height": null,
            "min_width": null,
            "object_fit": null,
            "object_position": null,
            "order": null,
            "overflow": null,
            "overflow_x": null,
            "overflow_y": null,
            "padding": null,
            "right": null,
            "top": null,
            "visibility": null,
            "width": null
          }
        },
        "e478cd59ee2c4137b4bc5dae8e47362c": {
          "model_module": "@jupyter-widgets/base",
          "model_module_version": "1.2.0",
          "model_name": "LayoutModel",
          "state": {
            "_model_module": "@jupyter-widgets/base",
            "_model_module_version": "1.2.0",
            "_model_name": "LayoutModel",
            "_view_count": null,
            "_view_module": "@jupyter-widgets/base",
            "_view_module_version": "1.2.0",
            "_view_name": "LayoutView",
            "align_content": null,
            "align_items": null,
            "align_self": null,
            "border": null,
            "bottom": null,
            "display": null,
            "flex": null,
            "flex_flow": null,
            "grid_area": null,
            "grid_auto_columns": null,
            "grid_auto_flow": null,
            "grid_auto_rows": null,
            "grid_column": null,
            "grid_gap": null,
            "grid_row": null,
            "grid_template_areas": null,
            "grid_template_columns": null,
            "grid_template_rows": null,
            "height": null,
            "justify_content": null,
            "justify_items": null,
            "left": null,
            "margin": null,
            "max_height": null,
            "max_width": null,
            "min_height": null,
            "min_width": null,
            "object_fit": null,
            "object_position": null,
            "order": null,
            "overflow": null,
            "overflow_x": null,
            "overflow_y": null,
            "padding": null,
            "right": null,
            "top": null,
            "visibility": null,
            "width": null
          }
        },
        "e6bc94a193c64f4ab86c6cd0403b1cd3": {
          "model_module": "@jupyter-widgets/controls",
          "model_module_version": "1.5.0",
          "model_name": "HTMLModel",
          "state": {
            "_dom_classes": [],
            "_model_module": "@jupyter-widgets/controls",
            "_model_module_version": "1.5.0",
            "_model_name": "HTMLModel",
            "_view_count": null,
            "_view_module": "@jupyter-widgets/controls",
            "_view_module_version": "1.5.0",
            "_view_name": "HTMLView",
            "description": "",
            "description_tooltip": null,
            "layout": "IPY_MODEL_0d8fe052951b44e9bbdda75c8affc106",
            "placeholder": "​",
            "style": "IPY_MODEL_78d5a792cf7f4b1db789c691bbf7add9",
            "value": "vocab.txt: 100%"
          }
        },
        "e903ea0a8d004127a677689444b9cf2e": {
          "model_module": "@jupyter-widgets/controls",
          "model_module_version": "1.5.0",
          "model_name": "DescriptionStyleModel",
          "state": {
            "_model_module": "@jupyter-widgets/controls",
            "_model_module_version": "1.5.0",
            "_model_name": "DescriptionStyleModel",
            "_view_count": null,
            "_view_module": "@jupyter-widgets/base",
            "_view_module_version": "1.2.0",
            "_view_name": "StyleView",
            "description_width": ""
          }
        },
        "ebd3f047db0840ae94633e48f3ffa3be": {
          "model_module": "@jupyter-widgets/controls",
          "model_module_version": "1.5.0",
          "model_name": "DescriptionStyleModel",
          "state": {
            "_model_module": "@jupyter-widgets/controls",
            "_model_module_version": "1.5.0",
            "_model_name": "DescriptionStyleModel",
            "_view_count": null,
            "_view_module": "@jupyter-widgets/base",
            "_view_module_version": "1.2.0",
            "_view_name": "StyleView",
            "description_width": ""
          }
        },
        "ee53290265e44d9e910825921c5bff2e": {
          "model_module": "@jupyter-widgets/base",
          "model_module_version": "1.2.0",
          "model_name": "LayoutModel",
          "state": {
            "_model_module": "@jupyter-widgets/base",
            "_model_module_version": "1.2.0",
            "_model_name": "LayoutModel",
            "_view_count": null,
            "_view_module": "@jupyter-widgets/base",
            "_view_module_version": "1.2.0",
            "_view_name": "LayoutView",
            "align_content": null,
            "align_items": null,
            "align_self": null,
            "border": null,
            "bottom": null,
            "display": null,
            "flex": null,
            "flex_flow": null,
            "grid_area": null,
            "grid_auto_columns": null,
            "grid_auto_flow": null,
            "grid_auto_rows": null,
            "grid_column": null,
            "grid_gap": null,
            "grid_row": null,
            "grid_template_areas": null,
            "grid_template_columns": null,
            "grid_template_rows": null,
            "height": null,
            "justify_content": null,
            "justify_items": null,
            "left": null,
            "margin": null,
            "max_height": null,
            "max_width": null,
            "min_height": null,
            "min_width": null,
            "object_fit": null,
            "object_position": null,
            "order": null,
            "overflow": null,
            "overflow_x": null,
            "overflow_y": null,
            "padding": null,
            "right": null,
            "top": null,
            "visibility": null,
            "width": null
          }
        },
        "ee6b2d8b9dfa4075a03ea94594aca26c": {
          "model_module": "@jupyter-widgets/controls",
          "model_module_version": "1.5.0",
          "model_name": "HTMLModel",
          "state": {
            "_dom_classes": [],
            "_model_module": "@jupyter-widgets/controls",
            "_model_module_version": "1.5.0",
            "_model_name": "HTMLModel",
            "_view_count": null,
            "_view_module": "@jupyter-widgets/controls",
            "_view_module_version": "1.5.0",
            "_view_name": "HTMLView",
            "description": "",
            "description_tooltip": null,
            "layout": "IPY_MODEL_ba0e66a27fe54dc4a471f77c824810c0",
            "placeholder": "​",
            "style": "IPY_MODEL_cf7bdac9ff914ef9a38794c3c6a8f32b",
            "value": " 461/461 [00:00&lt;00:00, 15.3kB/s]"
          }
        },
        "f1ceb5f8f7004a2e8a25665231b617d7": {
          "model_module": "@jupyter-widgets/controls",
          "model_module_version": "1.5.0",
          "model_name": "HTMLModel",
          "state": {
            "_dom_classes": [],
            "_model_module": "@jupyter-widgets/controls",
            "_model_module_version": "1.5.0",
            "_model_name": "HTMLModel",
            "_view_count": null,
            "_view_module": "@jupyter-widgets/controls",
            "_view_module_version": "1.5.0",
            "_view_name": "HTMLView",
            "description": "",
            "description_tooltip": null,
            "layout": "IPY_MODEL_b25848bbc7ee46c181271b400cffdfda",
            "placeholder": "​",
            "style": "IPY_MODEL_ebd3f047db0840ae94633e48f3ffa3be",
            "value": " 1.88G/1.88G [00:22&lt;00:00, 112MB/s]"
          }
        },
        "f1ec4c717a2b4292914597a77cce6f00": {
          "model_module": "@jupyter-widgets/base",
          "model_module_version": "1.2.0",
          "model_name": "LayoutModel",
          "state": {
            "_model_module": "@jupyter-widgets/base",
            "_model_module_version": "1.2.0",
            "_model_name": "LayoutModel",
            "_view_count": null,
            "_view_module": "@jupyter-widgets/base",
            "_view_module_version": "1.2.0",
            "_view_name": "LayoutView",
            "align_content": null,
            "align_items": null,
            "align_self": null,
            "border": null,
            "bottom": null,
            "display": null,
            "flex": null,
            "flex_flow": null,
            "grid_area": null,
            "grid_auto_columns": null,
            "grid_auto_flow": null,
            "grid_auto_rows": null,
            "grid_column": null,
            "grid_gap": null,
            "grid_row": null,
            "grid_template_areas": null,
            "grid_template_columns": null,
            "grid_template_rows": null,
            "height": null,
            "justify_content": null,
            "justify_items": null,
            "left": null,
            "margin": null,
            "max_height": null,
            "max_width": null,
            "min_height": null,
            "min_width": null,
            "object_fit": null,
            "object_position": null,
            "order": null,
            "overflow": null,
            "overflow_x": null,
            "overflow_y": null,
            "padding": null,
            "right": null,
            "top": null,
            "visibility": null,
            "width": null
          }
        },
        "f5e70d97f47146d1a24caf580d8f0fba": {
          "model_module": "@jupyter-widgets/base",
          "model_module_version": "1.2.0",
          "model_name": "LayoutModel",
          "state": {
            "_model_module": "@jupyter-widgets/base",
            "_model_module_version": "1.2.0",
            "_model_name": "LayoutModel",
            "_view_count": null,
            "_view_module": "@jupyter-widgets/base",
            "_view_module_version": "1.2.0",
            "_view_name": "LayoutView",
            "align_content": null,
            "align_items": null,
            "align_self": null,
            "border": null,
            "bottom": null,
            "display": null,
            "flex": null,
            "flex_flow": null,
            "grid_area": null,
            "grid_auto_columns": null,
            "grid_auto_flow": null,
            "grid_auto_rows": null,
            "grid_column": null,
            "grid_gap": null,
            "grid_row": null,
            "grid_template_areas": null,
            "grid_template_columns": null,
            "grid_template_rows": null,
            "height": null,
            "justify_content": null,
            "justify_items": null,
            "left": null,
            "margin": null,
            "max_height": null,
            "max_width": null,
            "min_height": null,
            "min_width": null,
            "object_fit": null,
            "object_position": null,
            "order": null,
            "overflow": null,
            "overflow_x": null,
            "overflow_y": null,
            "padding": null,
            "right": null,
            "top": null,
            "visibility": null,
            "width": null
          }
        },
        "f7f87f4fcfa14b509e386161c4256fb7": {
          "model_module": "@jupyter-widgets/base",
          "model_module_version": "1.2.0",
          "model_name": "LayoutModel",
          "state": {
            "_model_module": "@jupyter-widgets/base",
            "_model_module_version": "1.2.0",
            "_model_name": "LayoutModel",
            "_view_count": null,
            "_view_module": "@jupyter-widgets/base",
            "_view_module_version": "1.2.0",
            "_view_name": "LayoutView",
            "align_content": null,
            "align_items": null,
            "align_self": null,
            "border": null,
            "bottom": null,
            "display": null,
            "flex": null,
            "flex_flow": null,
            "grid_area": null,
            "grid_auto_columns": null,
            "grid_auto_flow": null,
            "grid_auto_rows": null,
            "grid_column": null,
            "grid_gap": null,
            "grid_row": null,
            "grid_template_areas": null,
            "grid_template_columns": null,
            "grid_template_rows": null,
            "height": null,
            "justify_content": null,
            "justify_items": null,
            "left": null,
            "margin": null,
            "max_height": null,
            "max_width": null,
            "min_height": null,
            "min_width": null,
            "object_fit": null,
            "object_position": null,
            "order": null,
            "overflow": null,
            "overflow_x": null,
            "overflow_y": null,
            "padding": null,
            "right": null,
            "top": null,
            "visibility": null,
            "width": null
          }
        },
        "f879fb2d0c2c468c9217e6cf96bb9fc4": {
          "model_module": "@jupyter-widgets/controls",
          "model_module_version": "1.5.0",
          "model_name": "HTMLModel",
          "state": {
            "_dom_classes": [],
            "_model_module": "@jupyter-widgets/controls",
            "_model_module_version": "1.5.0",
            "_model_name": "HTMLModel",
            "_view_count": null,
            "_view_module": "@jupyter-widgets/controls",
            "_view_module_version": "1.5.0",
            "_view_name": "HTMLView",
            "description": "",
            "description_tooltip": null,
            "layout": "IPY_MODEL_923797a7524042d1be3c3b6e9bff2b6b",
            "placeholder": "​",
            "style": "IPY_MODEL_42efccedb77046cdab6814ad0677379f",
            "value": " 2.36M/2.36M [00:00&lt;00:00, 7.76MB/s]"
          }
        },
        "fad5571b79d647d998914501a6b87bcb": {
          "model_module": "@jupyter-widgets/controls",
          "model_module_version": "1.5.0",
          "model_name": "HBoxModel",
          "state": {
            "_dom_classes": [],
            "_model_module": "@jupyter-widgets/controls",
            "_model_module_version": "1.5.0",
            "_model_name": "HBoxModel",
            "_view_count": null,
            "_view_module": "@jupyter-widgets/controls",
            "_view_module_version": "1.5.0",
            "_view_name": "HBoxView",
            "box_style": "",
            "children": [
              "IPY_MODEL_e6bc94a193c64f4ab86c6cd0403b1cd3",
              "IPY_MODEL_b4ab2e937bb1480194d88495e96dcb48",
              "IPY_MODEL_88ba9db88e044b2cb556b861f2fda26c"
            ],
            "layout": "IPY_MODEL_f1ec4c717a2b4292914597a77cce6f00"
          }
        },
        "fb3557f5d0804d3c9c44cd20aa94cf9f": {
          "model_module": "@jupyter-widgets/controls",
          "model_module_version": "1.5.0",
          "model_name": "HTMLModel",
          "state": {
            "_dom_classes": [],
            "_model_module": "@jupyter-widgets/controls",
            "_model_module_version": "1.5.0",
            "_model_name": "HTMLModel",
            "_view_count": null,
            "_view_module": "@jupyter-widgets/controls",
            "_view_module_version": "1.5.0",
            "_view_name": "HTMLView",
            "description": "",
            "description_tooltip": null,
            "layout": "IPY_MODEL_2213a5d87ca84989b04f88ef5a0774cc",
            "placeholder": "​",
            "style": "IPY_MODEL_cd2c157adfab4605b29d031f69db7eb4",
            "value": "pytorch_model.bin: 100%"
          }
        },
        "fb95c2a7efbc4cbd9f295ebf43d5775f": {
          "model_module": "@jupyter-widgets/controls",
          "model_module_version": "1.5.0",
          "model_name": "DescriptionStyleModel",
          "state": {
            "_model_module": "@jupyter-widgets/controls",
            "_model_module_version": "1.5.0",
            "_model_name": "DescriptionStyleModel",
            "_view_count": null,
            "_view_module": "@jupyter-widgets/base",
            "_view_module_version": "1.2.0",
            "_view_name": "StyleView",
            "description_width": ""
          }
        },
        "fe6381c886d647f79631a42a4a16ce8e": {
          "model_module": "@jupyter-widgets/controls",
          "model_module_version": "1.5.0",
          "model_name": "HTMLModel",
          "state": {
            "_dom_classes": [],
            "_model_module": "@jupyter-widgets/controls",
            "_model_module_version": "1.5.0",
            "_model_name": "HTMLModel",
            "_view_count": null,
            "_view_module": "@jupyter-widgets/controls",
            "_view_module_version": "1.5.0",
            "_view_name": "HTMLView",
            "description": "",
            "description_tooltip": null,
            "layout": "IPY_MODEL_8e7aa11a2f5044958955445585759264",
            "placeholder": "​",
            "style": "IPY_MODEL_126e302df32a48568aecf213ccff6064",
            "value": " 804/804 [00:00&lt;00:00, 10.4kB/s]"
          }
        }
      }
    }
  },
  "nbformat": 4,
  "nbformat_minor": 0
}
